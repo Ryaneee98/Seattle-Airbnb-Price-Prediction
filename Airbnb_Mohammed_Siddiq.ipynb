{
 "cells": [
  {
   "cell_type": "markdown",
   "metadata": {},
   "source": [
    "## Importing Necessary Libraries"
   ]
  },
  {
   "cell_type": "code",
   "execution_count": 926,
   "metadata": {},
   "outputs": [],
   "source": [
    "import numpy as np\n",
    "import pandas as pd\n",
    "import matplotlib.pyplot as plt\n",
    "from scipy import stats\n",
    "import seaborn as sns\n",
    "from math import sqrt\n",
    "%matplotlib inline\n",
    "\n",
    "# To Display all the columns even if there are huge number of columns\n",
    "pd.pandas.set_option('display.max_columns',None)\n",
    "\n",
    "# Model Building\n",
    "from sklearn.linear_model import LinearRegression  # Import Linear Regression model\n",
    "from sklearn.ensemble import RandomForestRegressor\n",
    "from sklearn.model_selection import GridSearchCV\n",
    "# !pip install xgboost\n",
    "#from xgboost import XGBRegressor\n",
    "\n",
    "from sklearn.metrics import r2_score  # For find accuracy with R2 Score\n",
    "from sklearn.metrics import mean_squared_error"
   ]
  },
  {
   "cell_type": "markdown",
   "metadata": {},
   "source": [
    "## Importing Training nd Testing Dataset"
   ]
  },
  {
   "cell_type": "code",
   "execution_count": 791,
   "metadata": {},
   "outputs": [],
   "source": [
    "df_train=pd.read_csv('price_train.csv')\n",
    "df_test=pd.read_csv('price_test.csv')"
   ]
  },
  {
   "cell_type": "markdown",
   "metadata": {},
   "source": [
    "## Viewing the data"
   ]
  },
  {
   "cell_type": "code",
   "execution_count": 792,
   "metadata": {},
   "outputs": [
    {
     "data": {
      "text/html": [
       "<div>\n",
       "<style scoped>\n",
       "    .dataframe tbody tr th:only-of-type {\n",
       "        vertical-align: middle;\n",
       "    }\n",
       "\n",
       "    .dataframe tbody tr th {\n",
       "        vertical-align: top;\n",
       "    }\n",
       "\n",
       "    .dataframe thead th {\n",
       "        text-align: right;\n",
       "    }\n",
       "</style>\n",
       "<table border=\"1\" class=\"dataframe\">\n",
       "  <thead>\n",
       "    <tr style=\"text-align: right;\">\n",
       "      <th></th>\n",
       "      <th>X1</th>\n",
       "      <th>id</th>\n",
       "      <th>host_is_superhost</th>\n",
       "      <th>host_response_rate</th>\n",
       "      <th>host_response_time</th>\n",
       "      <th>host_listings_count</th>\n",
       "      <th>host_identity_verified</th>\n",
       "      <th>accommodates</th>\n",
       "      <th>neighbourhood_group_cleansed</th>\n",
       "      <th>property_type</th>\n",
       "      <th>room_type</th>\n",
       "      <th>latitude</th>\n",
       "      <th>longitude</th>\n",
       "      <th>guests_included</th>\n",
       "      <th>bathrooms</th>\n",
       "      <th>bedrooms</th>\n",
       "      <th>beds</th>\n",
       "      <th>bed_type</th>\n",
       "      <th>amenities</th>\n",
       "      <th>cleaning_fee</th>\n",
       "      <th>minimum_nights</th>\n",
       "      <th>maximum_nights</th>\n",
       "      <th>instant_bookable</th>\n",
       "      <th>cancellation_policy</th>\n",
       "      <th>price</th>\n",
       "    </tr>\n",
       "  </thead>\n",
       "  <tbody>\n",
       "    <tr>\n",
       "      <th>0</th>\n",
       "      <td>5460</td>\n",
       "      <td>22146017</td>\n",
       "      <td>False</td>\n",
       "      <td>99%</td>\n",
       "      <td>within an hour</td>\n",
       "      <td>521</td>\n",
       "      <td>False</td>\n",
       "      <td>5</td>\n",
       "      <td>Downtown</td>\n",
       "      <td>Apartment</td>\n",
       "      <td>Entire home/apt</td>\n",
       "      <td>47.612163</td>\n",
       "      <td>-122.338239</td>\n",
       "      <td>4</td>\n",
       "      <td>2.0</td>\n",
       "      <td>2</td>\n",
       "      <td>2</td>\n",
       "      <td>Real Bed</td>\n",
       "      <td>{TV,Internet,Wifi,Kitchen,Elevator,Heating,\"Fa...</td>\n",
       "      <td>$129.00</td>\n",
       "      <td>2</td>\n",
       "      <td>1125</td>\n",
       "      <td>True</td>\n",
       "      <td>strict</td>\n",
       "      <td>$279.00</td>\n",
       "    </tr>\n",
       "    <tr>\n",
       "      <th>1</th>\n",
       "      <td>4143</td>\n",
       "      <td>18638163</td>\n",
       "      <td>True</td>\n",
       "      <td>100%</td>\n",
       "      <td>within an hour</td>\n",
       "      <td>1</td>\n",
       "      <td>True</td>\n",
       "      <td>2</td>\n",
       "      <td>Queen Anne</td>\n",
       "      <td>House</td>\n",
       "      <td>Entire home/apt</td>\n",
       "      <td>47.640827</td>\n",
       "      <td>-122.355248</td>\n",
       "      <td>1</td>\n",
       "      <td>1.0</td>\n",
       "      <td>0</td>\n",
       "      <td>1</td>\n",
       "      <td>Real Bed</td>\n",
       "      <td>{TV,\"Cable TV\",Internet,Wifi,\"Air conditioning...</td>\n",
       "      <td>$50.00</td>\n",
       "      <td>2</td>\n",
       "      <td>30</td>\n",
       "      <td>True</td>\n",
       "      <td>moderate</td>\n",
       "      <td>$99.00</td>\n",
       "    </tr>\n",
       "    <tr>\n",
       "      <th>2</th>\n",
       "      <td>5802</td>\n",
       "      <td>22734110</td>\n",
       "      <td>True</td>\n",
       "      <td>100%</td>\n",
       "      <td>within an hour</td>\n",
       "      <td>1</td>\n",
       "      <td>False</td>\n",
       "      <td>4</td>\n",
       "      <td>Rainier Valley</td>\n",
       "      <td>Guest suite</td>\n",
       "      <td>Entire home/apt</td>\n",
       "      <td>47.549007</td>\n",
       "      <td>-122.273951</td>\n",
       "      <td>2</td>\n",
       "      <td>1.0</td>\n",
       "      <td>1</td>\n",
       "      <td>2</td>\n",
       "      <td>Real Bed</td>\n",
       "      <td>{TV,Wifi,\"Air conditioning\",Kitchen,\"Free stre...</td>\n",
       "      <td>$25.00</td>\n",
       "      <td>2</td>\n",
       "      <td>28</td>\n",
       "      <td>False</td>\n",
       "      <td>moderate</td>\n",
       "      <td>$75.00</td>\n",
       "    </tr>\n",
       "    <tr>\n",
       "      <th>3</th>\n",
       "      <td>776</td>\n",
       "      <td>3946674</td>\n",
       "      <td>True</td>\n",
       "      <td>90%</td>\n",
       "      <td>within a few hours</td>\n",
       "      <td>1</td>\n",
       "      <td>True</td>\n",
       "      <td>2</td>\n",
       "      <td>Central Area</td>\n",
       "      <td>House</td>\n",
       "      <td>Private room</td>\n",
       "      <td>47.601922</td>\n",
       "      <td>-122.307979</td>\n",
       "      <td>1</td>\n",
       "      <td>1.0</td>\n",
       "      <td>1</td>\n",
       "      <td>1</td>\n",
       "      <td>Real Bed</td>\n",
       "      <td>{Internet,Wifi,Kitchen,\"Pets live on this prop...</td>\n",
       "      <td>$0.00</td>\n",
       "      <td>2</td>\n",
       "      <td>30</td>\n",
       "      <td>False</td>\n",
       "      <td>flexible</td>\n",
       "      <td>$70.00</td>\n",
       "    </tr>\n",
       "    <tr>\n",
       "      <th>4</th>\n",
       "      <td>6064</td>\n",
       "      <td>23610186</td>\n",
       "      <td>True</td>\n",
       "      <td>100%</td>\n",
       "      <td>within an hour</td>\n",
       "      <td>4</td>\n",
       "      <td>True</td>\n",
       "      <td>8</td>\n",
       "      <td>Beacon Hill</td>\n",
       "      <td>House</td>\n",
       "      <td>Entire home/apt</td>\n",
       "      <td>47.552311</td>\n",
       "      <td>-122.293409</td>\n",
       "      <td>6</td>\n",
       "      <td>2.5</td>\n",
       "      <td>3</td>\n",
       "      <td>3</td>\n",
       "      <td>Real Bed</td>\n",
       "      <td>{TV,Wifi,Kitchen,\"Free parking on premises\",\"S...</td>\n",
       "      <td>$99.00</td>\n",
       "      <td>2</td>\n",
       "      <td>12</td>\n",
       "      <td>False</td>\n",
       "      <td>flexible</td>\n",
       "      <td>$242.00</td>\n",
       "    </tr>\n",
       "    <tr>\n",
       "      <th>...</th>\n",
       "      <td>...</td>\n",
       "      <td>...</td>\n",
       "      <td>...</td>\n",
       "      <td>...</td>\n",
       "      <td>...</td>\n",
       "      <td>...</td>\n",
       "      <td>...</td>\n",
       "      <td>...</td>\n",
       "      <td>...</td>\n",
       "      <td>...</td>\n",
       "      <td>...</td>\n",
       "      <td>...</td>\n",
       "      <td>...</td>\n",
       "      <td>...</td>\n",
       "      <td>...</td>\n",
       "      <td>...</td>\n",
       "      <td>...</td>\n",
       "      <td>...</td>\n",
       "      <td>...</td>\n",
       "      <td>...</td>\n",
       "      <td>...</td>\n",
       "      <td>...</td>\n",
       "      <td>...</td>\n",
       "      <td>...</td>\n",
       "      <td>...</td>\n",
       "    </tr>\n",
       "    <tr>\n",
       "      <th>3461</th>\n",
       "      <td>5550</td>\n",
       "      <td>22208755</td>\n",
       "      <td>False</td>\n",
       "      <td>99%</td>\n",
       "      <td>within an hour</td>\n",
       "      <td>521</td>\n",
       "      <td>False</td>\n",
       "      <td>5</td>\n",
       "      <td>Downtown</td>\n",
       "      <td>Apartment</td>\n",
       "      <td>Entire home/apt</td>\n",
       "      <td>47.610532</td>\n",
       "      <td>-122.342332</td>\n",
       "      <td>4</td>\n",
       "      <td>1.0</td>\n",
       "      <td>2</td>\n",
       "      <td>2</td>\n",
       "      <td>Real Bed</td>\n",
       "      <td>{TV,Internet,Wifi,\"Air conditioning\",Kitchen,G...</td>\n",
       "      <td>$129.00</td>\n",
       "      <td>2</td>\n",
       "      <td>1125</td>\n",
       "      <td>True</td>\n",
       "      <td>strict</td>\n",
       "      <td>$350.00</td>\n",
       "    </tr>\n",
       "    <tr>\n",
       "      <th>3462</th>\n",
       "      <td>7391</td>\n",
       "      <td>28049926</td>\n",
       "      <td>False</td>\n",
       "      <td>100%</td>\n",
       "      <td>within an hour</td>\n",
       "      <td>123</td>\n",
       "      <td>False</td>\n",
       "      <td>1</td>\n",
       "      <td>Capitol Hill</td>\n",
       "      <td>House</td>\n",
       "      <td>Shared room</td>\n",
       "      <td>47.642069</td>\n",
       "      <td>-122.304120</td>\n",
       "      <td>1</td>\n",
       "      <td>1.0</td>\n",
       "      <td>1</td>\n",
       "      <td>1</td>\n",
       "      <td>Real Bed</td>\n",
       "      <td>{Wifi,Kitchen,Heating,Essentials,Shampoo,Hange...</td>\n",
       "      <td>$15.00</td>\n",
       "      <td>1</td>\n",
       "      <td>21</td>\n",
       "      <td>True</td>\n",
       "      <td>strict_14_with_grace_period</td>\n",
       "      <td>$30.00</td>\n",
       "    </tr>\n",
       "    <tr>\n",
       "      <th>3463</th>\n",
       "      <td>6056</td>\n",
       "      <td>23567364</td>\n",
       "      <td>True</td>\n",
       "      <td>100%</td>\n",
       "      <td>within an hour</td>\n",
       "      <td>4</td>\n",
       "      <td>False</td>\n",
       "      <td>2</td>\n",
       "      <td>Other neighborhoods</td>\n",
       "      <td>House</td>\n",
       "      <td>Private room</td>\n",
       "      <td>47.716853</td>\n",
       "      <td>-122.353945</td>\n",
       "      <td>1</td>\n",
       "      <td>2.0</td>\n",
       "      <td>1</td>\n",
       "      <td>1</td>\n",
       "      <td>Real Bed</td>\n",
       "      <td>{Wifi,Kitchen,\"Free parking on premises\",\"Pets...</td>\n",
       "      <td>$22.00</td>\n",
       "      <td>2</td>\n",
       "      <td>30</td>\n",
       "      <td>True</td>\n",
       "      <td>flexible</td>\n",
       "      <td>$30.00</td>\n",
       "    </tr>\n",
       "    <tr>\n",
       "      <th>3464</th>\n",
       "      <td>1277</td>\n",
       "      <td>6728419</td>\n",
       "      <td>True</td>\n",
       "      <td>100%</td>\n",
       "      <td>within a few hours</td>\n",
       "      <td>1</td>\n",
       "      <td>False</td>\n",
       "      <td>2</td>\n",
       "      <td>Other neighborhoods</td>\n",
       "      <td>Guest suite</td>\n",
       "      <td>Entire home/apt</td>\n",
       "      <td>47.672343</td>\n",
       "      <td>-122.283291</td>\n",
       "      <td>1</td>\n",
       "      <td>1.0</td>\n",
       "      <td>1</td>\n",
       "      <td>1</td>\n",
       "      <td>Real Bed</td>\n",
       "      <td>{TV,Wifi,\"Free parking on premises\",\"Indoor fi...</td>\n",
       "      <td>$25.00</td>\n",
       "      <td>1</td>\n",
       "      <td>1125</td>\n",
       "      <td>False</td>\n",
       "      <td>flexible</td>\n",
       "      <td>$95.00</td>\n",
       "    </tr>\n",
       "    <tr>\n",
       "      <th>3465</th>\n",
       "      <td>6035</td>\n",
       "      <td>23483176</td>\n",
       "      <td>False</td>\n",
       "      <td>100%</td>\n",
       "      <td>within an hour</td>\n",
       "      <td>2</td>\n",
       "      <td>False</td>\n",
       "      <td>2</td>\n",
       "      <td>Rainier Valley</td>\n",
       "      <td>Cottage</td>\n",
       "      <td>Entire home/apt</td>\n",
       "      <td>47.557571</td>\n",
       "      <td>-122.281461</td>\n",
       "      <td>2</td>\n",
       "      <td>1.0</td>\n",
       "      <td>1</td>\n",
       "      <td>1</td>\n",
       "      <td>Real Bed</td>\n",
       "      <td>{Wifi,Kitchen,\"Free street parking\",Heating,\"S...</td>\n",
       "      <td>$59.00</td>\n",
       "      <td>3</td>\n",
       "      <td>1125</td>\n",
       "      <td>False</td>\n",
       "      <td>moderate</td>\n",
       "      <td>$100.00</td>\n",
       "    </tr>\n",
       "  </tbody>\n",
       "</table>\n",
       "<p>3466 rows × 25 columns</p>\n",
       "</div>"
      ],
      "text/plain": [
       "        X1        id  host_is_superhost host_response_rate  \\\n",
       "0     5460  22146017              False                99%   \n",
       "1     4143  18638163               True               100%   \n",
       "2     5802  22734110               True               100%   \n",
       "3      776   3946674               True                90%   \n",
       "4     6064  23610186               True               100%   \n",
       "...    ...       ...                ...                ...   \n",
       "3461  5550  22208755              False                99%   \n",
       "3462  7391  28049926              False               100%   \n",
       "3463  6056  23567364               True               100%   \n",
       "3464  1277   6728419               True               100%   \n",
       "3465  6035  23483176              False               100%   \n",
       "\n",
       "      host_response_time  host_listings_count  host_identity_verified  \\\n",
       "0         within an hour                  521                   False   \n",
       "1         within an hour                    1                    True   \n",
       "2         within an hour                    1                   False   \n",
       "3     within a few hours                    1                    True   \n",
       "4         within an hour                    4                    True   \n",
       "...                  ...                  ...                     ...   \n",
       "3461      within an hour                  521                   False   \n",
       "3462      within an hour                  123                   False   \n",
       "3463      within an hour                    4                   False   \n",
       "3464  within a few hours                    1                   False   \n",
       "3465      within an hour                    2                   False   \n",
       "\n",
       "      accommodates neighbourhood_group_cleansed property_type  \\\n",
       "0                5                     Downtown     Apartment   \n",
       "1                2                   Queen Anne         House   \n",
       "2                4               Rainier Valley   Guest suite   \n",
       "3                2                 Central Area         House   \n",
       "4                8                  Beacon Hill         House   \n",
       "...            ...                          ...           ...   \n",
       "3461             5                     Downtown     Apartment   \n",
       "3462             1                 Capitol Hill         House   \n",
       "3463             2          Other neighborhoods         House   \n",
       "3464             2          Other neighborhoods   Guest suite   \n",
       "3465             2               Rainier Valley       Cottage   \n",
       "\n",
       "            room_type   latitude   longitude  guests_included  bathrooms  \\\n",
       "0     Entire home/apt  47.612163 -122.338239                4        2.0   \n",
       "1     Entire home/apt  47.640827 -122.355248                1        1.0   \n",
       "2     Entire home/apt  47.549007 -122.273951                2        1.0   \n",
       "3        Private room  47.601922 -122.307979                1        1.0   \n",
       "4     Entire home/apt  47.552311 -122.293409                6        2.5   \n",
       "...               ...        ...         ...              ...        ...   \n",
       "3461  Entire home/apt  47.610532 -122.342332                4        1.0   \n",
       "3462      Shared room  47.642069 -122.304120                1        1.0   \n",
       "3463     Private room  47.716853 -122.353945                1        2.0   \n",
       "3464  Entire home/apt  47.672343 -122.283291                1        1.0   \n",
       "3465  Entire home/apt  47.557571 -122.281461                2        1.0   \n",
       "\n",
       "      bedrooms  beds  bed_type  \\\n",
       "0            2     2  Real Bed   \n",
       "1            0     1  Real Bed   \n",
       "2            1     2  Real Bed   \n",
       "3            1     1  Real Bed   \n",
       "4            3     3  Real Bed   \n",
       "...        ...   ...       ...   \n",
       "3461         2     2  Real Bed   \n",
       "3462         1     1  Real Bed   \n",
       "3463         1     1  Real Bed   \n",
       "3464         1     1  Real Bed   \n",
       "3465         1     1  Real Bed   \n",
       "\n",
       "                                              amenities cleaning_fee  \\\n",
       "0     {TV,Internet,Wifi,Kitchen,Elevator,Heating,\"Fa...      $129.00   \n",
       "1     {TV,\"Cable TV\",Internet,Wifi,\"Air conditioning...       $50.00   \n",
       "2     {TV,Wifi,\"Air conditioning\",Kitchen,\"Free stre...       $25.00   \n",
       "3     {Internet,Wifi,Kitchen,\"Pets live on this prop...        $0.00   \n",
       "4     {TV,Wifi,Kitchen,\"Free parking on premises\",\"S...       $99.00   \n",
       "...                                                 ...          ...   \n",
       "3461  {TV,Internet,Wifi,\"Air conditioning\",Kitchen,G...      $129.00   \n",
       "3462  {Wifi,Kitchen,Heating,Essentials,Shampoo,Hange...       $15.00   \n",
       "3463  {Wifi,Kitchen,\"Free parking on premises\",\"Pets...       $22.00   \n",
       "3464  {TV,Wifi,\"Free parking on premises\",\"Indoor fi...       $25.00   \n",
       "3465  {Wifi,Kitchen,\"Free street parking\",Heating,\"S...       $59.00   \n",
       "\n",
       "      minimum_nights  maximum_nights  instant_bookable  \\\n",
       "0                  2            1125              True   \n",
       "1                  2              30              True   \n",
       "2                  2              28             False   \n",
       "3                  2              30             False   \n",
       "4                  2              12             False   \n",
       "...              ...             ...               ...   \n",
       "3461               2            1125              True   \n",
       "3462               1              21              True   \n",
       "3463               2              30              True   \n",
       "3464               1            1125             False   \n",
       "3465               3            1125             False   \n",
       "\n",
       "              cancellation_policy    price  \n",
       "0                          strict  $279.00  \n",
       "1                        moderate   $99.00  \n",
       "2                        moderate   $75.00  \n",
       "3                        flexible   $70.00  \n",
       "4                        flexible  $242.00  \n",
       "...                           ...      ...  \n",
       "3461                       strict  $350.00  \n",
       "3462  strict_14_with_grace_period   $30.00  \n",
       "3463                     flexible   $30.00  \n",
       "3464                     flexible   $95.00  \n",
       "3465                     moderate  $100.00  \n",
       "\n",
       "[3466 rows x 25 columns]"
      ]
     },
     "execution_count": 792,
     "metadata": {},
     "output_type": "execute_result"
    }
   ],
   "source": [
    "df_train"
   ]
  },
  {
   "cell_type": "code",
   "execution_count": 793,
   "metadata": {},
   "outputs": [
    {
     "data": {
      "text/html": [
       "<div>\n",
       "<style scoped>\n",
       "    .dataframe tbody tr th:only-of-type {\n",
       "        vertical-align: middle;\n",
       "    }\n",
       "\n",
       "    .dataframe tbody tr th {\n",
       "        vertical-align: top;\n",
       "    }\n",
       "\n",
       "    .dataframe thead th {\n",
       "        text-align: right;\n",
       "    }\n",
       "</style>\n",
       "<table border=\"1\" class=\"dataframe\">\n",
       "  <thead>\n",
       "    <tr style=\"text-align: right;\">\n",
       "      <th></th>\n",
       "      <th>X1</th>\n",
       "      <th>id</th>\n",
       "      <th>host_is_superhost</th>\n",
       "      <th>host_response_rate</th>\n",
       "      <th>host_response_time</th>\n",
       "      <th>host_listings_count</th>\n",
       "      <th>host_identity_verified</th>\n",
       "      <th>accommodates</th>\n",
       "      <th>neighbourhood_group_cleansed</th>\n",
       "      <th>property_type</th>\n",
       "      <th>room_type</th>\n",
       "      <th>latitude</th>\n",
       "      <th>longitude</th>\n",
       "      <th>guests_included</th>\n",
       "      <th>bathrooms</th>\n",
       "      <th>bedrooms</th>\n",
       "      <th>beds</th>\n",
       "      <th>bed_type</th>\n",
       "      <th>amenities</th>\n",
       "      <th>cleaning_fee</th>\n",
       "      <th>minimum_nights</th>\n",
       "      <th>maximum_nights</th>\n",
       "      <th>instant_bookable</th>\n",
       "      <th>cancellation_policy</th>\n",
       "    </tr>\n",
       "  </thead>\n",
       "  <tbody>\n",
       "    <tr>\n",
       "      <th>0</th>\n",
       "      <td>130</td>\n",
       "      <td>392779</td>\n",
       "      <td>False</td>\n",
       "      <td>90%</td>\n",
       "      <td>within an hour</td>\n",
       "      <td>1</td>\n",
       "      <td>True</td>\n",
       "      <td>4</td>\n",
       "      <td>Beacon Hill</td>\n",
       "      <td>Guest suite</td>\n",
       "      <td>Entire home/apt</td>\n",
       "      <td>47.575769</td>\n",
       "      <td>-122.316362</td>\n",
       "      <td>2</td>\n",
       "      <td>1.0</td>\n",
       "      <td>2</td>\n",
       "      <td>2</td>\n",
       "      <td>Real Bed</td>\n",
       "      <td>{TV,Internet,Wifi,Kitchen,\"Free street parking...</td>\n",
       "      <td>$85.00</td>\n",
       "      <td>3</td>\n",
       "      <td>300</td>\n",
       "      <td>True</td>\n",
       "      <td>moderate</td>\n",
       "    </tr>\n",
       "    <tr>\n",
       "      <th>1</th>\n",
       "      <td>2425</td>\n",
       "      <td>12456183</td>\n",
       "      <td>True</td>\n",
       "      <td>86%</td>\n",
       "      <td>within a day</td>\n",
       "      <td>1</td>\n",
       "      <td>False</td>\n",
       "      <td>4</td>\n",
       "      <td>Lake City</td>\n",
       "      <td>Guest suite</td>\n",
       "      <td>Entire home/apt</td>\n",
       "      <td>47.711951</td>\n",
       "      <td>-122.302355</td>\n",
       "      <td>1</td>\n",
       "      <td>1.0</td>\n",
       "      <td>1</td>\n",
       "      <td>2</td>\n",
       "      <td>Real Bed</td>\n",
       "      <td>{TV,Wifi,\"Free parking on premises\",\"Pets allo...</td>\n",
       "      <td>$40.00</td>\n",
       "      <td>2</td>\n",
       "      <td>1125</td>\n",
       "      <td>True</td>\n",
       "      <td>moderate</td>\n",
       "    </tr>\n",
       "    <tr>\n",
       "      <th>2</th>\n",
       "      <td>432</td>\n",
       "      <td>1851863</td>\n",
       "      <td>True</td>\n",
       "      <td>100%</td>\n",
       "      <td>within an hour</td>\n",
       "      <td>1</td>\n",
       "      <td>True</td>\n",
       "      <td>2</td>\n",
       "      <td>Northgate</td>\n",
       "      <td>Apartment</td>\n",
       "      <td>Entire home/apt</td>\n",
       "      <td>47.697103</td>\n",
       "      <td>-122.344556</td>\n",
       "      <td>1</td>\n",
       "      <td>1.0</td>\n",
       "      <td>1</td>\n",
       "      <td>1</td>\n",
       "      <td>Real Bed</td>\n",
       "      <td>{Wifi,Kitchen,\"Free parking on premises\",Heati...</td>\n",
       "      <td>$150.00</td>\n",
       "      <td>5</td>\n",
       "      <td>120</td>\n",
       "      <td>False</td>\n",
       "      <td>strict_14_with_grace_period</td>\n",
       "    </tr>\n",
       "    <tr>\n",
       "      <th>3</th>\n",
       "      <td>5994</td>\n",
       "      <td>23309878</td>\n",
       "      <td>True</td>\n",
       "      <td>100%</td>\n",
       "      <td>within an hour</td>\n",
       "      <td>2</td>\n",
       "      <td>True</td>\n",
       "      <td>2</td>\n",
       "      <td>Downtown</td>\n",
       "      <td>Apartment</td>\n",
       "      <td>Entire home/apt</td>\n",
       "      <td>47.612364</td>\n",
       "      <td>-122.349425</td>\n",
       "      <td>1</td>\n",
       "      <td>1.0</td>\n",
       "      <td>1</td>\n",
       "      <td>1</td>\n",
       "      <td>Real Bed</td>\n",
       "      <td>{TV,Wifi,\"Air conditioning\",Kitchen,\"Paid park...</td>\n",
       "      <td>$75.00</td>\n",
       "      <td>1</td>\n",
       "      <td>30</td>\n",
       "      <td>False</td>\n",
       "      <td>strict_14_with_grace_period</td>\n",
       "    </tr>\n",
       "    <tr>\n",
       "      <th>4</th>\n",
       "      <td>2110</td>\n",
       "      <td>10768347</td>\n",
       "      <td>False</td>\n",
       "      <td>100%</td>\n",
       "      <td>within an hour</td>\n",
       "      <td>1</td>\n",
       "      <td>False</td>\n",
       "      <td>2</td>\n",
       "      <td>Other neighborhoods</td>\n",
       "      <td>House</td>\n",
       "      <td>Private room</td>\n",
       "      <td>47.687264</td>\n",
       "      <td>-122.313444</td>\n",
       "      <td>1</td>\n",
       "      <td>1.0</td>\n",
       "      <td>1</td>\n",
       "      <td>1</td>\n",
       "      <td>Real Bed</td>\n",
       "      <td>{TV,Internet,Wifi,\"Air conditioning\",Kitchen,\"...</td>\n",
       "      <td>0</td>\n",
       "      <td>1</td>\n",
       "      <td>3</td>\n",
       "      <td>False</td>\n",
       "      <td>flexible</td>\n",
       "    </tr>\n",
       "    <tr>\n",
       "      <th>...</th>\n",
       "      <td>...</td>\n",
       "      <td>...</td>\n",
       "      <td>...</td>\n",
       "      <td>...</td>\n",
       "      <td>...</td>\n",
       "      <td>...</td>\n",
       "      <td>...</td>\n",
       "      <td>...</td>\n",
       "      <td>...</td>\n",
       "      <td>...</td>\n",
       "      <td>...</td>\n",
       "      <td>...</td>\n",
       "      <td>...</td>\n",
       "      <td>...</td>\n",
       "      <td>...</td>\n",
       "      <td>...</td>\n",
       "      <td>...</td>\n",
       "      <td>...</td>\n",
       "      <td>...</td>\n",
       "      <td>...</td>\n",
       "      <td>...</td>\n",
       "      <td>...</td>\n",
       "      <td>...</td>\n",
       "      <td>...</td>\n",
       "    </tr>\n",
       "    <tr>\n",
       "      <th>1729</th>\n",
       "      <td>4349</td>\n",
       "      <td>19350610</td>\n",
       "      <td>False</td>\n",
       "      <td>92%</td>\n",
       "      <td>within an hour</td>\n",
       "      <td>51</td>\n",
       "      <td>True</td>\n",
       "      <td>3</td>\n",
       "      <td>University District</td>\n",
       "      <td>Apartment</td>\n",
       "      <td>Entire home/apt</td>\n",
       "      <td>47.658539</td>\n",
       "      <td>-122.316761</td>\n",
       "      <td>1</td>\n",
       "      <td>1.0</td>\n",
       "      <td>1</td>\n",
       "      <td>1</td>\n",
       "      <td>Real Bed</td>\n",
       "      <td>{TV,Wifi,Kitchen,\"Free parking on premises\",\"P...</td>\n",
       "      <td>$60.00</td>\n",
       "      <td>2</td>\n",
       "      <td>1125</td>\n",
       "      <td>False</td>\n",
       "      <td>moderate</td>\n",
       "    </tr>\n",
       "    <tr>\n",
       "      <th>1730</th>\n",
       "      <td>1580</td>\n",
       "      <td>7886656</td>\n",
       "      <td>True</td>\n",
       "      <td>100%</td>\n",
       "      <td>within an hour</td>\n",
       "      <td>2</td>\n",
       "      <td>True</td>\n",
       "      <td>4</td>\n",
       "      <td>West Seattle</td>\n",
       "      <td>Apartment</td>\n",
       "      <td>Entire home/apt</td>\n",
       "      <td>47.559256</td>\n",
       "      <td>-122.384556</td>\n",
       "      <td>1</td>\n",
       "      <td>1.0</td>\n",
       "      <td>2</td>\n",
       "      <td>2</td>\n",
       "      <td>Real Bed</td>\n",
       "      <td>{TV,\"Cable TV\",Internet,Wifi,\"Wheelchair acces...</td>\n",
       "      <td>$50.00</td>\n",
       "      <td>2</td>\n",
       "      <td>29</td>\n",
       "      <td>True</td>\n",
       "      <td>moderate</td>\n",
       "    </tr>\n",
       "    <tr>\n",
       "      <th>1731</th>\n",
       "      <td>679</td>\n",
       "      <td>3535171</td>\n",
       "      <td>True</td>\n",
       "      <td>100%</td>\n",
       "      <td>within an hour</td>\n",
       "      <td>2</td>\n",
       "      <td>True</td>\n",
       "      <td>2</td>\n",
       "      <td>Other neighborhoods</td>\n",
       "      <td>House</td>\n",
       "      <td>Private room</td>\n",
       "      <td>47.687966</td>\n",
       "      <td>-122.352905</td>\n",
       "      <td>1</td>\n",
       "      <td>1.0</td>\n",
       "      <td>1</td>\n",
       "      <td>1</td>\n",
       "      <td>Real Bed</td>\n",
       "      <td>{TV,Internet,Wifi,\"Pets live on this property\"...</td>\n",
       "      <td>$25.00</td>\n",
       "      <td>1</td>\n",
       "      <td>29</td>\n",
       "      <td>False</td>\n",
       "      <td>strict_14_with_grace_period</td>\n",
       "    </tr>\n",
       "    <tr>\n",
       "      <th>1732</th>\n",
       "      <td>7360</td>\n",
       "      <td>27930170</td>\n",
       "      <td>False</td>\n",
       "      <td>100%</td>\n",
       "      <td>within an hour</td>\n",
       "      <td>1</td>\n",
       "      <td>False</td>\n",
       "      <td>4</td>\n",
       "      <td>Central Area</td>\n",
       "      <td>Guest suite</td>\n",
       "      <td>Entire home/apt</td>\n",
       "      <td>47.615843</td>\n",
       "      <td>-122.299203</td>\n",
       "      <td>2</td>\n",
       "      <td>1.0</td>\n",
       "      <td>1</td>\n",
       "      <td>2</td>\n",
       "      <td>Real Bed</td>\n",
       "      <td>{Wifi,Kitchen,\"Free parking on premises\",\"Free...</td>\n",
       "      <td>$75.00</td>\n",
       "      <td>3</td>\n",
       "      <td>1125</td>\n",
       "      <td>True</td>\n",
       "      <td>strict_14_with_grace_period</td>\n",
       "    </tr>\n",
       "    <tr>\n",
       "      <th>1733</th>\n",
       "      <td>4685</td>\n",
       "      <td>20256234</td>\n",
       "      <td>True</td>\n",
       "      <td>100%</td>\n",
       "      <td>within an hour</td>\n",
       "      <td>2</td>\n",
       "      <td>False</td>\n",
       "      <td>6</td>\n",
       "      <td>Northgate</td>\n",
       "      <td>House</td>\n",
       "      <td>Entire home/apt</td>\n",
       "      <td>47.730638</td>\n",
       "      <td>-122.329604</td>\n",
       "      <td>4</td>\n",
       "      <td>2.0</td>\n",
       "      <td>3</td>\n",
       "      <td>3</td>\n",
       "      <td>Real Bed</td>\n",
       "      <td>{TV,\"Cable TV\",Wifi,\"Air conditioning\",Kitchen...</td>\n",
       "      <td>$100.00</td>\n",
       "      <td>3</td>\n",
       "      <td>1125</td>\n",
       "      <td>True</td>\n",
       "      <td>strict_14_with_grace_period</td>\n",
       "    </tr>\n",
       "  </tbody>\n",
       "</table>\n",
       "<p>1734 rows × 24 columns</p>\n",
       "</div>"
      ],
      "text/plain": [
       "        X1        id  host_is_superhost host_response_rate host_response_time  \\\n",
       "0      130    392779              False                90%     within an hour   \n",
       "1     2425  12456183               True                86%       within a day   \n",
       "2      432   1851863               True               100%     within an hour   \n",
       "3     5994  23309878               True               100%     within an hour   \n",
       "4     2110  10768347              False               100%     within an hour   \n",
       "...    ...       ...                ...                ...                ...   \n",
       "1729  4349  19350610              False                92%     within an hour   \n",
       "1730  1580   7886656               True               100%     within an hour   \n",
       "1731   679   3535171               True               100%     within an hour   \n",
       "1732  7360  27930170              False               100%     within an hour   \n",
       "1733  4685  20256234               True               100%     within an hour   \n",
       "\n",
       "      host_listings_count  host_identity_verified  accommodates  \\\n",
       "0                       1                    True             4   \n",
       "1                       1                   False             4   \n",
       "2                       1                    True             2   \n",
       "3                       2                    True             2   \n",
       "4                       1                   False             2   \n",
       "...                   ...                     ...           ...   \n",
       "1729                   51                    True             3   \n",
       "1730                    2                    True             4   \n",
       "1731                    2                    True             2   \n",
       "1732                    1                   False             4   \n",
       "1733                    2                   False             6   \n",
       "\n",
       "     neighbourhood_group_cleansed property_type        room_type   latitude  \\\n",
       "0                     Beacon Hill   Guest suite  Entire home/apt  47.575769   \n",
       "1                       Lake City   Guest suite  Entire home/apt  47.711951   \n",
       "2                       Northgate     Apartment  Entire home/apt  47.697103   \n",
       "3                        Downtown     Apartment  Entire home/apt  47.612364   \n",
       "4             Other neighborhoods         House     Private room  47.687264   \n",
       "...                           ...           ...              ...        ...   \n",
       "1729          University District     Apartment  Entire home/apt  47.658539   \n",
       "1730                 West Seattle     Apartment  Entire home/apt  47.559256   \n",
       "1731          Other neighborhoods         House     Private room  47.687966   \n",
       "1732                 Central Area   Guest suite  Entire home/apt  47.615843   \n",
       "1733                    Northgate         House  Entire home/apt  47.730638   \n",
       "\n",
       "       longitude  guests_included  bathrooms  bedrooms  beds  bed_type  \\\n",
       "0    -122.316362                2        1.0         2     2  Real Bed   \n",
       "1    -122.302355                1        1.0         1     2  Real Bed   \n",
       "2    -122.344556                1        1.0         1     1  Real Bed   \n",
       "3    -122.349425                1        1.0         1     1  Real Bed   \n",
       "4    -122.313444                1        1.0         1     1  Real Bed   \n",
       "...          ...              ...        ...       ...   ...       ...   \n",
       "1729 -122.316761                1        1.0         1     1  Real Bed   \n",
       "1730 -122.384556                1        1.0         2     2  Real Bed   \n",
       "1731 -122.352905                1        1.0         1     1  Real Bed   \n",
       "1732 -122.299203                2        1.0         1     2  Real Bed   \n",
       "1733 -122.329604                4        2.0         3     3  Real Bed   \n",
       "\n",
       "                                              amenities cleaning_fee  \\\n",
       "0     {TV,Internet,Wifi,Kitchen,\"Free street parking...       $85.00   \n",
       "1     {TV,Wifi,\"Free parking on premises\",\"Pets allo...       $40.00   \n",
       "2     {Wifi,Kitchen,\"Free parking on premises\",Heati...      $150.00   \n",
       "3     {TV,Wifi,\"Air conditioning\",Kitchen,\"Paid park...       $75.00   \n",
       "4     {TV,Internet,Wifi,\"Air conditioning\",Kitchen,\"...            0   \n",
       "...                                                 ...          ...   \n",
       "1729  {TV,Wifi,Kitchen,\"Free parking on premises\",\"P...       $60.00   \n",
       "1730  {TV,\"Cable TV\",Internet,Wifi,\"Wheelchair acces...       $50.00   \n",
       "1731  {TV,Internet,Wifi,\"Pets live on this property\"...       $25.00   \n",
       "1732  {Wifi,Kitchen,\"Free parking on premises\",\"Free...       $75.00   \n",
       "1733  {TV,\"Cable TV\",Wifi,\"Air conditioning\",Kitchen...      $100.00   \n",
       "\n",
       "      minimum_nights  maximum_nights  instant_bookable  \\\n",
       "0                  3             300              True   \n",
       "1                  2            1125              True   \n",
       "2                  5             120             False   \n",
       "3                  1              30             False   \n",
       "4                  1               3             False   \n",
       "...              ...             ...               ...   \n",
       "1729               2            1125             False   \n",
       "1730               2              29              True   \n",
       "1731               1              29             False   \n",
       "1732               3            1125              True   \n",
       "1733               3            1125              True   \n",
       "\n",
       "              cancellation_policy  \n",
       "0                        moderate  \n",
       "1                        moderate  \n",
       "2     strict_14_with_grace_period  \n",
       "3     strict_14_with_grace_period  \n",
       "4                        flexible  \n",
       "...                           ...  \n",
       "1729                     moderate  \n",
       "1730                     moderate  \n",
       "1731  strict_14_with_grace_period  \n",
       "1732  strict_14_with_grace_period  \n",
       "1733  strict_14_with_grace_period  \n",
       "\n",
       "[1734 rows x 24 columns]"
      ]
     },
     "execution_count": 793,
     "metadata": {},
     "output_type": "execute_result"
    }
   ],
   "source": [
    "df_test"
   ]
  },
  {
   "cell_type": "code",
   "execution_count": 794,
   "metadata": {},
   "outputs": [
    {
     "name": "stdout",
     "output_type": "stream",
     "text": [
      "The Train Data Shape is: (3466, 25)\n",
      "The Test Data Shape is: (1734, 24)\n"
     ]
    }
   ],
   "source": [
    "print('The Train Data Shape is:',df_train.shape)\n",
    "print('The Test Data Shape is:',df_test.shape)"
   ]
  },
  {
   "cell_type": "code",
   "execution_count": 795,
   "metadata": {},
   "outputs": [
    {
     "name": "stdout",
     "output_type": "stream",
     "text": [
      "<class 'pandas.core.frame.DataFrame'>\n",
      "RangeIndex: 3466 entries, 0 to 3465\n",
      "Data columns (total 25 columns):\n",
      " #   Column                        Non-Null Count  Dtype  \n",
      "---  ------                        --------------  -----  \n",
      " 0   X1                            3466 non-null   int64  \n",
      " 1   id                            3466 non-null   int64  \n",
      " 2   host_is_superhost             3466 non-null   bool   \n",
      " 3   host_response_rate            3466 non-null   object \n",
      " 4   host_response_time            3466 non-null   object \n",
      " 5   host_listings_count           3466 non-null   int64  \n",
      " 6   host_identity_verified        3466 non-null   bool   \n",
      " 7   accommodates                  3466 non-null   int64  \n",
      " 8   neighbourhood_group_cleansed  3466 non-null   object \n",
      " 9   property_type                 3466 non-null   object \n",
      " 10  room_type                     3466 non-null   object \n",
      " 11  latitude                      3466 non-null   float64\n",
      " 12  longitude                     3466 non-null   float64\n",
      " 13  guests_included               3466 non-null   int64  \n",
      " 14  bathrooms                     3466 non-null   float64\n",
      " 15  bedrooms                      3466 non-null   int64  \n",
      " 16  beds                          3466 non-null   int64  \n",
      " 17  bed_type                      3466 non-null   object \n",
      " 18  amenities                     3466 non-null   object \n",
      " 19  cleaning_fee                  3466 non-null   object \n",
      " 20  minimum_nights                3466 non-null   int64  \n",
      " 21  maximum_nights                3466 non-null   int64  \n",
      " 22  instant_bookable              3466 non-null   bool   \n",
      " 23  cancellation_policy           3466 non-null   object \n",
      " 24  price                         3466 non-null   object \n",
      "dtypes: bool(3), float64(3), int64(9), object(10)\n",
      "memory usage: 606.0+ KB\n"
     ]
    }
   ],
   "source": [
    "df_train.info()"
   ]
  },
  {
   "cell_type": "code",
   "execution_count": 796,
   "metadata": {},
   "outputs": [],
   "source": [
    "# No null values in the training dataset"
   ]
  },
  {
   "cell_type": "code",
   "execution_count": 797,
   "metadata": {},
   "outputs": [
    {
     "name": "stdout",
     "output_type": "stream",
     "text": [
      "<class 'pandas.core.frame.DataFrame'>\n",
      "RangeIndex: 1734 entries, 0 to 1733\n",
      "Data columns (total 24 columns):\n",
      " #   Column                        Non-Null Count  Dtype  \n",
      "---  ------                        --------------  -----  \n",
      " 0   X1                            1734 non-null   int64  \n",
      " 1   id                            1734 non-null   int64  \n",
      " 2   host_is_superhost             1734 non-null   bool   \n",
      " 3   host_response_rate            1734 non-null   object \n",
      " 4   host_response_time            1734 non-null   object \n",
      " 5   host_listings_count           1734 non-null   int64  \n",
      " 6   host_identity_verified        1734 non-null   bool   \n",
      " 7   accommodates                  1734 non-null   int64  \n",
      " 8   neighbourhood_group_cleansed  1734 non-null   object \n",
      " 9   property_type                 1734 non-null   object \n",
      " 10  room_type                     1734 non-null   object \n",
      " 11  latitude                      1734 non-null   float64\n",
      " 12  longitude                     1734 non-null   float64\n",
      " 13  guests_included               1734 non-null   int64  \n",
      " 14  bathrooms                     1734 non-null   float64\n",
      " 15  bedrooms                      1734 non-null   int64  \n",
      " 16  beds                          1734 non-null   int64  \n",
      " 17  bed_type                      1734 non-null   object \n",
      " 18  amenities                     1734 non-null   object \n",
      " 19  cleaning_fee                  1734 non-null   object \n",
      " 20  minimum_nights                1734 non-null   int64  \n",
      " 21  maximum_nights                1734 non-null   int64  \n",
      " 22  instant_bookable              1734 non-null   bool   \n",
      " 23  cancellation_policy           1734 non-null   object \n",
      "dtypes: bool(3), float64(3), int64(9), object(9)\n",
      "memory usage: 289.7+ KB\n"
     ]
    }
   ],
   "source": [
    "df_test.info()"
   ]
  },
  {
   "cell_type": "code",
   "execution_count": 798,
   "metadata": {},
   "outputs": [],
   "source": [
    "# No null values in the testing dataset"
   ]
  },
  {
   "cell_type": "code",
   "execution_count": 799,
   "metadata": {},
   "outputs": [],
   "source": [
    "# changing the dtype of target feature for creating a base model with data\n",
    "\n",
    "df_target=df_train.copy()\n",
    "df_target.drop(['X1', 'id', 'host_is_superhost', 'host_response_rate',\n",
    "       'host_response_time', 'host_listings_count', 'host_identity_verified',\n",
    "       'accommodates', 'neighbourhood_group_cleansed', 'property_type',\n",
    "       'room_type', 'latitude', 'longitude', 'guests_included', 'bathrooms',\n",
    "       'bedrooms', 'beds', 'bed_type', 'amenities', 'cleaning_fee',\n",
    "       'minimum_nights', 'maximum_nights', 'instant_bookable',\n",
    "       'cancellation_policy'],axis=1,inplace=True)\n",
    "df_target['price']=df_target['price'].str.replace('$','')\n",
    "df_target['price']=pd.to_numeric(df_target['price'],errors='coerce')"
   ]
  },
  {
   "cell_type": "code",
   "execution_count": 800,
   "metadata": {},
   "outputs": [
    {
     "data": {
      "text/plain": [
       "price    39\n",
       "dtype: int64"
      ]
     },
     "execution_count": 800,
     "metadata": {},
     "output_type": "execute_result"
    }
   ],
   "source": [
    "# after converting it into the data type float check for null values\n",
    "\n",
    "df_target.isnull().sum()"
   ]
  },
  {
   "cell_type": "code",
   "execution_count": 801,
   "metadata": {},
   "outputs": [
    {
     "data": {
      "text/plain": [
       "price    149.123723\n",
       "dtype: float64"
      ]
     },
     "execution_count": 801,
     "metadata": {},
     "output_type": "execute_result"
    }
   ],
   "source": [
    "df_target.mean()"
   ]
  },
  {
   "cell_type": "code",
   "execution_count": 802,
   "metadata": {},
   "outputs": [],
   "source": [
    "# fill na with mean inorder for the base model\n",
    "\n",
    "df_target=df_target.fillna(df_target.mean())"
   ]
  },
  {
   "cell_type": "code",
   "execution_count": 803,
   "metadata": {},
   "outputs": [
    {
     "data": {
      "text/plain": [
       "price    0\n",
       "dtype: int64"
      ]
     },
     "execution_count": 803,
     "metadata": {},
     "output_type": "execute_result"
    }
   ],
   "source": [
    "df_target.isnull().sum()"
   ]
  },
  {
   "cell_type": "markdown",
   "metadata": {},
   "source": [
    "## Training The Base Model"
   ]
  },
  {
   "cell_type": "code",
   "execution_count": 804,
   "metadata": {},
   "outputs": [
    {
     "data": {
      "text/plain": [
       "44.828357176213196"
      ]
     },
     "execution_count": 804,
     "metadata": {},
     "output_type": "execute_result"
    }
   ],
   "source": [
    "# we train our base model by dropping all the categorical columns \n",
    "\n",
    "x=df_train.drop(['price','bed_type', 'amenities', 'cleaning_fee','neighbourhood_group_cleansed', 'property_type','room_type','host_response_rate',\n",
    "       'host_response_time','cancellation_policy'],axis=1)\n",
    "y=df_target\n",
    "\n",
    "from sklearn.model_selection import train_test_split\n",
    "x_train,x_test,y_train,y_test=train_test_split(x,y,train_size=0.7,random_state=0)\n",
    "\n",
    "from sklearn.linear_model import LinearRegression\n",
    "regressor=LinearRegression()\n",
    "model=regressor.fit(x_train,y_train)\n",
    "model\n",
    "\n",
    "model.score(x_train, y_train)*100\n",
    "                    "
   ]
  },
  {
   "cell_type": "code",
   "execution_count": 805,
   "metadata": {},
   "outputs": [],
   "source": [
    "# the score is very poor because it is a raw data\n",
    "# we need to process the data"
   ]
  },
  {
   "cell_type": "markdown",
   "metadata": {},
   "source": [
    "## Exploratory Data Analysis"
   ]
  },
  {
   "cell_type": "code",
   "execution_count": 806,
   "metadata": {},
   "outputs": [],
   "source": [
    "# the target feature 'price' and 'cleaning fee' feature is in object data type, which will not be suitable for analysis\n",
    "# need to convert it into float and to remove the dollar sign\n",
    "\n",
    "# price\n",
    "\n",
    "df_train['price']=df_train['price'].str.replace('$','')\n",
    "df_train['price']=pd.to_numeric(df_train['price'],errors='coerce')\n",
    "\n",
    "# cleaning_fee\n",
    "\n",
    "df_train['cleaning_fee']=df_train['cleaning_fee'].str.replace('$','')\n",
    "df_train['cleaning_fee']=pd.to_numeric(df_train['cleaning_fee'],errors='coerce')\n",
    "\n",
    "df_test['cleaning_fee']=df_test['cleaning_fee'].str.replace('$','')\n",
    "df_test['cleaning_fee']=pd.to_numeric(df_test['cleaning_fee'],errors='coerce')"
   ]
  },
  {
   "cell_type": "code",
   "execution_count": 807,
   "metadata": {},
   "outputs": [
    {
     "data": {
      "text/plain": [
       "price           39\n",
       "cleaning_fee     0\n",
       "dtype: int64"
      ]
     },
     "execution_count": 807,
     "metadata": {},
     "output_type": "execute_result"
    }
   ],
   "source": [
    "# check for null values in price and cleaning fee feature\n",
    "\n",
    "df_train[['price','cleaning_fee']].isnull().sum()"
   ]
  },
  {
   "cell_type": "code",
   "execution_count": 808,
   "metadata": {},
   "outputs": [
    {
     "data": {
      "text/plain": [
       "0"
      ]
     },
     "execution_count": 808,
     "metadata": {},
     "output_type": "execute_result"
    }
   ],
   "source": [
    "df_test['cleaning_fee'].isnull().sum() # price column is not in test data"
   ]
  },
  {
   "cell_type": "code",
   "execution_count": 809,
   "metadata": {},
   "outputs": [
    {
     "data": {
      "text/plain": [
       "3.416860174802076"
      ]
     },
     "execution_count": 809,
     "metadata": {},
     "output_type": "execute_result"
    }
   ],
   "source": [
    "df_train['price'].skew()"
   ]
  },
  {
   "cell_type": "code",
   "execution_count": 810,
   "metadata": {},
   "outputs": [
    {
     "data": {
      "text/plain": [
       "0"
      ]
     },
     "execution_count": 810,
     "metadata": {},
     "output_type": "execute_result"
    }
   ],
   "source": [
    "# imputing null values in the price column with median because it has having outliers\n",
    "\n",
    "df_train['price']=df_train['price'].fillna(df_train['price'].median())\n",
    "df_train['price'].isnull().sum()"
   ]
  },
  {
   "cell_type": "code",
   "execution_count": 811,
   "metadata": {},
   "outputs": [],
   "source": [
    "# the host_response rate is in percentage but the datatype is in object, so we need to remove that %\n",
    "# since it is a % value divide it by 100\n",
    "\n",
    "df_train['host_response_rate']=df_train['host_response_rate'].str.replace('%','').astype(float)/100\n",
    "df_test['host_response_rate']=df_test['host_response_rate'].str.replace('%','').astype(float)/100"
   ]
  },
  {
   "cell_type": "markdown",
   "metadata": {},
   "source": [
    "# Numerical Features"
   ]
  },
  {
   "cell_type": "code",
   "execution_count": 812,
   "metadata": {},
   "outputs": [
    {
     "name": "stdout",
     "output_type": "stream",
     "text": [
      "No Of Numerical Features In Training Data: 14\n",
      "No Of Numerical Features In Testing Data: 14\n"
     ]
    }
   ],
   "source": [
    "numerical_features_train=[feature for feature in df_train.columns if df_train[feature].dtypes != 'O' and df_train[feature].dtypes != 'bool' and feature!='price'  ]\n",
    "numerical_features_test=[feature for feature in df_test.columns if df_train[feature].dtypes != 'O' and df_train[feature].dtypes != 'bool']\n",
    "\n",
    "print('No Of Numerical Features In Training Data:',len(numerical_features_train))\n",
    "print('No Of Numerical Features In Testing Data:',len(numerical_features_test))"
   ]
  },
  {
   "cell_type": "code",
   "execution_count": 813,
   "metadata": {},
   "outputs": [
    {
     "data": {
      "text/plain": [
       "['X1',\n",
       " 'id',\n",
       " 'host_response_rate',\n",
       " 'host_listings_count',\n",
       " 'accommodates',\n",
       " 'latitude',\n",
       " 'longitude',\n",
       " 'guests_included',\n",
       " 'bathrooms',\n",
       " 'bedrooms',\n",
       " 'beds',\n",
       " 'cleaning_fee',\n",
       " 'minimum_nights',\n",
       " 'maximum_nights']"
      ]
     },
     "execution_count": 813,
     "metadata": {},
     "output_type": "execute_result"
    }
   ],
   "source": [
    "numerical_features_train"
   ]
  },
  {
   "cell_type": "code",
   "execution_count": 814,
   "metadata": {},
   "outputs": [
    {
     "data": {
      "text/plain": [
       "['X1',\n",
       " 'id',\n",
       " 'host_response_rate',\n",
       " 'host_listings_count',\n",
       " 'accommodates',\n",
       " 'latitude',\n",
       " 'longitude',\n",
       " 'guests_included',\n",
       " 'bathrooms',\n",
       " 'bedrooms',\n",
       " 'beds',\n",
       " 'cleaning_fee',\n",
       " 'minimum_nights',\n",
       " 'maximum_nights']"
      ]
     },
     "execution_count": 814,
     "metadata": {},
     "output_type": "execute_result"
    }
   ],
   "source": [
    "numerical_features_test"
   ]
  },
  {
   "cell_type": "code",
   "execution_count": 815,
   "metadata": {},
   "outputs": [
    {
     "data": {
      "text/plain": [
       "X1                     3466\n",
       "id                     3466\n",
       "host_response_rate       32\n",
       "host_listings_count      61\n",
       "accommodates             19\n",
       "latitude               3465\n",
       "longitude              3459\n",
       "guests_included          16\n",
       "bathrooms                12\n",
       "bedrooms                  9\n",
       "beds                     18\n",
       "cleaning_fee            153\n",
       "minimum_nights           28\n",
       "maximum_nights           92\n",
       "dtype: int64"
      ]
     },
     "execution_count": 815,
     "metadata": {},
     "output_type": "execute_result"
    }
   ],
   "source": [
    "df_train[numerical_features_train].nunique()"
   ]
  },
  {
   "cell_type": "code",
   "execution_count": 816,
   "metadata": {},
   "outputs": [
    {
     "data": {
      "text/plain": [
       "X1                     1734\n",
       "id                     1734\n",
       "host_response_rate       31\n",
       "host_listings_count      57\n",
       "accommodates             16\n",
       "latitude               1734\n",
       "longitude              1734\n",
       "guests_included          12\n",
       "bathrooms                 9\n",
       "bedrooms                  7\n",
       "beds                     13\n",
       "cleaning_fee            124\n",
       "minimum_nights           19\n",
       "maximum_nights           73\n",
       "dtype: int64"
      ]
     },
     "execution_count": 816,
     "metadata": {},
     "output_type": "execute_result"
    }
   ],
   "source": [
    "df_test[numerical_features_test].nunique()"
   ]
  },
  {
   "cell_type": "code",
   "execution_count": 817,
   "metadata": {},
   "outputs": [
    {
     "data": {
      "text/html": [
       "<div>\n",
       "<style scoped>\n",
       "    .dataframe tbody tr th:only-of-type {\n",
       "        vertical-align: middle;\n",
       "    }\n",
       "\n",
       "    .dataframe tbody tr th {\n",
       "        vertical-align: top;\n",
       "    }\n",
       "\n",
       "    .dataframe thead th {\n",
       "        text-align: right;\n",
       "    }\n",
       "</style>\n",
       "<table border=\"1\" class=\"dataframe\">\n",
       "  <thead>\n",
       "    <tr style=\"text-align: right;\">\n",
       "      <th></th>\n",
       "      <th>X1</th>\n",
       "      <th>id</th>\n",
       "      <th>host_response_rate</th>\n",
       "      <th>host_listings_count</th>\n",
       "      <th>accommodates</th>\n",
       "      <th>latitude</th>\n",
       "      <th>longitude</th>\n",
       "      <th>guests_included</th>\n",
       "      <th>bathrooms</th>\n",
       "      <th>bedrooms</th>\n",
       "      <th>beds</th>\n",
       "      <th>cleaning_fee</th>\n",
       "      <th>minimum_nights</th>\n",
       "      <th>maximum_nights</th>\n",
       "    </tr>\n",
       "  </thead>\n",
       "  <tbody>\n",
       "    <tr>\n",
       "      <th>0</th>\n",
       "      <td>5460</td>\n",
       "      <td>22146017</td>\n",
       "      <td>0.99</td>\n",
       "      <td>521</td>\n",
       "      <td>5</td>\n",
       "      <td>47.612163</td>\n",
       "      <td>-122.338239</td>\n",
       "      <td>4</td>\n",
       "      <td>2.0</td>\n",
       "      <td>2</td>\n",
       "      <td>2</td>\n",
       "      <td>129.0</td>\n",
       "      <td>2</td>\n",
       "      <td>1125</td>\n",
       "    </tr>\n",
       "    <tr>\n",
       "      <th>1</th>\n",
       "      <td>4143</td>\n",
       "      <td>18638163</td>\n",
       "      <td>1.00</td>\n",
       "      <td>1</td>\n",
       "      <td>2</td>\n",
       "      <td>47.640827</td>\n",
       "      <td>-122.355248</td>\n",
       "      <td>1</td>\n",
       "      <td>1.0</td>\n",
       "      <td>0</td>\n",
       "      <td>1</td>\n",
       "      <td>50.0</td>\n",
       "      <td>2</td>\n",
       "      <td>30</td>\n",
       "    </tr>\n",
       "    <tr>\n",
       "      <th>2</th>\n",
       "      <td>5802</td>\n",
       "      <td>22734110</td>\n",
       "      <td>1.00</td>\n",
       "      <td>1</td>\n",
       "      <td>4</td>\n",
       "      <td>47.549007</td>\n",
       "      <td>-122.273951</td>\n",
       "      <td>2</td>\n",
       "      <td>1.0</td>\n",
       "      <td>1</td>\n",
       "      <td>2</td>\n",
       "      <td>25.0</td>\n",
       "      <td>2</td>\n",
       "      <td>28</td>\n",
       "    </tr>\n",
       "    <tr>\n",
       "      <th>3</th>\n",
       "      <td>776</td>\n",
       "      <td>3946674</td>\n",
       "      <td>0.90</td>\n",
       "      <td>1</td>\n",
       "      <td>2</td>\n",
       "      <td>47.601922</td>\n",
       "      <td>-122.307979</td>\n",
       "      <td>1</td>\n",
       "      <td>1.0</td>\n",
       "      <td>1</td>\n",
       "      <td>1</td>\n",
       "      <td>0.0</td>\n",
       "      <td>2</td>\n",
       "      <td>30</td>\n",
       "    </tr>\n",
       "    <tr>\n",
       "      <th>4</th>\n",
       "      <td>6064</td>\n",
       "      <td>23610186</td>\n",
       "      <td>1.00</td>\n",
       "      <td>4</td>\n",
       "      <td>8</td>\n",
       "      <td>47.552311</td>\n",
       "      <td>-122.293409</td>\n",
       "      <td>6</td>\n",
       "      <td>2.5</td>\n",
       "      <td>3</td>\n",
       "      <td>3</td>\n",
       "      <td>99.0</td>\n",
       "      <td>2</td>\n",
       "      <td>12</td>\n",
       "    </tr>\n",
       "    <tr>\n",
       "      <th>...</th>\n",
       "      <td>...</td>\n",
       "      <td>...</td>\n",
       "      <td>...</td>\n",
       "      <td>...</td>\n",
       "      <td>...</td>\n",
       "      <td>...</td>\n",
       "      <td>...</td>\n",
       "      <td>...</td>\n",
       "      <td>...</td>\n",
       "      <td>...</td>\n",
       "      <td>...</td>\n",
       "      <td>...</td>\n",
       "      <td>...</td>\n",
       "      <td>...</td>\n",
       "    </tr>\n",
       "    <tr>\n",
       "      <th>3461</th>\n",
       "      <td>5550</td>\n",
       "      <td>22208755</td>\n",
       "      <td>0.99</td>\n",
       "      <td>521</td>\n",
       "      <td>5</td>\n",
       "      <td>47.610532</td>\n",
       "      <td>-122.342332</td>\n",
       "      <td>4</td>\n",
       "      <td>1.0</td>\n",
       "      <td>2</td>\n",
       "      <td>2</td>\n",
       "      <td>129.0</td>\n",
       "      <td>2</td>\n",
       "      <td>1125</td>\n",
       "    </tr>\n",
       "    <tr>\n",
       "      <th>3462</th>\n",
       "      <td>7391</td>\n",
       "      <td>28049926</td>\n",
       "      <td>1.00</td>\n",
       "      <td>123</td>\n",
       "      <td>1</td>\n",
       "      <td>47.642069</td>\n",
       "      <td>-122.304120</td>\n",
       "      <td>1</td>\n",
       "      <td>1.0</td>\n",
       "      <td>1</td>\n",
       "      <td>1</td>\n",
       "      <td>15.0</td>\n",
       "      <td>1</td>\n",
       "      <td>21</td>\n",
       "    </tr>\n",
       "    <tr>\n",
       "      <th>3463</th>\n",
       "      <td>6056</td>\n",
       "      <td>23567364</td>\n",
       "      <td>1.00</td>\n",
       "      <td>4</td>\n",
       "      <td>2</td>\n",
       "      <td>47.716853</td>\n",
       "      <td>-122.353945</td>\n",
       "      <td>1</td>\n",
       "      <td>2.0</td>\n",
       "      <td>1</td>\n",
       "      <td>1</td>\n",
       "      <td>22.0</td>\n",
       "      <td>2</td>\n",
       "      <td>30</td>\n",
       "    </tr>\n",
       "    <tr>\n",
       "      <th>3464</th>\n",
       "      <td>1277</td>\n",
       "      <td>6728419</td>\n",
       "      <td>1.00</td>\n",
       "      <td>1</td>\n",
       "      <td>2</td>\n",
       "      <td>47.672343</td>\n",
       "      <td>-122.283291</td>\n",
       "      <td>1</td>\n",
       "      <td>1.0</td>\n",
       "      <td>1</td>\n",
       "      <td>1</td>\n",
       "      <td>25.0</td>\n",
       "      <td>1</td>\n",
       "      <td>1125</td>\n",
       "    </tr>\n",
       "    <tr>\n",
       "      <th>3465</th>\n",
       "      <td>6035</td>\n",
       "      <td>23483176</td>\n",
       "      <td>1.00</td>\n",
       "      <td>2</td>\n",
       "      <td>2</td>\n",
       "      <td>47.557571</td>\n",
       "      <td>-122.281461</td>\n",
       "      <td>2</td>\n",
       "      <td>1.0</td>\n",
       "      <td>1</td>\n",
       "      <td>1</td>\n",
       "      <td>59.0</td>\n",
       "      <td>3</td>\n",
       "      <td>1125</td>\n",
       "    </tr>\n",
       "  </tbody>\n",
       "</table>\n",
       "<p>3466 rows × 14 columns</p>\n",
       "</div>"
      ],
      "text/plain": [
       "        X1        id  host_response_rate  host_listings_count  accommodates  \\\n",
       "0     5460  22146017                0.99                  521             5   \n",
       "1     4143  18638163                1.00                    1             2   \n",
       "2     5802  22734110                1.00                    1             4   \n",
       "3      776   3946674                0.90                    1             2   \n",
       "4     6064  23610186                1.00                    4             8   \n",
       "...    ...       ...                 ...                  ...           ...   \n",
       "3461  5550  22208755                0.99                  521             5   \n",
       "3462  7391  28049926                1.00                  123             1   \n",
       "3463  6056  23567364                1.00                    4             2   \n",
       "3464  1277   6728419                1.00                    1             2   \n",
       "3465  6035  23483176                1.00                    2             2   \n",
       "\n",
       "       latitude   longitude  guests_included  bathrooms  bedrooms  beds  \\\n",
       "0     47.612163 -122.338239                4        2.0         2     2   \n",
       "1     47.640827 -122.355248                1        1.0         0     1   \n",
       "2     47.549007 -122.273951                2        1.0         1     2   \n",
       "3     47.601922 -122.307979                1        1.0         1     1   \n",
       "4     47.552311 -122.293409                6        2.5         3     3   \n",
       "...         ...         ...              ...        ...       ...   ...   \n",
       "3461  47.610532 -122.342332                4        1.0         2     2   \n",
       "3462  47.642069 -122.304120                1        1.0         1     1   \n",
       "3463  47.716853 -122.353945                1        2.0         1     1   \n",
       "3464  47.672343 -122.283291                1        1.0         1     1   \n",
       "3465  47.557571 -122.281461                2        1.0         1     1   \n",
       "\n",
       "      cleaning_fee  minimum_nights  maximum_nights  \n",
       "0            129.0               2            1125  \n",
       "1             50.0               2              30  \n",
       "2             25.0               2              28  \n",
       "3              0.0               2              30  \n",
       "4             99.0               2              12  \n",
       "...            ...             ...             ...  \n",
       "3461         129.0               2            1125  \n",
       "3462          15.0               1              21  \n",
       "3463          22.0               2              30  \n",
       "3464          25.0               1            1125  \n",
       "3465          59.0               3            1125  \n",
       "\n",
       "[3466 rows x 14 columns]"
      ]
     },
     "execution_count": 817,
     "metadata": {},
     "output_type": "execute_result"
    }
   ],
   "source": [
    "df_train[numerical_features_train]"
   ]
  },
  {
   "cell_type": "code",
   "execution_count": 818,
   "metadata": {},
   "outputs": [
    {
     "data": {
      "text/plain": [
       "4094    1\n",
       "6886    1\n",
       "6914    1\n",
       "1971    1\n",
       "765     1\n",
       "       ..\n",
       "3447    1\n",
       "1398    1\n",
       "7541    1\n",
       "1394    1\n",
       "4098    1\n",
       "Name: X1, Length: 3466, dtype: int64"
      ]
     },
     "execution_count": 818,
     "metadata": {},
     "output_type": "execute_result"
    }
   ],
   "source": [
    "df_train['X1'].value_counts()"
   ]
  },
  {
   "cell_type": "code",
   "execution_count": 819,
   "metadata": {},
   "outputs": [
    {
     "data": {
      "text/plain": [
       "2047    1\n",
       "5456    1\n",
       "7487    1\n",
       "5440    1\n",
       "1350    1\n",
       "       ..\n",
       "6820    1\n",
       "4773    1\n",
       "2726    1\n",
       "4775    1\n",
       "8192    1\n",
       "Name: X1, Length: 1734, dtype: int64"
      ]
     },
     "execution_count": 819,
     "metadata": {},
     "output_type": "execute_result"
    }
   ],
   "source": [
    "df_test['X1'].value_counts()"
   ]
  },
  {
   "cell_type": "code",
   "execution_count": 820,
   "metadata": {},
   "outputs": [
    {
     "data": {
      "text/plain": [
       "7178239     1\n",
       "30679785    1\n",
       "13799564    1\n",
       "14576380    1\n",
       "13413112    1\n",
       "           ..\n",
       "2298775     1\n",
       "4128097     1\n",
       "28286414    1\n",
       "22800261    1\n",
       "27898895    1\n",
       "Name: id, Length: 3466, dtype: int64"
      ]
     },
     "execution_count": 820,
     "metadata": {},
     "output_type": "execute_result"
    }
   ],
   "source": [
    "df_train['id'].value_counts()"
   ]
  },
  {
   "cell_type": "code",
   "execution_count": 821,
   "metadata": {},
   "outputs": [
    {
     "data": {
      "text/plain": [
       "14851222    1\n",
       "2373176     1\n",
       "8404265     1\n",
       "28406424    1\n",
       "1422383     1\n",
       "           ..\n",
       "30042772    1\n",
       "7131797     1\n",
       "20028054    1\n",
       "23192       1\n",
       "20033536    1\n",
       "Name: id, Length: 1734, dtype: int64"
      ]
     },
     "execution_count": 821,
     "metadata": {},
     "output_type": "execute_result"
    }
   ],
   "source": [
    "df_test['id'].value_counts()"
   ]
  },
  {
   "cell_type": "code",
   "execution_count": 822,
   "metadata": {},
   "outputs": [],
   "source": [
    "# x1 and id feature has all unique values and it is not going to impact the price\n",
    "# so drop that feature\n",
    "\n",
    "df_train.drop(['X1','id'],axis=1,inplace=True)\n",
    "df_test.drop(['X1','id'],axis=1,inplace=True)"
   ]
  },
  {
   "cell_type": "code",
   "execution_count": 823,
   "metadata": {},
   "outputs": [
    {
     "name": "stdout",
     "output_type": "stream",
     "text": [
      "No Of Numerical Features In Training Data: 12\n",
      "No Of Numerical Features In Testing Data: 12\n"
     ]
    }
   ],
   "source": [
    "numerical_features_train=[feature for feature in df_train.columns if df_train[feature].dtypes != 'O' and df_train[feature].dtypes != 'bool' and feature!='price'  ]\n",
    "numerical_features_test=[feature for feature in df_test.columns if df_train[feature].dtypes != 'O' and df_train[feature].dtypes != 'bool']\n",
    "\n",
    "print('No Of Numerical Features In Training Data:',len(numerical_features_train))\n",
    "print('No Of Numerical Features In Testing Data:',len(numerical_features_test))"
   ]
  },
  {
   "cell_type": "code",
   "execution_count": 824,
   "metadata": {},
   "outputs": [
    {
     "data": {
      "text/plain": [
       "host_response_rate       32\n",
       "host_listings_count      61\n",
       "accommodates             19\n",
       "latitude               3465\n",
       "longitude              3459\n",
       "guests_included          16\n",
       "bathrooms                12\n",
       "bedrooms                  9\n",
       "beds                     18\n",
       "cleaning_fee            153\n",
       "minimum_nights           28\n",
       "maximum_nights           92\n",
       "dtype: int64"
      ]
     },
     "execution_count": 824,
     "metadata": {},
     "output_type": "execute_result"
    }
   ],
   "source": [
    "df_train[numerical_features_train].nunique()"
   ]
  },
  {
   "cell_type": "code",
   "execution_count": 825,
   "metadata": {},
   "outputs": [
    {
     "data": {
      "text/plain": [
       "host_response_rate       31\n",
       "host_listings_count      57\n",
       "accommodates             16\n",
       "latitude               1734\n",
       "longitude              1734\n",
       "guests_included          12\n",
       "bathrooms                 9\n",
       "bedrooms                  7\n",
       "beds                     13\n",
       "cleaning_fee            124\n",
       "minimum_nights           19\n",
       "maximum_nights           73\n",
       "dtype: int64"
      ]
     },
     "execution_count": 825,
     "metadata": {},
     "output_type": "execute_result"
    }
   ],
   "source": [
    "df_test[numerical_features_train].nunique()"
   ]
  },
  {
   "cell_type": "code",
   "execution_count": 826,
   "metadata": {},
   "outputs": [
    {
     "name": "stdout",
     "output_type": "stream",
     "text": [
      "The Number Of Discrete Features In Training Dataset is: 5 And They Are ['accommodates', 'guests_included', 'bathrooms', 'bedrooms', 'beds']\n",
      "The Number Of Discrete Features In Testingg Dataset is: 5 And They Are ['accommodates', 'guests_included', 'bathrooms', 'bedrooms', 'beds']\n"
     ]
    }
   ],
   "source": [
    "# numerical features are of two types discrete and continuous\n",
    "\n",
    "discrete_features_train=[feature for feature in numerical_features_train if len(df_train[feature].unique())<25 ]\n",
    "discrete_features_test=[feature for feature in numerical_features_test if len(df_test[feature].unique())<18 ]\n",
    "\n",
    "print('The Number Of Discrete Features In Training Dataset is:',len(discrete_features_train),'And They Are',discrete_features_train)\n",
    "print('The Number Of Discrete Features In Testingg Dataset is:',len(discrete_features_test),'And They Are',discrete_features_test)"
   ]
  },
  {
   "cell_type": "code",
   "execution_count": 827,
   "metadata": {},
   "outputs": [
    {
     "data": {
      "image/png": "[encoded data removed]",
      "text/plain": [
       "<Figure size 432x288 with 1 Axes>"
      ]
     },
     "metadata": {
      "needs_background": "light"
     },
     "output_type": "display_data"
    },
    {
     "data": {
      "image/png": "[encoded data removed]",
      "text/plain": [
       "<Figure size 432x288 with 1 Axes>"
      ]
     },
     "metadata": {
      "needs_background": "light"
     },
     "output_type": "display_data"
    },
    {
     "data": {
      "image/png": "[encoded data removed]",
      "text/plain": [
       "<Figure size 432x288 with 1 Axes>"
      ]
     },
     "metadata": {
      "needs_background": "light"
     },
     "output_type": "display_data"
    },
    {
     "data": {
      "image/png": "[encoded data removed]",
      "text/plain": [
       "<Figure size 432x288 with 1 Axes>"
      ]
     },
     "metadata": {
      "needs_background": "light"
     },
     "output_type": "display_data"
    },
    {
     "data": {
      "image/png": "[encoded data removed]",
      "text/plain": [
       "<Figure size 432x288 with 1 Axes>"
      ]
     },
     "metadata": {
      "needs_background": "light"
     },
     "output_type": "display_data"
    }
   ],
   "source": [
    "# Now lets see the reationship between discrete variables and the price in the testing dataset\n",
    "\n",
    "# Lets Find the realtionship between them and  mean Sale PRice\n",
    "\n",
    "for feature in discrete_features_train:\n",
    "    data=df_train.copy()\n",
    "    data.groupby(feature)['price'].mean().plot.bar()\n",
    "    plt.xlabel(feature)\n",
    "    plt.ylabel('price')\n",
    "    plt.title(feature)\n",
    "    plt.show()"
   ]
  },
  {
   "cell_type": "code",
   "execution_count": 828,
   "metadata": {},
   "outputs": [],
   "source": [
    "# from the above plots we can say that the each  value in the discrete feature has impact on  mean price\n",
    "# example as no of bedrooms and accomodates increases the mean price also increases\n",
    "# the mean price increases for no of guests till 15 , after that it decreases\n",
    "# if the no of beds are 12 and 16 the mean sale price is high, where as for others it decreases\n",
    "# the mean sale price is high for bathrooms 4.5"
   ]
  },
  {
   "cell_type": "code",
   "execution_count": 829,
   "metadata": {},
   "outputs": [
    {
     "data": {
      "text/plain": [
       "<matplotlib.axes._subplots.AxesSubplot at 0x1ec48acb340>"
      ]
     },
     "execution_count": 829,
     "metadata": {},
     "output_type": "execute_result"
    },
    {
     "data": {
      "image/png": "[encoded data removed]",
      "text/plain": [
       "<Figure size 432x288 with 1 Axes>"
      ]
     },
     "metadata": {
      "needs_background": "light"
     },
     "output_type": "display_data"
    }
   ],
   "source": [
    "# now we will analyse individually\n",
    "\n",
    "# for bedrooms feature in training dataset\n",
    "\n",
    "plt.figure()\n",
    "sns.barplot(x=df_train['bedrooms'], y=df_train['price'])"
   ]
  },
  {
   "cell_type": "code",
   "execution_count": 830,
   "metadata": {},
   "outputs": [
    {
     "data": {
      "text/html": [
       "<div>\n",
       "<style scoped>\n",
       "    .dataframe tbody tr th:only-of-type {\n",
       "        vertical-align: middle;\n",
       "    }\n",
       "\n",
       "    .dataframe tbody tr th {\n",
       "        vertical-align: top;\n",
       "    }\n",
       "\n",
       "    .dataframe thead th {\n",
       "        text-align: right;\n",
       "    }\n",
       "</style>\n",
       "<table border=\"1\" class=\"dataframe\">\n",
       "  <thead>\n",
       "    <tr style=\"text-align: right;\">\n",
       "      <th></th>\n",
       "      <th>len</th>\n",
       "      <th>min</th>\n",
       "      <th>max</th>\n",
       "    </tr>\n",
       "    <tr>\n",
       "      <th>bedrooms</th>\n",
       "      <th></th>\n",
       "      <th></th>\n",
       "      <th></th>\n",
       "    </tr>\n",
       "  </thead>\n",
       "  <tbody>\n",
       "    <tr>\n",
       "      <th>0</th>\n",
       "      <td>448.0</td>\n",
       "      <td>35.0</td>\n",
       "      <td>999.0</td>\n",
       "    </tr>\n",
       "    <tr>\n",
       "      <th>1</th>\n",
       "      <td>1931.0</td>\n",
       "      <td>0.0</td>\n",
       "      <td>999.0</td>\n",
       "    </tr>\n",
       "    <tr>\n",
       "      <th>2</th>\n",
       "      <td>657.0</td>\n",
       "      <td>10.0</td>\n",
       "      <td>999.0</td>\n",
       "    </tr>\n",
       "    <tr>\n",
       "      <th>3</th>\n",
       "      <td>276.0</td>\n",
       "      <td>20.0</td>\n",
       "      <td>999.0</td>\n",
       "    </tr>\n",
       "    <tr>\n",
       "      <th>4</th>\n",
       "      <td>99.0</td>\n",
       "      <td>77.0</td>\n",
       "      <td>900.0</td>\n",
       "    </tr>\n",
       "    <tr>\n",
       "      <th>5</th>\n",
       "      <td>34.0</td>\n",
       "      <td>100.0</td>\n",
       "      <td>750.0</td>\n",
       "    </tr>\n",
       "    <tr>\n",
       "      <th>6</th>\n",
       "      <td>9.0</td>\n",
       "      <td>287.0</td>\n",
       "      <td>950.0</td>\n",
       "    </tr>\n",
       "    <tr>\n",
       "      <th>7</th>\n",
       "      <td>10.0</td>\n",
       "      <td>250.0</td>\n",
       "      <td>899.0</td>\n",
       "    </tr>\n",
       "    <tr>\n",
       "      <th>8</th>\n",
       "      <td>2.0</td>\n",
       "      <td>112.0</td>\n",
       "      <td>650.0</td>\n",
       "    </tr>\n",
       "  </tbody>\n",
       "</table>\n",
       "</div>"
      ],
      "text/plain": [
       "             len    min    max\n",
       "bedrooms                      \n",
       "0          448.0   35.0  999.0\n",
       "1         1931.0    0.0  999.0\n",
       "2          657.0   10.0  999.0\n",
       "3          276.0   20.0  999.0\n",
       "4           99.0   77.0  900.0\n",
       "5           34.0  100.0  750.0\n",
       "6            9.0  287.0  950.0\n",
       "7           10.0  250.0  899.0\n",
       "8            2.0  112.0  650.0"
      ]
     },
     "execution_count": 830,
     "metadata": {},
     "output_type": "execute_result"
    }
   ],
   "source": [
    "bedroom = df_train.groupby(['bedrooms']).price.agg([len, min, max])\n",
    "bedroom"
   ]
  },
  {
   "cell_type": "code",
   "execution_count": 831,
   "metadata": {},
   "outputs": [],
   "source": [
    "# the max price of 7,8 bedrooms are less than max price of 6 bedroom\n",
    "# and there are only 12 observations where the bedroom is greater than 6\n",
    "# so we will consider the property with > 6 bedrooms as 6 bedrooms\n",
    "# even our test data has max of 6 bedrooms\n",
    "\n",
    "df_train['bedrooms'] = np.where((df_train.bedrooms >6 ), 6, df_train.bedrooms) "
   ]
  },
  {
   "cell_type": "code",
   "execution_count": 832,
   "metadata": {},
   "outputs": [
    {
     "data": {
      "text/plain": [
       "array([2, 1, 3, 0, 6, 4, 5], dtype=int64)"
      ]
     },
     "execution_count": 832,
     "metadata": {},
     "output_type": "execute_result"
    }
   ],
   "source": [
    "df_test['bedrooms'].unique()"
   ]
  },
  {
   "cell_type": "code",
   "execution_count": 833,
   "metadata": {},
   "outputs": [
    {
     "data": {
      "text/plain": [
       "<matplotlib.axes._subplots.AxesSubplot at 0x1ec484389d0>"
      ]
     },
     "execution_count": 833,
     "metadata": {},
     "output_type": "execute_result"
    },
    {
     "data": {
      "image/png": "[encoded data removed]",
      "text/plain": [
       "<Figure size 432x288 with 1 Axes>"
      ]
     },
     "metadata": {
      "needs_background": "light"
     },
     "output_type": "display_data"
    }
   ],
   "source": [
    "# For bathroom feature\n",
    "\n",
    "plt.figure()\n",
    "sns.barplot(x=df_train['bathrooms'], y=df_train['price'])"
   ]
  },
  {
   "cell_type": "code",
   "execution_count": 834,
   "metadata": {},
   "outputs": [
    {
     "data": {
      "text/html": [
       "<div>\n",
       "<style scoped>\n",
       "    .dataframe tbody tr th:only-of-type {\n",
       "        vertical-align: middle;\n",
       "    }\n",
       "\n",
       "    .dataframe tbody tr th {\n",
       "        vertical-align: top;\n",
       "    }\n",
       "\n",
       "    .dataframe thead th {\n",
       "        text-align: right;\n",
       "    }\n",
       "</style>\n",
       "<table border=\"1\" class=\"dataframe\">\n",
       "  <thead>\n",
       "    <tr style=\"text-align: right;\">\n",
       "      <th></th>\n",
       "      <th>len</th>\n",
       "      <th>min</th>\n",
       "      <th>max</th>\n",
       "    </tr>\n",
       "    <tr>\n",
       "      <th>bathrooms</th>\n",
       "      <th></th>\n",
       "      <th></th>\n",
       "      <th></th>\n",
       "    </tr>\n",
       "  </thead>\n",
       "  <tbody>\n",
       "    <tr>\n",
       "      <th>0.0</th>\n",
       "      <td>4.0</td>\n",
       "      <td>59.0</td>\n",
       "      <td>99.0</td>\n",
       "    </tr>\n",
       "    <tr>\n",
       "      <th>0.5</th>\n",
       "      <td>10.0</td>\n",
       "      <td>40.0</td>\n",
       "      <td>168.0</td>\n",
       "    </tr>\n",
       "    <tr>\n",
       "      <th>1.0</th>\n",
       "      <td>2590.0</td>\n",
       "      <td>0.0</td>\n",
       "      <td>999.0</td>\n",
       "    </tr>\n",
       "    <tr>\n",
       "      <th>1.5</th>\n",
       "      <td>161.0</td>\n",
       "      <td>23.0</td>\n",
       "      <td>494.0</td>\n",
       "    </tr>\n",
       "    <tr>\n",
       "      <th>2.0</th>\n",
       "      <td>395.0</td>\n",
       "      <td>10.0</td>\n",
       "      <td>999.0</td>\n",
       "    </tr>\n",
       "    <tr>\n",
       "      <th>2.5</th>\n",
       "      <td>120.0</td>\n",
       "      <td>41.0</td>\n",
       "      <td>891.0</td>\n",
       "    </tr>\n",
       "    <tr>\n",
       "      <th>3.0</th>\n",
       "      <td>76.0</td>\n",
       "      <td>20.0</td>\n",
       "      <td>950.0</td>\n",
       "    </tr>\n",
       "    <tr>\n",
       "      <th>3.5</th>\n",
       "      <td>85.0</td>\n",
       "      <td>25.0</td>\n",
       "      <td>900.0</td>\n",
       "    </tr>\n",
       "    <tr>\n",
       "      <th>4.0</th>\n",
       "      <td>18.0</td>\n",
       "      <td>27.0</td>\n",
       "      <td>899.0</td>\n",
       "    </tr>\n",
       "    <tr>\n",
       "      <th>4.5</th>\n",
       "      <td>3.0</td>\n",
       "      <td>340.0</td>\n",
       "      <td>650.0</td>\n",
       "    </tr>\n",
       "    <tr>\n",
       "      <th>6.0</th>\n",
       "      <td>1.0</td>\n",
       "      <td>112.0</td>\n",
       "      <td>112.0</td>\n",
       "    </tr>\n",
       "    <tr>\n",
       "      <th>8.0</th>\n",
       "      <td>3.0</td>\n",
       "      <td>39.0</td>\n",
       "      <td>40.0</td>\n",
       "    </tr>\n",
       "  </tbody>\n",
       "</table>\n",
       "</div>"
      ],
      "text/plain": [
       "              len    min    max\n",
       "bathrooms                      \n",
       "0.0           4.0   59.0   99.0\n",
       "0.5          10.0   40.0  168.0\n",
       "1.0        2590.0    0.0  999.0\n",
       "1.5         161.0   23.0  494.0\n",
       "2.0         395.0   10.0  999.0\n",
       "2.5         120.0   41.0  891.0\n",
       "3.0          76.0   20.0  950.0\n",
       "3.5          85.0   25.0  900.0\n",
       "4.0          18.0   27.0  899.0\n",
       "4.5           3.0  340.0  650.0\n",
       "6.0           1.0  112.0  112.0\n",
       "8.0           3.0   39.0   40.0"
      ]
     },
     "execution_count": 834,
     "metadata": {},
     "output_type": "execute_result"
    }
   ],
   "source": [
    "bathrooms = df_train.groupby(['bathrooms']).price.agg([len, min, max])\n",
    "bathrooms"
   ]
  },
  {
   "cell_type": "code",
   "execution_count": 835,
   "metadata": {},
   "outputs": [],
   "source": [
    "# the max price for bathrooms 4.5,6,8 are less than and max price of 4 bathrooms\n",
    "# and there are only 5 observations where the bathroom is greater than 4\n",
    "# so we will consider the property with > 4 bathrooms as 4 bathrooms\n",
    "# even our test data has max of 4  bedrooms"
   ]
  },
  {
   "cell_type": "code",
   "execution_count": 836,
   "metadata": {},
   "outputs": [
    {
     "data": {
      "text/plain": [
       "array([1. , 2.5, 1.5, 2. , 3. , 3.5, 4. , 0. , 0.5])"
      ]
     },
     "execution_count": 836,
     "metadata": {},
     "output_type": "execute_result"
    }
   ],
   "source": [
    "df_test['bathrooms'].unique()"
   ]
  },
  {
   "cell_type": "code",
   "execution_count": 837,
   "metadata": {},
   "outputs": [],
   "source": [
    "df_train['bathrooms'] = np.where((df_train.bathrooms >4 ), 4, df_train.bathrooms) "
   ]
  },
  {
   "cell_type": "code",
   "execution_count": 838,
   "metadata": {},
   "outputs": [
    {
     "name": "stdout",
     "output_type": "stream",
     "text": [
      "The No Of Continuous Features In Training Dataset: 7 And They Are ['host_response_rate', 'host_listings_count', 'latitude', 'longitude', 'cleaning_fee', 'minimum_nights', 'maximum_nights']\n",
      "The No Of Continuous Features In Testing Dataset: 7 And They Are ['host_response_rate', 'host_listings_count', 'latitude', 'longitude', 'cleaning_fee', 'minimum_nights', 'maximum_nights']\n"
     ]
    }
   ],
   "source": [
    "# Continuous feature\n",
    "\n",
    "continuous_features_train=[feature for feature in numerical_features_train if feature not in discrete_features_train]\n",
    "continuous_features_test=[feature for feature in numerical_features_test if feature not in discrete_features_test]\n",
    "\n",
    "print('The No Of Continuous Features In Training Dataset:',len(continuous_features_train),'And They Are',continuous_features_train)\n",
    "print('The No Of Continuous Features In Testing Dataset:',len(continuous_features_test),'And They Are',continuous_features_test)"
   ]
  },
  {
   "cell_type": "code",
   "execution_count": 839,
   "metadata": {},
   "outputs": [],
   "source": [
    "# latitude and longitude data is not making any sense to the price column\n",
    "# so remove it\n",
    "\n",
    "df_train.drop(['latitude', 'longitude'],axis=1,inplace=True)\n",
    "df_test.drop(['latitude', 'longitude'],axis=1,inplace=True)"
   ]
  },
  {
   "cell_type": "code",
   "execution_count": 840,
   "metadata": {},
   "outputs": [],
   "source": [
    "numerical_features_train=[feature for feature in df_train.columns if df_train[feature].dtypes != 'O' and df_train[feature].dtypes != 'bool' and feature!='price'  ]\n",
    "numerical_features_test=[feature for feature in df_test.columns if df_train[feature].dtypes != 'O' and df_train[feature].dtypes != 'bool']"
   ]
  },
  {
   "cell_type": "code",
   "execution_count": 841,
   "metadata": {},
   "outputs": [
    {
     "name": "stdout",
     "output_type": "stream",
     "text": [
      "The No Of Continuous Features In Training Dataset: 5 And They Are ['host_response_rate', 'host_listings_count', 'cleaning_fee', 'minimum_nights', 'maximum_nights']\n",
      "The No Of Continuous Features In Testing Dataset: 5 And They Are ['host_response_rate', 'host_listings_count', 'cleaning_fee', 'minimum_nights', 'maximum_nights']\n"
     ]
    }
   ],
   "source": [
    "continuous_features_train=[feature for feature in numerical_features_train if feature not in discrete_features_train]\n",
    "continuous_features_test=[feature for feature in numerical_features_test if feature not in discrete_features_test]\n",
    "\n",
    "print('The No Of Continuous Features In Training Dataset:',len(continuous_features_train),'And They Are',continuous_features_train)\n",
    "print('The No Of Continuous Features In Testing Dataset:',len(continuous_features_test),'And They Are',continuous_features_test)"
   ]
  },
  {
   "cell_type": "code",
   "execution_count": 842,
   "metadata": {},
   "outputs": [
    {
     "data": {
      "image/png": "[encoded data removed]",
      "text/plain": [
       "<Figure size 432x288 with 1 Axes>"
      ]
     },
     "metadata": {
      "needs_background": "light"
     },
     "output_type": "display_data"
    },
    {
     "data": {
      "image/png": "[encoded data removed]",
      "text/plain": [
       "<Figure size 432x288 with 1 Axes>"
      ]
     },
     "metadata": {
      "needs_background": "light"
     },
     "output_type": "display_data"
    },
    {
     "data": {
      "image/png": "[encoded data removed]",
      "text/plain": [
       "<Figure size 432x288 with 1 Axes>"
      ]
     },
     "metadata": {
      "needs_background": "light"
     },
     "output_type": "display_data"
    },
    {
     "data": {
      "image/png": "[encoded data removed]",
      "text/plain": [
       "<Figure size 432x288 with 1 Axes>"
      ]
     },
     "metadata": {
      "needs_background": "light"
     },
     "output_type": "display_data"
    },
    {
     "data": {
      "image/png": "[encoded data removed]",
      "text/plain": [
       "<Figure size 432x288 with 1 Axes>"
      ]
     },
     "metadata": {
      "needs_background": "light"
     },
     "output_type": "display_data"
    }
   ],
   "source": [
    "# Lets analyse the continuous values by creating histograms to understand the distribution\n",
    "\n",
    "for feature in continuous_features_train:\n",
    "    data=df_train.copy()\n",
    "    data[feature].hist(bins=25)\n",
    "    plt.xlabel(feature)\n",
    "    plt.ylabel(\"Count\")\n",
    "    plt.title(feature)\n",
    "    plt.show()"
   ]
  },
  {
   "cell_type": "code",
   "execution_count": 843,
   "metadata": {},
   "outputs": [],
   "source": [
    "# we can see that the continuous features are having skewed data is skewed "
   ]
  },
  {
   "cell_type": "code",
   "execution_count": 844,
   "metadata": {
    "scrolled": true
   },
   "outputs": [
    {
     "data": {
      "image/png": "[encoded data removed]",
      "text/plain": [
       "<Figure size 432x288 with 1 Axes>"
      ]
     },
     "metadata": {
      "needs_background": "light"
     },
     "output_type": "display_data"
    },
    {
     "data": {
      "image/png": "[encoded data removed]",
      "text/plain": [
       "<Figure size 432x288 with 1 Axes>"
      ]
     },
     "metadata": {
      "needs_background": "light"
     },
     "output_type": "display_data"
    },
    {
     "data": {
      "image/png": "[encoded data removed]",
      "text/plain": [
       "<Figure size 432x288 with 1 Axes>"
      ]
     },
     "metadata": {
      "needs_background": "light"
     },
     "output_type": "display_data"
    },
    {
     "data": {
      "image/png": "[encoded data removed]",
      "text/plain": [
       "<Figure size 432x288 with 1 Axes>"
      ]
     },
     "metadata": {
      "needs_background": "light"
     },
     "output_type": "display_data"
    },
    {
     "data": {
      "image/png": "[encoded data removed]",
      "text/plain": [
       "<Figure size 432x288 with 1 Axes>"
      ]
     },
     "metadata": {
      "needs_background": "light"
     },
     "output_type": "display_data"
    }
   ],
   "source": [
    "# continuous features of test data\n",
    "\n",
    "for feature in continuous_features_test:\n",
    "    data=df_test.copy()\n",
    "    data[feature].hist(bins=25)\n",
    "    plt.xlabel(feature)\n",
    "    plt.ylabel(\"Count\")\n",
    "    plt.title(feature)\n",
    "    plt.show()"
   ]
  },
  {
   "cell_type": "code",
   "execution_count": 845,
   "metadata": {},
   "outputs": [],
   "source": [
    "# continuous features in test data is also skewed"
   ]
  },
  {
   "cell_type": "code",
   "execution_count": 846,
   "metadata": {},
   "outputs": [
    {
     "data": {
      "image/png": "[encoded data removed]",
      "text/plain": [
       "<Figure size 432x288 with 1 Axes>"
      ]
     },
     "metadata": {
      "needs_background": "light"
     },
     "output_type": "display_data"
    },
    {
     "data": {
      "image/png": "[encoded data removed]",
      "text/plain": [
       "<Figure size 432x288 with 1 Axes>"
      ]
     },
     "metadata": {
      "needs_background": "light"
     },
     "output_type": "display_data"
    },
    {
     "data": {
      "image/png": "[encoded data removed]",
      "text/plain": [
       "<Figure size 432x288 with 1 Axes>"
      ]
     },
     "metadata": {
      "needs_background": "light"
     },
     "output_type": "display_data"
    },
    {
     "data": {
      "image/png": "[encoded data removed]",
      "text/plain": [
       "<Figure size 432x288 with 1 Axes>"
      ]
     },
     "metadata": {
      "needs_background": "light"
     },
     "output_type": "display_data"
    },
    {
     "data": {
      "image/png": "[encoded data removed]",
      "text/plain": [
       "<Figure size 432x288 with 1 Axes>"
      ]
     },
     "metadata": {
      "needs_background": "light"
     },
     "output_type": "display_data"
    }
   ],
   "source": [
    "# outliers in continuous features (train data)\n",
    "\n",
    "for feature in continuous_features_train:\n",
    "    data=df_train.copy()\n",
    "    sns.boxplot(data[feature])\n",
    "    plt.xlabel(feature)\n",
    "    plt.ylabel(\"Count\")\n",
    "    plt.title(feature)\n",
    "    plt.show()"
   ]
  },
  {
   "cell_type": "code",
   "execution_count": 847,
   "metadata": {},
   "outputs": [
    {
     "data": {
      "image/png": "[encoded data removed]",
      "text/plain": [
       "<Figure size 432x288 with 1 Axes>"
      ]
     },
     "metadata": {
      "needs_background": "light"
     },
     "output_type": "display_data"
    },
    {
     "data": {
      "image/png": "[encoded data removed]",
      "text/plain": [
       "<Figure size 432x288 with 1 Axes>"
      ]
     },
     "metadata": {
      "needs_background": "light"
     },
     "output_type": "display_data"
    },
    {
     "data": {
      "image/png": "[encoded data removed]",
      "text/plain": [
       "<Figure size 432x288 with 1 Axes>"
      ]
     },
     "metadata": {
      "needs_background": "light"
     },
     "output_type": "display_data"
    },
    {
     "data": {
      "image/png": "[encoded data removed]",
      "text/plain": [
       "<Figure size 432x288 with 1 Axes>"
      ]
     },
     "metadata": {
      "needs_background": "light"
     },
     "output_type": "display_data"
    },
    {
     "data": {
      "image/png": "[encoded data removed]",
      "text/plain": [
       "<Figure size 432x288 with 1 Axes>"
      ]
     },
     "metadata": {
      "needs_background": "light"
     },
     "output_type": "display_data"
    }
   ],
   "source": [
    "# outliers in continuous features (test data)\n",
    "\n",
    "for feature in continuous_features_test:\n",
    "    data=df_test.copy()\n",
    "    sns.boxplot(data[feature])\n",
    "    plt.xlabel(feature)\n",
    "    plt.ylabel(\"Count\")\n",
    "    plt.title(feature)\n",
    "    plt.show()"
   ]
  },
  {
   "cell_type": "code",
   "execution_count": 848,
   "metadata": {},
   "outputs": [
    {
     "name": "stdout",
     "output_type": "stream",
     "text": [
      "The No Of Boolean Features in Training Dataset is: 3 And They Are ['host_is_superhost', 'host_identity_verified', 'instant_bookable']\n",
      "The No Of Boolean Features in Testing Dataset is: 3 And They Are ['host_is_superhost', 'host_identity_verified', 'instant_bookable']\n"
     ]
    }
   ],
   "source": [
    "# Boolean features\n",
    "\n",
    "boolean_train=[feature for feature in df_train.columns if df_train[feature].dtypes == 'bool' ]\n",
    "boolean_test=[feature for feature in df_test.columns if df_test[feature].dtypes == 'bool' ]\n",
    "\n",
    "print('The No Of Boolean Features in Training Dataset is:',len(boolean_train),'And They Are',boolean_train)\n",
    "print('The No Of Boolean Features in Testing Dataset is:',len(boolean_test),'And They Are',boolean_test)"
   ]
  },
  {
   "cell_type": "code",
   "execution_count": 849,
   "metadata": {},
   "outputs": [
    {
     "data": {
      "text/html": [
       "<div>\n",
       "<style scoped>\n",
       "    .dataframe tbody tr th:only-of-type {\n",
       "        vertical-align: middle;\n",
       "    }\n",
       "\n",
       "    .dataframe tbody tr th {\n",
       "        vertical-align: top;\n",
       "    }\n",
       "\n",
       "    .dataframe thead th {\n",
       "        text-align: right;\n",
       "    }\n",
       "</style>\n",
       "<table border=\"1\" class=\"dataframe\">\n",
       "  <thead>\n",
       "    <tr style=\"text-align: right;\">\n",
       "      <th></th>\n",
       "      <th>host_is_superhost</th>\n",
       "      <th>host_identity_verified</th>\n",
       "      <th>instant_bookable</th>\n",
       "    </tr>\n",
       "  </thead>\n",
       "  <tbody>\n",
       "    <tr>\n",
       "      <th>0</th>\n",
       "      <td>False</td>\n",
       "      <td>False</td>\n",
       "      <td>True</td>\n",
       "    </tr>\n",
       "    <tr>\n",
       "      <th>1</th>\n",
       "      <td>True</td>\n",
       "      <td>True</td>\n",
       "      <td>True</td>\n",
       "    </tr>\n",
       "    <tr>\n",
       "      <th>2</th>\n",
       "      <td>True</td>\n",
       "      <td>False</td>\n",
       "      <td>False</td>\n",
       "    </tr>\n",
       "    <tr>\n",
       "      <th>3</th>\n",
       "      <td>True</td>\n",
       "      <td>True</td>\n",
       "      <td>False</td>\n",
       "    </tr>\n",
       "    <tr>\n",
       "      <th>4</th>\n",
       "      <td>True</td>\n",
       "      <td>True</td>\n",
       "      <td>False</td>\n",
       "    </tr>\n",
       "    <tr>\n",
       "      <th>...</th>\n",
       "      <td>...</td>\n",
       "      <td>...</td>\n",
       "      <td>...</td>\n",
       "    </tr>\n",
       "    <tr>\n",
       "      <th>3461</th>\n",
       "      <td>False</td>\n",
       "      <td>False</td>\n",
       "      <td>True</td>\n",
       "    </tr>\n",
       "    <tr>\n",
       "      <th>3462</th>\n",
       "      <td>False</td>\n",
       "      <td>False</td>\n",
       "      <td>True</td>\n",
       "    </tr>\n",
       "    <tr>\n",
       "      <th>3463</th>\n",
       "      <td>True</td>\n",
       "      <td>False</td>\n",
       "      <td>True</td>\n",
       "    </tr>\n",
       "    <tr>\n",
       "      <th>3464</th>\n",
       "      <td>True</td>\n",
       "      <td>False</td>\n",
       "      <td>False</td>\n",
       "    </tr>\n",
       "    <tr>\n",
       "      <th>3465</th>\n",
       "      <td>False</td>\n",
       "      <td>False</td>\n",
       "      <td>False</td>\n",
       "    </tr>\n",
       "  </tbody>\n",
       "</table>\n",
       "<p>3466 rows × 3 columns</p>\n",
       "</div>"
      ],
      "text/plain": [
       "      host_is_superhost  host_identity_verified  instant_bookable\n",
       "0                 False                   False              True\n",
       "1                  True                    True              True\n",
       "2                  True                   False             False\n",
       "3                  True                    True             False\n",
       "4                  True                    True             False\n",
       "...                 ...                     ...               ...\n",
       "3461              False                   False              True\n",
       "3462              False                   False              True\n",
       "3463               True                   False              True\n",
       "3464               True                   False             False\n",
       "3465              False                   False             False\n",
       "\n",
       "[3466 rows x 3 columns]"
      ]
     },
     "execution_count": 849,
     "metadata": {},
     "output_type": "execute_result"
    }
   ],
   "source": [
    "df_train[boolean_train]"
   ]
  },
  {
   "cell_type": "code",
   "execution_count": 850,
   "metadata": {},
   "outputs": [
    {
     "data": {
      "text/html": [
       "<div>\n",
       "<style scoped>\n",
       "    .dataframe tbody tr th:only-of-type {\n",
       "        vertical-align: middle;\n",
       "    }\n",
       "\n",
       "    .dataframe tbody tr th {\n",
       "        vertical-align: top;\n",
       "    }\n",
       "\n",
       "    .dataframe thead th {\n",
       "        text-align: right;\n",
       "    }\n",
       "</style>\n",
       "<table border=\"1\" class=\"dataframe\">\n",
       "  <thead>\n",
       "    <tr style=\"text-align: right;\">\n",
       "      <th></th>\n",
       "      <th>host_is_superhost</th>\n",
       "      <th>host_identity_verified</th>\n",
       "      <th>instant_bookable</th>\n",
       "    </tr>\n",
       "  </thead>\n",
       "  <tbody>\n",
       "    <tr>\n",
       "      <th>0</th>\n",
       "      <td>False</td>\n",
       "      <td>True</td>\n",
       "      <td>True</td>\n",
       "    </tr>\n",
       "    <tr>\n",
       "      <th>1</th>\n",
       "      <td>True</td>\n",
       "      <td>False</td>\n",
       "      <td>True</td>\n",
       "    </tr>\n",
       "    <tr>\n",
       "      <th>2</th>\n",
       "      <td>True</td>\n",
       "      <td>True</td>\n",
       "      <td>False</td>\n",
       "    </tr>\n",
       "    <tr>\n",
       "      <th>3</th>\n",
       "      <td>True</td>\n",
       "      <td>True</td>\n",
       "      <td>False</td>\n",
       "    </tr>\n",
       "    <tr>\n",
       "      <th>4</th>\n",
       "      <td>False</td>\n",
       "      <td>False</td>\n",
       "      <td>False</td>\n",
       "    </tr>\n",
       "    <tr>\n",
       "      <th>...</th>\n",
       "      <td>...</td>\n",
       "      <td>...</td>\n",
       "      <td>...</td>\n",
       "    </tr>\n",
       "    <tr>\n",
       "      <th>1729</th>\n",
       "      <td>False</td>\n",
       "      <td>True</td>\n",
       "      <td>False</td>\n",
       "    </tr>\n",
       "    <tr>\n",
       "      <th>1730</th>\n",
       "      <td>True</td>\n",
       "      <td>True</td>\n",
       "      <td>True</td>\n",
       "    </tr>\n",
       "    <tr>\n",
       "      <th>1731</th>\n",
       "      <td>True</td>\n",
       "      <td>True</td>\n",
       "      <td>False</td>\n",
       "    </tr>\n",
       "    <tr>\n",
       "      <th>1732</th>\n",
       "      <td>False</td>\n",
       "      <td>False</td>\n",
       "      <td>True</td>\n",
       "    </tr>\n",
       "    <tr>\n",
       "      <th>1733</th>\n",
       "      <td>True</td>\n",
       "      <td>False</td>\n",
       "      <td>True</td>\n",
       "    </tr>\n",
       "  </tbody>\n",
       "</table>\n",
       "<p>1734 rows × 3 columns</p>\n",
       "</div>"
      ],
      "text/plain": [
       "      host_is_superhost  host_identity_verified  instant_bookable\n",
       "0                 False                    True              True\n",
       "1                  True                   False              True\n",
       "2                  True                    True             False\n",
       "3                  True                    True             False\n",
       "4                 False                   False             False\n",
       "...                 ...                     ...               ...\n",
       "1729              False                    True             False\n",
       "1730               True                    True              True\n",
       "1731               True                    True             False\n",
       "1732              False                   False              True\n",
       "1733               True                   False              True\n",
       "\n",
       "[1734 rows x 3 columns]"
      ]
     },
     "execution_count": 850,
     "metadata": {},
     "output_type": "execute_result"
    }
   ],
   "source": [
    "df_test[boolean_test]"
   ]
  },
  {
   "cell_type": "code",
   "execution_count": 851,
   "metadata": {},
   "outputs": [
    {
     "data": {
      "image/png": "[encoded data removed]",
      "text/plain": [
       "<Figure size 432x288 with 1 Axes>"
      ]
     },
     "metadata": {
      "needs_background": "light"
     },
     "output_type": "display_data"
    },
    {
     "data": {
      "image/png": "[encoded data removed]",
      "text/plain": [
       "<Figure size 432x288 with 1 Axes>"
      ]
     },
     "metadata": {
      "needs_background": "light"
     },
     "output_type": "display_data"
    },
    {
     "data": {
      "image/png": "[encoded data removed]",
      "text/plain": [
       "<Figure size 432x288 with 1 Axes>"
      ]
     },
     "metadata": {
      "needs_background": "light"
     },
     "output_type": "display_data"
    }
   ],
   "source": [
    "# visualization of boolean features\n",
    "\n",
    "for feature in boolean_train:\n",
    "    df_train.groupby(feature)['price'].mean().plot.bar()\n",
    "    plt.title(feature)\n",
    "    plt.show()"
   ]
  },
  {
   "cell_type": "code",
   "execution_count": 852,
   "metadata": {},
   "outputs": [],
   "source": [
    "# we will do binary encoding for this \n",
    "\n",
    "for feature in boolean_train:\n",
    "    df_train[feature]=df_train[feature].astype(str).map({'True':1,'False':0})\n",
    "    \n",
    "for feature in boolean_test:\n",
    "    df_test[feature]=df_test[feature].astype(str).map({'True':1,'False':0})"
   ]
  },
  {
   "cell_type": "code",
   "execution_count": 853,
   "metadata": {},
   "outputs": [
    {
     "data": {
      "text/html": [
       "<div>\n",
       "<style scoped>\n",
       "    .dataframe tbody tr th:only-of-type {\n",
       "        vertical-align: middle;\n",
       "    }\n",
       "\n",
       "    .dataframe tbody tr th {\n",
       "        vertical-align: top;\n",
       "    }\n",
       "\n",
       "    .dataframe thead th {\n",
       "        text-align: right;\n",
       "    }\n",
       "</style>\n",
       "<table border=\"1\" class=\"dataframe\">\n",
       "  <thead>\n",
       "    <tr style=\"text-align: right;\">\n",
       "      <th></th>\n",
       "      <th>host_is_superhost</th>\n",
       "      <th>host_identity_verified</th>\n",
       "      <th>instant_bookable</th>\n",
       "    </tr>\n",
       "  </thead>\n",
       "  <tbody>\n",
       "    <tr>\n",
       "      <th>0</th>\n",
       "      <td>0</td>\n",
       "      <td>0</td>\n",
       "      <td>1</td>\n",
       "    </tr>\n",
       "    <tr>\n",
       "      <th>1</th>\n",
       "      <td>1</td>\n",
       "      <td>1</td>\n",
       "      <td>1</td>\n",
       "    </tr>\n",
       "    <tr>\n",
       "      <th>2</th>\n",
       "      <td>1</td>\n",
       "      <td>0</td>\n",
       "      <td>0</td>\n",
       "    </tr>\n",
       "    <tr>\n",
       "      <th>3</th>\n",
       "      <td>1</td>\n",
       "      <td>1</td>\n",
       "      <td>0</td>\n",
       "    </tr>\n",
       "    <tr>\n",
       "      <th>4</th>\n",
       "      <td>1</td>\n",
       "      <td>1</td>\n",
       "      <td>0</td>\n",
       "    </tr>\n",
       "    <tr>\n",
       "      <th>...</th>\n",
       "      <td>...</td>\n",
       "      <td>...</td>\n",
       "      <td>...</td>\n",
       "    </tr>\n",
       "    <tr>\n",
       "      <th>3461</th>\n",
       "      <td>0</td>\n",
       "      <td>0</td>\n",
       "      <td>1</td>\n",
       "    </tr>\n",
       "    <tr>\n",
       "      <th>3462</th>\n",
       "      <td>0</td>\n",
       "      <td>0</td>\n",
       "      <td>1</td>\n",
       "    </tr>\n",
       "    <tr>\n",
       "      <th>3463</th>\n",
       "      <td>1</td>\n",
       "      <td>0</td>\n",
       "      <td>1</td>\n",
       "    </tr>\n",
       "    <tr>\n",
       "      <th>3464</th>\n",
       "      <td>1</td>\n",
       "      <td>0</td>\n",
       "      <td>0</td>\n",
       "    </tr>\n",
       "    <tr>\n",
       "      <th>3465</th>\n",
       "      <td>0</td>\n",
       "      <td>0</td>\n",
       "      <td>0</td>\n",
       "    </tr>\n",
       "  </tbody>\n",
       "</table>\n",
       "<p>3466 rows × 3 columns</p>\n",
       "</div>"
      ],
      "text/plain": [
       "      host_is_superhost  host_identity_verified  instant_bookable\n",
       "0                     0                       0                 1\n",
       "1                     1                       1                 1\n",
       "2                     1                       0                 0\n",
       "3                     1                       1                 0\n",
       "4                     1                       1                 0\n",
       "...                 ...                     ...               ...\n",
       "3461                  0                       0                 1\n",
       "3462                  0                       0                 1\n",
       "3463                  1                       0                 1\n",
       "3464                  1                       0                 0\n",
       "3465                  0                       0                 0\n",
       "\n",
       "[3466 rows x 3 columns]"
      ]
     },
     "execution_count": 853,
     "metadata": {},
     "output_type": "execute_result"
    }
   ],
   "source": [
    "df_train[boolean_train]"
   ]
  },
  {
   "cell_type": "code",
   "execution_count": 854,
   "metadata": {},
   "outputs": [
    {
     "data": {
      "text/html": [
       "<div>\n",
       "<style scoped>\n",
       "    .dataframe tbody tr th:only-of-type {\n",
       "        vertical-align: middle;\n",
       "    }\n",
       "\n",
       "    .dataframe tbody tr th {\n",
       "        vertical-align: top;\n",
       "    }\n",
       "\n",
       "    .dataframe thead th {\n",
       "        text-align: right;\n",
       "    }\n",
       "</style>\n",
       "<table border=\"1\" class=\"dataframe\">\n",
       "  <thead>\n",
       "    <tr style=\"text-align: right;\">\n",
       "      <th></th>\n",
       "      <th>host_is_superhost</th>\n",
       "      <th>host_identity_verified</th>\n",
       "      <th>instant_bookable</th>\n",
       "    </tr>\n",
       "  </thead>\n",
       "  <tbody>\n",
       "    <tr>\n",
       "      <th>0</th>\n",
       "      <td>0</td>\n",
       "      <td>1</td>\n",
       "      <td>1</td>\n",
       "    </tr>\n",
       "    <tr>\n",
       "      <th>1</th>\n",
       "      <td>1</td>\n",
       "      <td>0</td>\n",
       "      <td>1</td>\n",
       "    </tr>\n",
       "    <tr>\n",
       "      <th>2</th>\n",
       "      <td>1</td>\n",
       "      <td>1</td>\n",
       "      <td>0</td>\n",
       "    </tr>\n",
       "    <tr>\n",
       "      <th>3</th>\n",
       "      <td>1</td>\n",
       "      <td>1</td>\n",
       "      <td>0</td>\n",
       "    </tr>\n",
       "    <tr>\n",
       "      <th>4</th>\n",
       "      <td>0</td>\n",
       "      <td>0</td>\n",
       "      <td>0</td>\n",
       "    </tr>\n",
       "    <tr>\n",
       "      <th>...</th>\n",
       "      <td>...</td>\n",
       "      <td>...</td>\n",
       "      <td>...</td>\n",
       "    </tr>\n",
       "    <tr>\n",
       "      <th>1729</th>\n",
       "      <td>0</td>\n",
       "      <td>1</td>\n",
       "      <td>0</td>\n",
       "    </tr>\n",
       "    <tr>\n",
       "      <th>1730</th>\n",
       "      <td>1</td>\n",
       "      <td>1</td>\n",
       "      <td>1</td>\n",
       "    </tr>\n",
       "    <tr>\n",
       "      <th>1731</th>\n",
       "      <td>1</td>\n",
       "      <td>1</td>\n",
       "      <td>0</td>\n",
       "    </tr>\n",
       "    <tr>\n",
       "      <th>1732</th>\n",
       "      <td>0</td>\n",
       "      <td>0</td>\n",
       "      <td>1</td>\n",
       "    </tr>\n",
       "    <tr>\n",
       "      <th>1733</th>\n",
       "      <td>1</td>\n",
       "      <td>0</td>\n",
       "      <td>1</td>\n",
       "    </tr>\n",
       "  </tbody>\n",
       "</table>\n",
       "<p>1734 rows × 3 columns</p>\n",
       "</div>"
      ],
      "text/plain": [
       "      host_is_superhost  host_identity_verified  instant_bookable\n",
       "0                     0                       1                 1\n",
       "1                     1                       0                 1\n",
       "2                     1                       1                 0\n",
       "3                     1                       1                 0\n",
       "4                     0                       0                 0\n",
       "...                 ...                     ...               ...\n",
       "1729                  0                       1                 0\n",
       "1730                  1                       1                 1\n",
       "1731                  1                       1                 0\n",
       "1732                  0                       0                 1\n",
       "1733                  1                       0                 1\n",
       "\n",
       "[1734 rows x 3 columns]"
      ]
     },
     "execution_count": 854,
     "metadata": {},
     "output_type": "execute_result"
    }
   ],
   "source": [
    "df_test[boolean_test]"
   ]
  },
  {
   "cell_type": "code",
   "execution_count": 855,
   "metadata": {},
   "outputs": [
    {
     "data": {
      "text/plain": [
       "<matplotlib.axes._subplots.AxesSubplot at 0x1ec48957460>"
      ]
     },
     "execution_count": 855,
     "metadata": {},
     "output_type": "execute_result"
    },
    {
     "data": {
      "image/png": "[encoded data removed]",
      "text/plain": [
       "<Figure size 864x576 with 1 Axes>"
      ]
     },
     "metadata": {
      "needs_background": "light"
     },
     "output_type": "display_data"
    }
   ],
   "source": [
    "# Correlation in trianing dataset\n",
    "\n",
    "plt.figure(figsize=(12,8))\n",
    "sns.heatmap(df_train.corr(),annot=True,cbar=False)"
   ]
  },
  {
   "cell_type": "code",
   "execution_count": 856,
   "metadata": {},
   "outputs": [],
   "source": [
    "# accommodates and beds are highly corrrelated so remove one\n",
    "# similarly accommodates and bedrooms higly correlated\n",
    "\n",
    "# correlation does not cause causation"
   ]
  },
  {
   "cell_type": "code",
   "execution_count": 857,
   "metadata": {},
   "outputs": [
    {
     "name": "stdout",
     "output_type": "stream",
     "text": [
      "13\n",
      "13\n"
     ]
    }
   ],
   "source": [
    "numerical_features_train=[feature for feature in df_train.columns if df_train[feature].dtypes != 'O' and df_train[feature].dtypes != 'bool' and feature!='price'  ]\n",
    "numerical_features_test=[feature for feature in df_test.columns if df_train[feature].dtypes != 'O' and df_train[feature].dtypes != 'bool']\n",
    "\n",
    "print(len(numerical_features_train))\n",
    "print(len(numerical_features_test))"
   ]
  },
  {
   "cell_type": "markdown",
   "metadata": {},
   "source": [
    "# Feature Scaling"
   ]
  },
  {
   "cell_type": "code",
   "execution_count": 858,
   "metadata": {},
   "outputs": [],
   "source": [
    "\n",
    "df_train[numerical_features_train] = (df_train[numerical_features_train] - df_train[numerical_features_train].mean()) / df_train[numerical_features_train].std()\n",
    "df_test[numerical_features_test] = (df_test[numerical_features_test] - df_test[numerical_features_test].mean()) / df_test[numerical_features_test].std()"
   ]
  },
  {
   "cell_type": "markdown",
   "metadata": {},
   "source": [
    "# Categorical Features "
   ]
  },
  {
   "cell_type": "code",
   "execution_count": 859,
   "metadata": {},
   "outputs": [],
   "source": [
    "cat_features_train=[feature for feature in df_train.columns if feature!='amenities' and df_train[feature].dtype == 'O'  ]\n",
    "cat_features_test=[feature for feature in df_test.columns if df_test[feature].dtype == 'O' and feature!='amenities']"
   ]
  },
  {
   "cell_type": "code",
   "execution_count": 860,
   "metadata": {},
   "outputs": [
    {
     "data": {
      "text/plain": [
       "['host_response_time',\n",
       " 'neighbourhood_group_cleansed',\n",
       " 'property_type',\n",
       " 'room_type',\n",
       " 'bed_type',\n",
       " 'cancellation_policy']"
      ]
     },
     "execution_count": 860,
     "metadata": {},
     "output_type": "execute_result"
    }
   ],
   "source": [
    "cat_features_train"
   ]
  },
  {
   "cell_type": "code",
   "execution_count": 861,
   "metadata": {},
   "outputs": [
    {
     "data": {
      "text/plain": [
       "['host_response_time',\n",
       " 'neighbourhood_group_cleansed',\n",
       " 'property_type',\n",
       " 'room_type',\n",
       " 'bed_type',\n",
       " 'cancellation_policy']"
      ]
     },
     "execution_count": 861,
     "metadata": {},
     "output_type": "execute_result"
    }
   ],
   "source": [
    "cat_features_test"
   ]
  },
  {
   "cell_type": "code",
   "execution_count": 862,
   "metadata": {
    "scrolled": true
   },
   "outputs": [
    {
     "data": {
      "image/png": "[encoded data removed]",
      "text/plain": [
       "<Figure size 432x288 with 1 Axes>"
      ]
     },
     "metadata": {
      "needs_background": "light"
     },
     "output_type": "display_data"
    },
    {
     "data": {
      "image/png": "[encoded data removed]",
      "text/plain": [
       "<Figure size 432x288 with 1 Axes>"
      ]
     },
     "metadata": {
      "needs_background": "light"
     },
     "output_type": "display_data"
    },
    {
     "data": {
      "image/png": "[encoded data removed]",
      "text/plain": [
       "<Figure size 432x288 with 1 Axes>"
      ]
     },
     "metadata": {
      "needs_background": "light"
     },
     "output_type": "display_data"
    },
    {
     "data": {
      "image/png": "[encoded data removed]",
      "text/plain": [
       "<Figure size 432x288 with 1 Axes>"
      ]
     },
     "metadata": {
      "needs_background": "light"
     },
     "output_type": "display_data"
    },
    {
     "data": {
      "image/png": "[encoded data removed]",
      "text/plain": [
       "<Figure size 432x288 with 1 Axes>"
      ]
     },
     "metadata": {
      "needs_background": "light"
     },
     "output_type": "display_data"
    },
    {
     "data": {
      "image/png": "[encoded data removed]",
      "text/plain": [
       "<Figure size 432x288 with 1 Axes>"
      ]
     },
     "metadata": {
      "needs_background": "light"
     },
     "output_type": "display_data"
    }
   ],
   "source": [
    "for feature in cat_features_train:\n",
    "    data=df_train.copy()\n",
    "    data.groupby(feature)['price'].median().plot.bar()\n",
    "    plt.xlabel(feature)\n",
    "    plt.ylabel('price')\n",
    "    plt.title(feature)\n",
    "    plt.show()"
   ]
  },
  {
   "cell_type": "code",
   "execution_count": 863,
   "metadata": {},
   "outputs": [
    {
     "name": "stdout",
     "output_type": "stream",
     "text": [
      "host_response_time : 4\n",
      "neighbourhood_group_cleansed : 17\n",
      "property_type : 26\n",
      "room_type : 3\n",
      "bed_type : 4\n",
      "cancellation_policy : 6\n"
     ]
    }
   ],
   "source": [
    "for feature in cat_features_train:\n",
    "    print(feature,':',df_train[feature].nunique())"
   ]
  },
  {
   "cell_type": "code",
   "execution_count": 864,
   "metadata": {},
   "outputs": [
    {
     "name": "stdout",
     "output_type": "stream",
     "text": [
      "host_response_time : 4\n",
      "neighbourhood_group_cleansed : 17\n",
      "property_type : 21\n",
      "room_type : 3\n",
      "bed_type : 5\n",
      "cancellation_policy : 6\n"
     ]
    }
   ],
   "source": [
    "for feature in cat_features_test:\n",
    "    print(feature,':',df_test[feature].nunique())"
   ]
  },
  {
   "cell_type": "code",
   "execution_count": 865,
   "metadata": {},
   "outputs": [
    {
     "data": {
      "text/plain": [
       "Real Bed         3421\n",
       "Futon              23\n",
       "Pull-out Sofa      16\n",
       "Airbed              6\n",
       "Name: bed_type, dtype: int64"
      ]
     },
     "execution_count": 865,
     "metadata": {},
     "output_type": "execute_result"
    }
   ],
   "source": [
    "df_train['bed_type'].value_counts()"
   ]
  },
  {
   "cell_type": "code",
   "execution_count": 866,
   "metadata": {},
   "outputs": [
    {
     "data": {
      "text/plain": [
       "Real Bed         1713\n",
       "Futon              11\n",
       "Airbed              5\n",
       "Pull-out Sofa       4\n",
       "Couch               1\n",
       "Name: bed_type, dtype: int64"
      ]
     },
     "execution_count": 866,
     "metadata": {},
     "output_type": "execute_result"
    }
   ],
   "source": [
    "df_test['bed_type'].value_counts()"
   ]
  },
  {
   "cell_type": "code",
   "execution_count": 867,
   "metadata": {},
   "outputs": [],
   "source": [
    "# only one couch is in bed type of test data, change it to real bed in test data\n",
    "\n",
    "df_test['bed_type']= np.where((df_test.bed_type == 'Couch' ), 'Real Bed', df_test.bed_type) "
   ]
  },
  {
   "cell_type": "code",
   "execution_count": 868,
   "metadata": {},
   "outputs": [
    {
     "data": {
      "text/plain": [
       "Real Bed         1714\n",
       "Futon              11\n",
       "Airbed              5\n",
       "Pull-out Sofa       4\n",
       "Name: bed_type, dtype: int64"
      ]
     },
     "execution_count": 868,
     "metadata": {},
     "output_type": "execute_result"
    }
   ],
   "source": [
    "df_test['bed_type'].value_counts()"
   ]
  },
  {
   "cell_type": "code",
   "execution_count": 869,
   "metadata": {},
   "outputs": [
    {
     "data": {
      "text/plain": [
       "array(['Apartment', 'House', 'Guest suite', 'Townhouse', 'Bungalow',\n",
       "       'Condominium', 'Loft', 'Serviced apartment', 'Guesthouse',\n",
       "       'Houseboat', 'Aparthotel', 'Bed and breakfast', 'Camper/RV',\n",
       "       'Tiny house', 'Cabin', 'Boat', 'Cottage', 'Other', 'Farm stay',\n",
       "       'Hostel', 'Tent', 'Resort', 'Yurt', 'In-law', 'Boutique hotel',\n",
       "       'Villa'], dtype=object)"
      ]
     },
     "execution_count": 869,
     "metadata": {},
     "output_type": "execute_result"
    }
   ],
   "source": [
    "df_train['property_type'].unique()"
   ]
  },
  {
   "cell_type": "code",
   "execution_count": 870,
   "metadata": {},
   "outputs": [
    {
     "data": {
      "text/plain": [
       "Apartment             1158\n",
       "House                 1079\n",
       "Guest suite            343\n",
       "Townhouse              292\n",
       "Condominium            193\n",
       "Guesthouse             105\n",
       "Serviced apartment      89\n",
       "Loft                    48\n",
       "Bungalow                40\n",
       "Aparthotel              26\n",
       "Cottage                 18\n",
       "Cabin                   12\n",
       "Tiny house              12\n",
       "Boat                     9\n",
       "Camper/RV                9\n",
       "Houseboat                7\n",
       "Other                    7\n",
       "Bed and breakfast        6\n",
       "Hostel                   4\n",
       "Tent                     3\n",
       "Resort                   1\n",
       "Farm stay                1\n",
       "Villa                    1\n",
       "Yurt                     1\n",
       "In-law                   1\n",
       "Boutique hotel           1\n",
       "Name: property_type, dtype: int64"
      ]
     },
     "execution_count": 870,
     "metadata": {},
     "output_type": "execute_result"
    }
   ],
   "source": [
    "df_train['property_type'].value_counts()"
   ]
  },
  {
   "cell_type": "code",
   "execution_count": 871,
   "metadata": {},
   "outputs": [
    {
     "data": {
      "text/plain": [
       "(3466, 21)"
      ]
     },
     "execution_count": 871,
     "metadata": {},
     "output_type": "execute_result"
    }
   ],
   "source": [
    "df_train.shape"
   ]
  },
  {
   "cell_type": "code",
   "execution_count": 872,
   "metadata": {},
   "outputs": [],
   "source": [
    "# dummy encoding for categorical features other than amenities feature in testing dataset\n",
    "\n",
    "df_train=pd.get_dummies(df_train,columns=cat_features_train)"
   ]
  },
  {
   "cell_type": "code",
   "execution_count": 873,
   "metadata": {},
   "outputs": [
    {
     "data": {
      "text/plain": [
       "(3466, 75)"
      ]
     },
     "execution_count": 873,
     "metadata": {},
     "output_type": "execute_result"
    }
   ],
   "source": [
    "df_train.shape"
   ]
  },
  {
   "cell_type": "code",
   "execution_count": 874,
   "metadata": {},
   "outputs": [
    {
     "data": {
      "text/plain": [
       "(1734, 20)"
      ]
     },
     "execution_count": 874,
     "metadata": {},
     "output_type": "execute_result"
    }
   ],
   "source": [
    "df_test.shape"
   ]
  },
  {
   "cell_type": "code",
   "execution_count": 875,
   "metadata": {},
   "outputs": [],
   "source": [
    "# dummy encoding for categorical features other than amenities feature in training dataset\n",
    "\n",
    "df_test=pd.get_dummies(df_test,columns=cat_features_test)"
   ]
  },
  {
   "cell_type": "code",
   "execution_count": 876,
   "metadata": {},
   "outputs": [
    {
     "data": {
      "text/plain": [
       "(1734, 69)"
      ]
     },
     "execution_count": 876,
     "metadata": {},
     "output_type": "execute_result"
    }
   ],
   "source": [
    "df_test.shape"
   ]
  },
  {
   "cell_type": "markdown",
   "metadata": {},
   "source": [
    "## Feature Engineering"
   ]
  },
  {
   "cell_type": "markdown",
   "metadata": {},
   "source": [
    "### Handling Amenities column "
   ]
  },
  {
   "cell_type": "code",
   "execution_count": 877,
   "metadata": {},
   "outputs": [
    {
     "data": {
      "text/plain": [
       "'{TV,Internet,Wifi,Kitchen,Elevator,Heating,\"Family/kid friendly\",Washer,Dryer,\"Smoke detector\",\"Carbon monoxide detector\",\"First aid kit\",\"Safety card\",\"Fire extinguisher\",Essentials,Shampoo,Hangers,\"Hair dryer\",Iron,\"Laptop friendly workspace\",\"Self check-in\",\"Smart lock\",Keypad,\"Private living room\"}'"
      ]
     },
     "execution_count": 877,
     "metadata": {},
     "output_type": "execute_result"
    }
   ],
   "source": [
    "# Amenities column for training data set\n",
    "\n",
    "df_train['amenities'][0]"
   ]
  },
  {
   "cell_type": "code",
   "execution_count": 878,
   "metadata": {},
   "outputs": [],
   "source": [
    "# in each rom all the extra features are removed and then the amenities are stored as list in each row\n",
    "\n",
    "\n",
    "def striplist(l):\n",
    "    return([x.strip() for x in l])\n",
    "\n",
    "\n",
    "df_train['amenities'] = df_train['amenities'].str.replace('{', '') \\\n",
    "                                         .str.replace('}', '') \\\n",
    "                                         .str.replace('\"','') \\\n",
    "                                         .str.lower() \\\n",
    "                                         .str.split(',') \\\n",
    "                                         .apply(striplist)"
   ]
  },
  {
   "cell_type": "code",
   "execution_count": 879,
   "metadata": {},
   "outputs": [
    {
     "data": {
      "text/plain": [
       "0       [tv, internet, wifi, kitchen, elevator, heatin...\n",
       "1       [tv, cable tv, internet, wifi, air conditionin...\n",
       "2       [tv, wifi, air conditioning, kitchen, free str...\n",
       "3       [internet, wifi, kitchen, pets live on this pr...\n",
       "4       [tv, wifi, kitchen, free parking on premises, ...\n",
       "                              ...                        \n",
       "3461    [tv, internet, wifi, air conditioning, kitchen...\n",
       "3462    [wifi, kitchen, heating, essentials, shampoo, ...\n",
       "3463    [wifi, kitchen, free parking on premises, pets...\n",
       "3464    [tv, wifi, free parking on premises, indoor fi...\n",
       "3465    [wifi, kitchen, free street parking, heating, ...\n",
       "Name: amenities, Length: 3466, dtype: object"
      ]
     },
     "execution_count": 879,
     "metadata": {},
     "output_type": "execute_result"
    }
   ],
   "source": [
    "df_train['amenities'] # it resembles multi label"
   ]
  },
  {
   "cell_type": "code",
   "execution_count": 880,
   "metadata": {},
   "outputs": [],
   "source": [
    "# method 1\n",
    "\n",
    "#Finding length of each list and creating new feature \n",
    "\n",
    "def number_counter(val):\n",
    "    return len(val)\n",
    "\n",
    "df_train['no_of_amenities'] = df_train['amenities'].apply(lambda x: number_counter(x))\n",
    "df_test['no_of_amenities'] = df_test['amenities'].apply(lambda x: number_counter(x))\n"
   ]
  },
  {
   "cell_type": "code",
   "execution_count": 881,
   "metadata": {},
   "outputs": [
    {
     "data": {
      "text/plain": [
       "0    24\n",
       "1    39\n",
       "2    32\n",
       "3    17\n",
       "4    30\n",
       "Name: no_of_amenities, dtype: int64"
      ]
     },
     "execution_count": 881,
     "metadata": {},
     "output_type": "execute_result"
    }
   ],
   "source": [
    "df_train['no_of_amenities'].head(5)"
   ]
  },
  {
   "cell_type": "code",
   "execution_count": 882,
   "metadata": {},
   "outputs": [],
   "source": [
    "df_train1 = df_train.copy()"
   ]
  },
  {
   "cell_type": "code",
   "execution_count": 883,
   "metadata": {},
   "outputs": [],
   "source": [
    "df_train.drop(['amenities'],axis=1,inplace=True)"
   ]
  },
  {
   "cell_type": "code",
   "execution_count": 884,
   "metadata": {},
   "outputs": [
    {
     "data": {
      "text/html": [
       "<div>\n",
       "<style scoped>\n",
       "    .dataframe tbody tr th:only-of-type {\n",
       "        vertical-align: middle;\n",
       "    }\n",
       "\n",
       "    .dataframe tbody tr th {\n",
       "        vertical-align: top;\n",
       "    }\n",
       "\n",
       "    .dataframe thead th {\n",
       "        text-align: right;\n",
       "    }\n",
       "</style>\n",
       "<table border=\"1\" class=\"dataframe\">\n",
       "  <thead>\n",
       "    <tr style=\"text-align: right;\">\n",
       "      <th></th>\n",
       "      <th></th>\n",
       "      <th>24-hour check-in</th>\n",
       "      <th>accessible-height bed</th>\n",
       "      <th>accessible-height toilet</th>\n",
       "      <th>air conditioning</th>\n",
       "      <th>amazon echo</th>\n",
       "      <th>baby bath</th>\n",
       "      <th>baby monitor</th>\n",
       "      <th>babysitter recommendations</th>\n",
       "      <th>balcony</th>\n",
       "      <th>bath towel</th>\n",
       "      <th>bathroom essentials</th>\n",
       "      <th>bathtub</th>\n",
       "      <th>bathtub with bath chair</th>\n",
       "      <th>bbq grill</th>\n",
       "      <th>beach essentials</th>\n",
       "      <th>beach view</th>\n",
       "      <th>beachfront</th>\n",
       "      <th>bed linens</th>\n",
       "      <th>bedroom comforts</th>\n",
       "      <th>body soap</th>\n",
       "      <th>breakfast</th>\n",
       "      <th>breakfast table</th>\n",
       "      <th>building staff</th>\n",
       "      <th>buzzer/wireless intercom</th>\n",
       "      <th>cable tv</th>\n",
       "      <th>carbon monoxide detector</th>\n",
       "      <th>cat(s)</th>\n",
       "      <th>ceiling fan</th>\n",
       "      <th>central air conditioning</th>\n",
       "      <th>changing table</th>\n",
       "      <th>children’s books and toys</th>\n",
       "      <th>children’s dinnerware</th>\n",
       "      <th>cleaning before checkout</th>\n",
       "      <th>coffee maker</th>\n",
       "      <th>convection oven</th>\n",
       "      <th>cooking basics</th>\n",
       "      <th>crib</th>\n",
       "      <th>day bed</th>\n",
       "      <th>disabled parking spot</th>\n",
       "      <th>dishes and silverware</th>\n",
       "      <th>dishwasher</th>\n",
       "      <th>dog(s)</th>\n",
       "      <th>doorman</th>\n",
       "      <th>dryer</th>\n",
       "      <th>dvd player</th>\n",
       "      <th>electric profiling bed</th>\n",
       "      <th>elevator</th>\n",
       "      <th>en suite bathroom</th>\n",
       "      <th>espresso machine</th>\n",
       "      <th>essentials</th>\n",
       "      <th>ethernet connection</th>\n",
       "      <th>ev charger</th>\n",
       "      <th>exercise equipment</th>\n",
       "      <th>extra pillows and blankets</th>\n",
       "      <th>family/kid friendly</th>\n",
       "      <th>fire extinguisher</th>\n",
       "      <th>fire pit</th>\n",
       "      <th>fireplace guards</th>\n",
       "      <th>firm mattress</th>\n",
       "      <th>first aid kit</th>\n",
       "      <th>fixed grab bars for shower</th>\n",
       "      <th>fixed grab bars for toilet</th>\n",
       "      <th>flat path to front door</th>\n",
       "      <th>formal dining area</th>\n",
       "      <th>free parking on premises</th>\n",
       "      <th>free street parking</th>\n",
       "      <th>full kitchen</th>\n",
       "      <th>game console</th>\n",
       "      <th>garden or backyard</th>\n",
       "      <th>gas oven</th>\n",
       "      <th>ground floor access</th>\n",
       "      <th>gym</th>\n",
       "      <th>hair dryer</th>\n",
       "      <th>hammock</th>\n",
       "      <th>handheld shower head</th>\n",
       "      <th>hangers</th>\n",
       "      <th>hbo go</th>\n",
       "      <th>heat lamps</th>\n",
       "      <th>heated floors</th>\n",
       "      <th>heated towel rack</th>\n",
       "      <th>heating</th>\n",
       "      <th>high chair</th>\n",
       "      <th>high-resolution computer monitor</th>\n",
       "      <th>host greets you</th>\n",
       "      <th>hot tub</th>\n",
       "      <th>hot water</th>\n",
       "      <th>hot water kettle</th>\n",
       "      <th>indoor fireplace</th>\n",
       "      <th>internet</th>\n",
       "      <th>iron</th>\n",
       "      <th>jetted tub</th>\n",
       "      <th>keypad</th>\n",
       "      <th>kitchen</th>\n",
       "      <th>kitchenette</th>\n",
       "      <th>lake access</th>\n",
       "      <th>laptop friendly workspace</th>\n",
       "      <th>lock on bedroom door</th>\n",
       "      <th>lockbox</th>\n",
       "      <th>long term stays allowed</th>\n",
       "      <th>luggage dropoff allowed</th>\n",
       "      <th>memory foam mattress</th>\n",
       "      <th>microwave</th>\n",
       "      <th>mini fridge</th>\n",
       "      <th>mountain view</th>\n",
       "      <th>mudroom</th>\n",
       "      <th>netflix</th>\n",
       "      <th>other</th>\n",
       "      <th>other pet(s)</th>\n",
       "      <th>outdoor parking</th>\n",
       "      <th>outdoor seating</th>\n",
       "      <th>outlet covers</th>\n",
       "      <th>oven</th>\n",
       "      <th>pack ’n play/travel crib</th>\n",
       "      <th>paid parking off premises</th>\n",
       "      <th>paid parking on premises</th>\n",
       "      <th>patio or balcony</th>\n",
       "      <th>pets allowed</th>\n",
       "      <th>pets live on this property</th>\n",
       "      <th>pillow-top mattress</th>\n",
       "      <th>pocket wifi</th>\n",
       "      <th>pool</th>\n",
       "      <th>pool with pool hoist</th>\n",
       "      <th>printer</th>\n",
       "      <th>private bathroom</th>\n",
       "      <th>private entrance</th>\n",
       "      <th>private hot tub</th>\n",
       "      <th>private living room</th>\n",
       "      <th>projector and screen</th>\n",
       "      <th>rain shower</th>\n",
       "      <th>refrigerator</th>\n",
       "      <th>roll-in shower</th>\n",
       "      <th>room-darkening shades</th>\n",
       "      <th>safety card</th>\n",
       "      <th>sauna</th>\n",
       "      <th>self check-in</th>\n",
       "      <th>shampoo</th>\n",
       "      <th>shared gym</th>\n",
       "      <th>shared hot tub</th>\n",
       "      <th>shared pool</th>\n",
       "      <th>shower chair</th>\n",
       "      <th>single level home</th>\n",
       "      <th>ski-in/ski-out</th>\n",
       "      <th>smart lock</th>\n",
       "      <th>smart tv</th>\n",
       "      <th>smoke detector</th>\n",
       "      <th>smoking allowed</th>\n",
       "      <th>soaking tub</th>\n",
       "      <th>sound system</th>\n",
       "      <th>stair gates</th>\n",
       "      <th>stand alone steam shower</th>\n",
       "      <th>standing valet</th>\n",
       "      <th>steam oven</th>\n",
       "      <th>step-free access</th>\n",
       "      <th>stove</th>\n",
       "      <th>suitable for events</th>\n",
       "      <th>sun loungers</th>\n",
       "      <th>table corner guards</th>\n",
       "      <th>terrace</th>\n",
       "      <th>toilet</th>\n",
       "      <th>toilet paper</th>\n",
       "      <th>translation missing: en.hosting_amenity_49</th>\n",
       "      <th>translation missing: en.hosting_amenity_50</th>\n",
       "      <th>tv</th>\n",
       "      <th>walk-in shower</th>\n",
       "      <th>warming drawer</th>\n",
       "      <th>washer</th>\n",
       "      <th>waterfront</th>\n",
       "      <th>well-lit path to entrance</th>\n",
       "      <th>wheelchair accessible</th>\n",
       "      <th>wide clearance to bed</th>\n",
       "      <th>wide clearance to shower</th>\n",
       "      <th>wide doorway</th>\n",
       "      <th>wide entryway</th>\n",
       "      <th>wide hallway clearance</th>\n",
       "      <th>wifi</th>\n",
       "      <th>window guards</th>\n",
       "      <th>wine cooler</th>\n",
       "    </tr>\n",
       "  </thead>\n",
       "  <tbody>\n",
       "    <tr>\n",
       "      <th>0</th>\n",
       "      <td>0</td>\n",
       "      <td>0</td>\n",
       "      <td>0</td>\n",
       "      <td>0</td>\n",
       "      <td>0</td>\n",
       "      <td>0</td>\n",
       "      <td>0</td>\n",
       "      <td>0</td>\n",
       "      <td>0</td>\n",
       "      <td>0</td>\n",
       "      <td>0</td>\n",
       "      <td>0</td>\n",
       "      <td>0</td>\n",
       "      <td>0</td>\n",
       "      <td>0</td>\n",
       "      <td>0</td>\n",
       "      <td>0</td>\n",
       "      <td>0</td>\n",
       "      <td>0</td>\n",
       "      <td>0</td>\n",
       "      <td>0</td>\n",
       "      <td>0</td>\n",
       "      <td>0</td>\n",
       "      <td>0</td>\n",
       "      <td>0</td>\n",
       "      <td>0</td>\n",
       "      <td>1</td>\n",
       "      <td>0</td>\n",
       "      <td>0</td>\n",
       "      <td>0</td>\n",
       "      <td>0</td>\n",
       "      <td>0</td>\n",
       "      <td>0</td>\n",
       "      <td>0</td>\n",
       "      <td>0</td>\n",
       "      <td>0</td>\n",
       "      <td>0</td>\n",
       "      <td>0</td>\n",
       "      <td>0</td>\n",
       "      <td>0</td>\n",
       "      <td>0</td>\n",
       "      <td>0</td>\n",
       "      <td>0</td>\n",
       "      <td>0</td>\n",
       "      <td>1</td>\n",
       "      <td>0</td>\n",
       "      <td>0</td>\n",
       "      <td>1</td>\n",
       "      <td>0</td>\n",
       "      <td>0</td>\n",
       "      <td>1</td>\n",
       "      <td>0</td>\n",
       "      <td>0</td>\n",
       "      <td>0</td>\n",
       "      <td>0</td>\n",
       "      <td>1</td>\n",
       "      <td>1</td>\n",
       "      <td>0</td>\n",
       "      <td>0</td>\n",
       "      <td>0</td>\n",
       "      <td>1</td>\n",
       "      <td>0</td>\n",
       "      <td>0</td>\n",
       "      <td>0</td>\n",
       "      <td>0</td>\n",
       "      <td>0</td>\n",
       "      <td>0</td>\n",
       "      <td>0</td>\n",
       "      <td>0</td>\n",
       "      <td>0</td>\n",
       "      <td>0</td>\n",
       "      <td>0</td>\n",
       "      <td>0</td>\n",
       "      <td>1</td>\n",
       "      <td>0</td>\n",
       "      <td>0</td>\n",
       "      <td>1</td>\n",
       "      <td>0</td>\n",
       "      <td>0</td>\n",
       "      <td>0</td>\n",
       "      <td>0</td>\n",
       "      <td>1</td>\n",
       "      <td>0</td>\n",
       "      <td>0</td>\n",
       "      <td>0</td>\n",
       "      <td>0</td>\n",
       "      <td>0</td>\n",
       "      <td>0</td>\n",
       "      <td>0</td>\n",
       "      <td>1</td>\n",
       "      <td>1</td>\n",
       "      <td>0</td>\n",
       "      <td>1</td>\n",
       "      <td>1</td>\n",
       "      <td>0</td>\n",
       "      <td>0</td>\n",
       "      <td>1</td>\n",
       "      <td>0</td>\n",
       "      <td>0</td>\n",
       "      <td>0</td>\n",
       "      <td>0</td>\n",
       "      <td>0</td>\n",
       "      <td>0</td>\n",
       "      <td>0</td>\n",
       "      <td>0</td>\n",
       "      <td>0</td>\n",
       "      <td>0</td>\n",
       "      <td>0</td>\n",
       "      <td>0</td>\n",
       "      <td>0</td>\n",
       "      <td>0</td>\n",
       "      <td>0</td>\n",
       "      <td>0</td>\n",
       "      <td>0</td>\n",
       "      <td>0</td>\n",
       "      <td>0</td>\n",
       "      <td>0</td>\n",
       "      <td>0</td>\n",
       "      <td>0</td>\n",
       "      <td>0</td>\n",
       "      <td>0</td>\n",
       "      <td>0</td>\n",
       "      <td>0</td>\n",
       "      <td>0</td>\n",
       "      <td>0</td>\n",
       "      <td>0</td>\n",
       "      <td>0</td>\n",
       "      <td>1</td>\n",
       "      <td>0</td>\n",
       "      <td>0</td>\n",
       "      <td>0</td>\n",
       "      <td>0</td>\n",
       "      <td>0</td>\n",
       "      <td>1</td>\n",
       "      <td>0</td>\n",
       "      <td>1</td>\n",
       "      <td>1</td>\n",
       "      <td>0</td>\n",
       "      <td>0</td>\n",
       "      <td>0</td>\n",
       "      <td>0</td>\n",
       "      <td>0</td>\n",
       "      <td>0</td>\n",
       "      <td>1</td>\n",
       "      <td>0</td>\n",
       "      <td>1</td>\n",
       "      <td>0</td>\n",
       "      <td>0</td>\n",
       "      <td>0</td>\n",
       "      <td>0</td>\n",
       "      <td>0</td>\n",
       "      <td>0</td>\n",
       "      <td>0</td>\n",
       "      <td>0</td>\n",
       "      <td>0</td>\n",
       "      <td>0</td>\n",
       "      <td>0</td>\n",
       "      <td>0</td>\n",
       "      <td>0</td>\n",
       "      <td>0</td>\n",
       "      <td>0</td>\n",
       "      <td>0</td>\n",
       "      <td>0</td>\n",
       "      <td>1</td>\n",
       "      <td>0</td>\n",
       "      <td>0</td>\n",
       "      <td>1</td>\n",
       "      <td>0</td>\n",
       "      <td>0</td>\n",
       "      <td>0</td>\n",
       "      <td>0</td>\n",
       "      <td>0</td>\n",
       "      <td>0</td>\n",
       "      <td>0</td>\n",
       "      <td>0</td>\n",
       "      <td>1</td>\n",
       "      <td>0</td>\n",
       "      <td>0</td>\n",
       "    </tr>\n",
       "    <tr>\n",
       "      <th>1</th>\n",
       "      <td>0</td>\n",
       "      <td>0</td>\n",
       "      <td>0</td>\n",
       "      <td>0</td>\n",
       "      <td>1</td>\n",
       "      <td>0</td>\n",
       "      <td>0</td>\n",
       "      <td>0</td>\n",
       "      <td>0</td>\n",
       "      <td>0</td>\n",
       "      <td>0</td>\n",
       "      <td>0</td>\n",
       "      <td>0</td>\n",
       "      <td>0</td>\n",
       "      <td>0</td>\n",
       "      <td>0</td>\n",
       "      <td>0</td>\n",
       "      <td>0</td>\n",
       "      <td>1</td>\n",
       "      <td>0</td>\n",
       "      <td>0</td>\n",
       "      <td>0</td>\n",
       "      <td>0</td>\n",
       "      <td>0</td>\n",
       "      <td>0</td>\n",
       "      <td>1</td>\n",
       "      <td>1</td>\n",
       "      <td>0</td>\n",
       "      <td>0</td>\n",
       "      <td>0</td>\n",
       "      <td>0</td>\n",
       "      <td>0</td>\n",
       "      <td>0</td>\n",
       "      <td>0</td>\n",
       "      <td>1</td>\n",
       "      <td>0</td>\n",
       "      <td>1</td>\n",
       "      <td>0</td>\n",
       "      <td>0</td>\n",
       "      <td>0</td>\n",
       "      <td>1</td>\n",
       "      <td>1</td>\n",
       "      <td>0</td>\n",
       "      <td>0</td>\n",
       "      <td>1</td>\n",
       "      <td>0</td>\n",
       "      <td>0</td>\n",
       "      <td>0</td>\n",
       "      <td>0</td>\n",
       "      <td>0</td>\n",
       "      <td>1</td>\n",
       "      <td>0</td>\n",
       "      <td>0</td>\n",
       "      <td>0</td>\n",
       "      <td>0</td>\n",
       "      <td>0</td>\n",
       "      <td>0</td>\n",
       "      <td>0</td>\n",
       "      <td>0</td>\n",
       "      <td>0</td>\n",
       "      <td>1</td>\n",
       "      <td>0</td>\n",
       "      <td>0</td>\n",
       "      <td>0</td>\n",
       "      <td>0</td>\n",
       "      <td>0</td>\n",
       "      <td>1</td>\n",
       "      <td>1</td>\n",
       "      <td>0</td>\n",
       "      <td>0</td>\n",
       "      <td>0</td>\n",
       "      <td>0</td>\n",
       "      <td>0</td>\n",
       "      <td>1</td>\n",
       "      <td>0</td>\n",
       "      <td>0</td>\n",
       "      <td>1</td>\n",
       "      <td>0</td>\n",
       "      <td>0</td>\n",
       "      <td>0</td>\n",
       "      <td>0</td>\n",
       "      <td>1</td>\n",
       "      <td>0</td>\n",
       "      <td>0</td>\n",
       "      <td>0</td>\n",
       "      <td>0</td>\n",
       "      <td>1</td>\n",
       "      <td>0</td>\n",
       "      <td>1</td>\n",
       "      <td>1</td>\n",
       "      <td>1</td>\n",
       "      <td>0</td>\n",
       "      <td>1</td>\n",
       "      <td>1</td>\n",
       "      <td>0</td>\n",
       "      <td>0</td>\n",
       "      <td>1</td>\n",
       "      <td>0</td>\n",
       "      <td>0</td>\n",
       "      <td>0</td>\n",
       "      <td>1</td>\n",
       "      <td>0</td>\n",
       "      <td>1</td>\n",
       "      <td>0</td>\n",
       "      <td>0</td>\n",
       "      <td>0</td>\n",
       "      <td>0</td>\n",
       "      <td>0</td>\n",
       "      <td>0</td>\n",
       "      <td>0</td>\n",
       "      <td>0</td>\n",
       "      <td>0</td>\n",
       "      <td>1</td>\n",
       "      <td>0</td>\n",
       "      <td>0</td>\n",
       "      <td>0</td>\n",
       "      <td>0</td>\n",
       "      <td>0</td>\n",
       "      <td>1</td>\n",
       "      <td>0</td>\n",
       "      <td>0</td>\n",
       "      <td>0</td>\n",
       "      <td>0</td>\n",
       "      <td>0</td>\n",
       "      <td>0</td>\n",
       "      <td>1</td>\n",
       "      <td>0</td>\n",
       "      <td>0</td>\n",
       "      <td>0</td>\n",
       "      <td>0</td>\n",
       "      <td>1</td>\n",
       "      <td>0</td>\n",
       "      <td>0</td>\n",
       "      <td>1</td>\n",
       "      <td>0</td>\n",
       "      <td>1</td>\n",
       "      <td>1</td>\n",
       "      <td>0</td>\n",
       "      <td>0</td>\n",
       "      <td>0</td>\n",
       "      <td>0</td>\n",
       "      <td>0</td>\n",
       "      <td>0</td>\n",
       "      <td>0</td>\n",
       "      <td>0</td>\n",
       "      <td>1</td>\n",
       "      <td>0</td>\n",
       "      <td>0</td>\n",
       "      <td>0</td>\n",
       "      <td>0</td>\n",
       "      <td>0</td>\n",
       "      <td>0</td>\n",
       "      <td>0</td>\n",
       "      <td>0</td>\n",
       "      <td>1</td>\n",
       "      <td>0</td>\n",
       "      <td>0</td>\n",
       "      <td>0</td>\n",
       "      <td>0</td>\n",
       "      <td>0</td>\n",
       "      <td>0</td>\n",
       "      <td>1</td>\n",
       "      <td>1</td>\n",
       "      <td>1</td>\n",
       "      <td>0</td>\n",
       "      <td>0</td>\n",
       "      <td>1</td>\n",
       "      <td>0</td>\n",
       "      <td>0</td>\n",
       "      <td>0</td>\n",
       "      <td>0</td>\n",
       "      <td>0</td>\n",
       "      <td>0</td>\n",
       "      <td>0</td>\n",
       "      <td>0</td>\n",
       "      <td>1</td>\n",
       "      <td>0</td>\n",
       "      <td>0</td>\n",
       "    </tr>\n",
       "  </tbody>\n",
       "</table>\n",
       "</div>"
      ],
      "text/plain": [
       "      24-hour check-in  accessible-height bed  accessible-height toilet  \\\n",
       "0  0                 0                      0                         0   \n",
       "1  0                 0                      0                         0   \n",
       "\n",
       "   air conditioning  amazon echo  baby bath  baby monitor  \\\n",
       "0                 0            0          0             0   \n",
       "1                 1            0          0             0   \n",
       "\n",
       "   babysitter recommendations  balcony  bath towel  bathroom essentials  \\\n",
       "0                           0        0           0                    0   \n",
       "1                           0        0           0                    0   \n",
       "\n",
       "   bathtub  bathtub with bath chair  bbq grill  beach essentials  beach view  \\\n",
       "0        0                        0          0                 0           0   \n",
       "1        0                        0          0                 0           0   \n",
       "\n",
       "   beachfront  bed linens  bedroom comforts  body soap  breakfast  \\\n",
       "0           0           0                 0          0          0   \n",
       "1           0           1                 0          0          0   \n",
       "\n",
       "   breakfast table  building staff  buzzer/wireless intercom  cable tv  \\\n",
       "0                0               0                         0         0   \n",
       "1                0               0                         0         1   \n",
       "\n",
       "   carbon monoxide detector  cat(s)  ceiling fan  central air conditioning  \\\n",
       "0                         1       0            0                         0   \n",
       "1                         1       0            0                         0   \n",
       "\n",
       "   changing table  children’s books and toys  children’s dinnerware  \\\n",
       "0               0                          0                      0   \n",
       "1               0                          0                      0   \n",
       "\n",
       "   cleaning before checkout  coffee maker  convection oven  cooking basics  \\\n",
       "0                         0             0                0               0   \n",
       "1                         0             1                0               1   \n",
       "\n",
       "   crib  day bed  disabled parking spot  dishes and silverware  dishwasher  \\\n",
       "0     0        0                      0                      0           0   \n",
       "1     0        0                      0                      1           1   \n",
       "\n",
       "   dog(s)  doorman  dryer  dvd player  electric profiling bed  elevator  \\\n",
       "0       0        0      1           0                       0         1   \n",
       "1       0        0      1           0                       0         0   \n",
       "\n",
       "   en suite bathroom  espresso machine  essentials  ethernet connection  \\\n",
       "0                  0                 0           1                    0   \n",
       "1                  0                 0           1                    0   \n",
       "\n",
       "   ev charger  exercise equipment  extra pillows and blankets  \\\n",
       "0           0                   0                           0   \n",
       "1           0                   0                           0   \n",
       "\n",
       "   family/kid friendly  fire extinguisher  fire pit  fireplace guards  \\\n",
       "0                    1                  1         0                 0   \n",
       "1                    0                  0         0                 0   \n",
       "\n",
       "   firm mattress  first aid kit  fixed grab bars for shower  \\\n",
       "0              0              1                           0   \n",
       "1              0              1                           0   \n",
       "\n",
       "   fixed grab bars for toilet  flat path to front door  formal dining area  \\\n",
       "0                           0                        0                   0   \n",
       "1                           0                        0                   0   \n",
       "\n",
       "   free parking on premises  free street parking  full kitchen  game console  \\\n",
       "0                         0                    0             0             0   \n",
       "1                         0                    1             1             0   \n",
       "\n",
       "   garden or backyard  gas oven  ground floor access  gym  hair dryer  \\\n",
       "0                   0         0                    0    0           1   \n",
       "1                   0         0                    0    0           1   \n",
       "\n",
       "   hammock  handheld shower head  hangers  hbo go  heat lamps  heated floors  \\\n",
       "0        0                     0        1       0           0              0   \n",
       "1        0                     0        1       0           0              0   \n",
       "\n",
       "   heated towel rack  heating  high chair  high-resolution computer monitor  \\\n",
       "0                  0        1           0                                 0   \n",
       "1                  0        1           0                                 0   \n",
       "\n",
       "   host greets you  hot tub  hot water  hot water kettle  indoor fireplace  \\\n",
       "0                0        0          0                 0                 0   \n",
       "1                0        0          1                 0                 1   \n",
       "\n",
       "   internet  iron  jetted tub  keypad  kitchen  kitchenette  lake access  \\\n",
       "0         1     1           0       1        1            0            0   \n",
       "1         1     1           0       1        1            0            0   \n",
       "\n",
       "   laptop friendly workspace  lock on bedroom door  lockbox  \\\n",
       "0                          1                     0        0   \n",
       "1                          1                     0        0   \n",
       "\n",
       "   long term stays allowed  luggage dropoff allowed  memory foam mattress  \\\n",
       "0                        0                        0                     0   \n",
       "1                        0                        1                     0   \n",
       "\n",
       "   microwave  mini fridge  mountain view  mudroom  netflix  other  \\\n",
       "0          0            0              0        0        0      0   \n",
       "1          1            0              0        0        0      0   \n",
       "\n",
       "   other pet(s)  outdoor parking  outdoor seating  outlet covers  oven  \\\n",
       "0             0                0                0              0     0   \n",
       "1             0                0                0              0     1   \n",
       "\n",
       "   pack ’n play/travel crib  paid parking off premises  \\\n",
       "0                         0                          0   \n",
       "1                         0                          0   \n",
       "\n",
       "   paid parking on premises  patio or balcony  pets allowed  \\\n",
       "0                         0                 0             0   \n",
       "1                         0                 0             0   \n",
       "\n",
       "   pets live on this property  pillow-top mattress  pocket wifi  pool  \\\n",
       "0                           0                    0            0     0   \n",
       "1                           1                    0            0     0   \n",
       "\n",
       "   pool with pool hoist  printer  private bathroom  private entrance  \\\n",
       "0                     0        0                 0                 0   \n",
       "1                     0        0                 0                 1   \n",
       "\n",
       "   private hot tub  private living room  projector and screen  rain shower  \\\n",
       "0                0                    1                     0            0   \n",
       "1                0                    0                     0            0   \n",
       "\n",
       "   refrigerator  roll-in shower  room-darkening shades  safety card  sauna  \\\n",
       "0             0               0                      0            1      0   \n",
       "1             1               0                      0            1      0   \n",
       "\n",
       "   self check-in  shampoo  shared gym  shared hot tub  shared pool  \\\n",
       "0              1        1           0               0            0   \n",
       "1              1        1           0               0            0   \n",
       "\n",
       "   shower chair  single level home  ski-in/ski-out  smart lock  smart tv  \\\n",
       "0             0                  0               0           1         0   \n",
       "1             0                  0               0           0         0   \n",
       "\n",
       "   smoke detector  smoking allowed  soaking tub  sound system  stair gates  \\\n",
       "0               1                0            0             0            0   \n",
       "1               1                0            0             0            0   \n",
       "\n",
       "   stand alone steam shower  standing valet  steam oven  step-free access  \\\n",
       "0                         0               0           0                 0   \n",
       "1                         0               0           0                 0   \n",
       "\n",
       "   stove  suitable for events  sun loungers  table corner guards  terrace  \\\n",
       "0      0                    0             0                    0        0   \n",
       "1      1                    0             0                    0        0   \n",
       "\n",
       "   toilet  toilet paper  translation missing: en.hosting_amenity_49  \\\n",
       "0       0             0                                           0   \n",
       "1       0             0                                           1   \n",
       "\n",
       "   translation missing: en.hosting_amenity_50  tv  walk-in shower  \\\n",
       "0                                           0   1               0   \n",
       "1                                           1   1               0   \n",
       "\n",
       "   warming drawer  washer  waterfront  well-lit path to entrance  \\\n",
       "0               0       1           0                          0   \n",
       "1               0       1           0                          0   \n",
       "\n",
       "   wheelchair accessible  wide clearance to bed  wide clearance to shower  \\\n",
       "0                      0                      0                         0   \n",
       "1                      0                      0                         0   \n",
       "\n",
       "   wide doorway  wide entryway  wide hallway clearance  wifi  window guards  \\\n",
       "0             0              0                       0     1              0   \n",
       "1             0              0                       0     1              0   \n",
       "\n",
       "   wine cooler  \n",
       "0            0  \n",
       "1            0  "
      ]
     },
     "execution_count": 884,
     "metadata": {},
     "output_type": "execute_result"
    }
   ],
   "source": [
    "# using multilabelbinarizer encode the amenities column\n",
    "\n",
    "from sklearn.preprocessing import MultiLabelBinarizer\n",
    "mlb = MultiLabelBinarizer()\n",
    "\n",
    "# Use the MultiLabelBinarizer to fit and transform amenities\n",
    "amenities_matrix = mlb.fit_transform(df_train1['amenities'])\n",
    "\n",
    "# Store this result in a DataFrame called amenities_df (similar to what we did above with host_verif_df)\n",
    "amenities_df = pd.DataFrame(amenities_matrix, columns = mlb.classes_)\n",
    "\n",
    "# check the output after using the transformer\n",
    "amenities_df.head(2)"
   ]
  },
  {
   "cell_type": "markdown",
   "metadata": {},
   "source": [
    "Take out the first column, which is like another index\n",
    "This probably occured when an empty strings in either amenities or host_verification was transformed. As such, this extra index column can be dropped."
   ]
  },
  {
   "cell_type": "code",
   "execution_count": 885,
   "metadata": {},
   "outputs": [],
   "source": [
    "# Drop the blank named column\n",
    "amenities_df = amenities_df.drop([''], axis=1)"
   ]
  },
  {
   "cell_type": "code",
   "execution_count": 886,
   "metadata": {},
   "outputs": [],
   "source": [
    "# Drop the  amenities feature from df_train\n",
    "df_train1.drop(['amenities'], axis=1,inplace=True)\n",
    "\n",
    "# Concatenate amenities_df  to the original df_train DataFrame\n",
    "df_train1 = pd.concat([df_train1, amenities_df], axis=1)\n"
   ]
  },
  {
   "cell_type": "code",
   "execution_count": 887,
   "metadata": {},
   "outputs": [
    {
     "data": {
      "text/plain": [
       "(3466, 252)"
      ]
     },
     "execution_count": 887,
     "metadata": {},
     "output_type": "execute_result"
    }
   ],
   "source": [
    "df_train1.shape"
   ]
  },
  {
   "cell_type": "code",
   "execution_count": 888,
   "metadata": {},
   "outputs": [
    {
     "data": {
      "text/plain": [
       "0       {TV,Internet,Wifi,Kitchen,\"Free street parking...\n",
       "1       {TV,Wifi,\"Free parking on premises\",\"Pets allo...\n",
       "2       {Wifi,Kitchen,\"Free parking on premises\",Heati...\n",
       "3       {TV,Wifi,\"Air conditioning\",Kitchen,\"Paid park...\n",
       "4       {TV,Internet,Wifi,\"Air conditioning\",Kitchen,\"...\n",
       "                              ...                        \n",
       "1729    {TV,Wifi,Kitchen,\"Free parking on premises\",\"P...\n",
       "1730    {TV,\"Cable TV\",Internet,Wifi,\"Wheelchair acces...\n",
       "1731    {TV,Internet,Wifi,\"Pets live on this property\"...\n",
       "1732    {Wifi,Kitchen,\"Free parking on premises\",\"Free...\n",
       "1733    {TV,\"Cable TV\",Wifi,\"Air conditioning\",Kitchen...\n",
       "Name: amenities, Length: 1734, dtype: object"
      ]
     },
     "execution_count": 888,
     "metadata": {},
     "output_type": "execute_result"
    }
   ],
   "source": [
    "df_test['amenities']"
   ]
  },
  {
   "cell_type": "code",
   "execution_count": 889,
   "metadata": {},
   "outputs": [],
   "source": [
    "# Amenities column for training data \n",
    "\n",
    "def striplist(l):\n",
    "    return([x.strip() for x in l])\n",
    "\n",
    "\n",
    "df_test['amenities'] = df_test['amenities'].str.replace('{', '') \\\n",
    "                                         .str.replace('}', '') \\\n",
    "                                         .str.replace('\"','') \\\n",
    "                                         .str.lower() \\\n",
    "                                         .str.split(',') \\\n",
    "                                         .apply(striplist)"
   ]
  },
  {
   "cell_type": "code",
   "execution_count": 890,
   "metadata": {},
   "outputs": [
    {
     "data": {
      "text/plain": [
       "0       [tv, internet, wifi, kitchen, free street park...\n",
       "1       [tv, wifi, free parking on premises, pets allo...\n",
       "2       [wifi, kitchen, free parking on premises, heat...\n",
       "3       [tv, wifi, air conditioning, kitchen, paid par...\n",
       "4       [tv, internet, wifi, air conditioning, kitchen...\n",
       "                              ...                        \n",
       "1729    [tv, wifi, kitchen, free parking on premises, ...\n",
       "1730    [tv, cable tv, internet, wifi, wheelchair acce...\n",
       "1731    [tv, internet, wifi, pets live on this propert...\n",
       "1732    [wifi, kitchen, free parking on premises, free...\n",
       "1733    [tv, cable tv, wifi, air conditioning, kitchen...\n",
       "Name: amenities, Length: 1734, dtype: object"
      ]
     },
     "execution_count": 890,
     "metadata": {},
     "output_type": "execute_result"
    }
   ],
   "source": [
    "df_test['amenities']"
   ]
  },
  {
   "cell_type": "code",
   "execution_count": 891,
   "metadata": {},
   "outputs": [],
   "source": [
    "\n",
    "#Finding length of each list and creating new feature \n",
    "\n",
    "def number_counter(val):\n",
    "    return len(val)\n",
    "\n",
    "df_test['no_of_amenities'] = df_test['amenities'].apply(lambda x: number_counter(x))"
   ]
  },
  {
   "cell_type": "code",
   "execution_count": 892,
   "metadata": {},
   "outputs": [
    {
     "data": {
      "text/plain": [
       "0    24\n",
       "1    27\n",
       "2    24\n",
       "3    34\n",
       "4    22\n",
       "Name: no_of_amenities, dtype: int64"
      ]
     },
     "execution_count": 892,
     "metadata": {},
     "output_type": "execute_result"
    }
   ],
   "source": [
    "df_test['no_of_amenities'].head(5)"
   ]
  },
  {
   "cell_type": "code",
   "execution_count": 893,
   "metadata": {},
   "outputs": [],
   "source": [
    "df_test1 = df_test.copy()"
   ]
  },
  {
   "cell_type": "code",
   "execution_count": 894,
   "metadata": {},
   "outputs": [],
   "source": [
    "df_test.drop(['amenities'],axis=1,inplace=True)"
   ]
  },
  {
   "cell_type": "code",
   "execution_count": 895,
   "metadata": {},
   "outputs": [],
   "source": [
    "from sklearn.preprocessing import MultiLabelBinarizer\n",
    "mlb = MultiLabelBinarizer()\n",
    "\n",
    "# Use the MultiLabelBinarizer to fit and transform amenities\n",
    "amenities_matrix = mlb.fit_transform(df_test1['amenities'])\n",
    "\n",
    "# Store this result in a DataFrame called amenities_df (similar to what we did above with host_verif_df)\n",
    "amenities_df = pd.DataFrame(amenities_matrix, columns = mlb.classes_)#from sklearn.preprocessing import MultiLabelBinarizer\n",
    "mlb = MultiLabelBinarizer()\n",
    "\n",
    "# Use the MultiLabelBinarizer to fit and transform amenities\n",
    "amenities_matrix = mlb.fit_transform(df_test1['amenities'])\n",
    "\n",
    "# Store this result in a DataFrame called amenities_df (similar to what we did above with host_verif_df)\n",
    "amenities_df = pd.DataFrame(amenities_matrix, columns = mlb.classes_)"
   ]
  },
  {
   "cell_type": "code",
   "execution_count": 896,
   "metadata": {},
   "outputs": [
    {
     "data": {
      "text/html": [
       "<div>\n",
       "<style scoped>\n",
       "    .dataframe tbody tr th:only-of-type {\n",
       "        vertical-align: middle;\n",
       "    }\n",
       "\n",
       "    .dataframe tbody tr th {\n",
       "        vertical-align: top;\n",
       "    }\n",
       "\n",
       "    .dataframe thead th {\n",
       "        text-align: right;\n",
       "    }\n",
       "</style>\n",
       "<table border=\"1\" class=\"dataframe\">\n",
       "  <thead>\n",
       "    <tr style=\"text-align: right;\">\n",
       "      <th></th>\n",
       "      <th>24-hour check-in</th>\n",
       "      <th>accessible-height bed</th>\n",
       "      <th>accessible-height toilet</th>\n",
       "      <th>air conditioning</th>\n",
       "      <th>alfresco bathtub</th>\n",
       "      <th>amazon echo</th>\n",
       "      <th>baby bath</th>\n",
       "      <th>baby monitor</th>\n",
       "      <th>babysitter recommendations</th>\n",
       "      <th>balcony</th>\n",
       "      <th>bath towel</th>\n",
       "      <th>bathroom essentials</th>\n",
       "      <th>bathtub</th>\n",
       "      <th>bathtub with bath chair</th>\n",
       "      <th>bbq grill</th>\n",
       "      <th>beach essentials</th>\n",
       "      <th>beachfront</th>\n",
       "      <th>bed linens</th>\n",
       "      <th>bedroom comforts</th>\n",
       "      <th>body soap</th>\n",
       "      <th>breakfast</th>\n",
       "      <th>breakfast table</th>\n",
       "      <th>building staff</th>\n",
       "      <th>buzzer/wireless intercom</th>\n",
       "      <th>cable tv</th>\n",
       "      <th>carbon monoxide detector</th>\n",
       "      <th>cat(s)</th>\n",
       "      <th>ceiling fan</th>\n",
       "      <th>changing table</th>\n",
       "      <th>children’s books and toys</th>\n",
       "      <th>children’s dinnerware</th>\n",
       "      <th>cleaning before checkout</th>\n",
       "      <th>coffee maker</th>\n",
       "      <th>convection oven</th>\n",
       "      <th>cooking basics</th>\n",
       "      <th>crib</th>\n",
       "      <th>day bed</th>\n",
       "      <th>disabled parking spot</th>\n",
       "      <th>dishes and silverware</th>\n",
       "      <th>dishwasher</th>\n",
       "      <th>dog(s)</th>\n",
       "      <th>doorman</th>\n",
       "      <th>dryer</th>\n",
       "      <th>dvd player</th>\n",
       "      <th>electric profiling bed</th>\n",
       "      <th>elevator</th>\n",
       "      <th>en suite bathroom</th>\n",
       "      <th>espresso machine</th>\n",
       "      <th>essentials</th>\n",
       "      <th>ethernet connection</th>\n",
       "      <th>ev charger</th>\n",
       "      <th>exercise equipment</th>\n",
       "      <th>extra pillows and blankets</th>\n",
       "      <th>family/kid friendly</th>\n",
       "      <th>fire extinguisher</th>\n",
       "      <th>fire pit</th>\n",
       "      <th>fireplace guards</th>\n",
       "      <th>firm mattress</th>\n",
       "      <th>first aid kit</th>\n",
       "      <th>fixed grab bars for shower</th>\n",
       "      <th>fixed grab bars for toilet</th>\n",
       "      <th>flat path to front door</th>\n",
       "      <th>formal dining area</th>\n",
       "      <th>free parking on premises</th>\n",
       "      <th>free street parking</th>\n",
       "      <th>full kitchen</th>\n",
       "      <th>game console</th>\n",
       "      <th>garden or backyard</th>\n",
       "      <th>gas oven</th>\n",
       "      <th>ground floor access</th>\n",
       "      <th>gym</th>\n",
       "      <th>hair dryer</th>\n",
       "      <th>hammock</th>\n",
       "      <th>handheld shower head</th>\n",
       "      <th>hangers</th>\n",
       "      <th>hbo go</th>\n",
       "      <th>heat lamps</th>\n",
       "      <th>heated floors</th>\n",
       "      <th>heated towel rack</th>\n",
       "      <th>heating</th>\n",
       "      <th>high chair</th>\n",
       "      <th>high-resolution computer monitor</th>\n",
       "      <th>host greets you</th>\n",
       "      <th>hot tub</th>\n",
       "      <th>hot water</th>\n",
       "      <th>hot water kettle</th>\n",
       "      <th>indoor fireplace</th>\n",
       "      <th>internet</th>\n",
       "      <th>iron</th>\n",
       "      <th>jetted tub</th>\n",
       "      <th>keypad</th>\n",
       "      <th>kitchen</th>\n",
       "      <th>kitchenette</th>\n",
       "      <th>lake access</th>\n",
       "      <th>laptop friendly workspace</th>\n",
       "      <th>lock on bedroom door</th>\n",
       "      <th>lockbox</th>\n",
       "      <th>long term stays allowed</th>\n",
       "      <th>luggage dropoff allowed</th>\n",
       "      <th>memory foam mattress</th>\n",
       "      <th>microwave</th>\n",
       "      <th>mini fridge</th>\n",
       "      <th>mountain view</th>\n",
       "      <th>mudroom</th>\n",
       "      <th>murphy bed</th>\n",
       "      <th>netflix</th>\n",
       "      <th>other</th>\n",
       "      <th>other pet(s)</th>\n",
       "      <th>outdoor parking</th>\n",
       "      <th>outdoor seating</th>\n",
       "      <th>outlet covers</th>\n",
       "      <th>oven</th>\n",
       "      <th>pack ’n play/travel crib</th>\n",
       "      <th>paid parking off premises</th>\n",
       "      <th>paid parking on premises</th>\n",
       "      <th>patio or balcony</th>\n",
       "      <th>pets allowed</th>\n",
       "      <th>pets live on this property</th>\n",
       "      <th>pillow-top mattress</th>\n",
       "      <th>pocket wifi</th>\n",
       "      <th>pool</th>\n",
       "      <th>private bathroom</th>\n",
       "      <th>private entrance</th>\n",
       "      <th>private gym</th>\n",
       "      <th>private living room</th>\n",
       "      <th>rain shower</th>\n",
       "      <th>refrigerator</th>\n",
       "      <th>roll-in shower</th>\n",
       "      <th>room-darkening shades</th>\n",
       "      <th>safety card</th>\n",
       "      <th>sauna</th>\n",
       "      <th>self check-in</th>\n",
       "      <th>shampoo</th>\n",
       "      <th>shared gym</th>\n",
       "      <th>shared hot tub</th>\n",
       "      <th>shared pool</th>\n",
       "      <th>shower chair</th>\n",
       "      <th>single level home</th>\n",
       "      <th>ski-in/ski-out</th>\n",
       "      <th>smart lock</th>\n",
       "      <th>smart tv</th>\n",
       "      <th>smoke detector</th>\n",
       "      <th>smoking allowed</th>\n",
       "      <th>soaking tub</th>\n",
       "      <th>sound system</th>\n",
       "      <th>stair gates</th>\n",
       "      <th>step-free access</th>\n",
       "      <th>stove</th>\n",
       "      <th>suitable for events</th>\n",
       "      <th>sun loungers</th>\n",
       "      <th>table corner guards</th>\n",
       "      <th>tennis court</th>\n",
       "      <th>terrace</th>\n",
       "      <th>toilet</th>\n",
       "      <th>toilet paper</th>\n",
       "      <th>translation missing: en.hosting_amenity_49</th>\n",
       "      <th>translation missing: en.hosting_amenity_50</th>\n",
       "      <th>tv</th>\n",
       "      <th>walk-in shower</th>\n",
       "      <th>warming drawer</th>\n",
       "      <th>washer</th>\n",
       "      <th>waterfront</th>\n",
       "      <th>well-lit path to entrance</th>\n",
       "      <th>wheelchair accessible</th>\n",
       "      <th>wide clearance to bed</th>\n",
       "      <th>wide clearance to shower</th>\n",
       "      <th>wide doorway</th>\n",
       "      <th>wide entryway</th>\n",
       "      <th>wide hallway clearance</th>\n",
       "      <th>wifi</th>\n",
       "      <th>window guards</th>\n",
       "    </tr>\n",
       "  </thead>\n",
       "  <tbody>\n",
       "    <tr>\n",
       "      <th>0</th>\n",
       "      <td>1</td>\n",
       "      <td>0</td>\n",
       "      <td>0</td>\n",
       "      <td>0</td>\n",
       "      <td>0</td>\n",
       "      <td>0</td>\n",
       "      <td>0</td>\n",
       "      <td>0</td>\n",
       "      <td>0</td>\n",
       "      <td>0</td>\n",
       "      <td>0</td>\n",
       "      <td>0</td>\n",
       "      <td>0</td>\n",
       "      <td>0</td>\n",
       "      <td>0</td>\n",
       "      <td>0</td>\n",
       "      <td>0</td>\n",
       "      <td>0</td>\n",
       "      <td>0</td>\n",
       "      <td>0</td>\n",
       "      <td>0</td>\n",
       "      <td>0</td>\n",
       "      <td>0</td>\n",
       "      <td>0</td>\n",
       "      <td>0</td>\n",
       "      <td>1</td>\n",
       "      <td>0</td>\n",
       "      <td>0</td>\n",
       "      <td>0</td>\n",
       "      <td>0</td>\n",
       "      <td>0</td>\n",
       "      <td>0</td>\n",
       "      <td>0</td>\n",
       "      <td>0</td>\n",
       "      <td>0</td>\n",
       "      <td>0</td>\n",
       "      <td>0</td>\n",
       "      <td>0</td>\n",
       "      <td>0</td>\n",
       "      <td>0</td>\n",
       "      <td>0</td>\n",
       "      <td>0</td>\n",
       "      <td>1</td>\n",
       "      <td>0</td>\n",
       "      <td>0</td>\n",
       "      <td>0</td>\n",
       "      <td>0</td>\n",
       "      <td>0</td>\n",
       "      <td>1</td>\n",
       "      <td>0</td>\n",
       "      <td>0</td>\n",
       "      <td>0</td>\n",
       "      <td>0</td>\n",
       "      <td>1</td>\n",
       "      <td>1</td>\n",
       "      <td>0</td>\n",
       "      <td>0</td>\n",
       "      <td>0</td>\n",
       "      <td>1</td>\n",
       "      <td>0</td>\n",
       "      <td>0</td>\n",
       "      <td>0</td>\n",
       "      <td>0</td>\n",
       "      <td>0</td>\n",
       "      <td>1</td>\n",
       "      <td>0</td>\n",
       "      <td>0</td>\n",
       "      <td>0</td>\n",
       "      <td>0</td>\n",
       "      <td>0</td>\n",
       "      <td>0</td>\n",
       "      <td>1</td>\n",
       "      <td>0</td>\n",
       "      <td>0</td>\n",
       "      <td>1</td>\n",
       "      <td>0</td>\n",
       "      <td>0</td>\n",
       "      <td>0</td>\n",
       "      <td>0</td>\n",
       "      <td>1</td>\n",
       "      <td>0</td>\n",
       "      <td>0</td>\n",
       "      <td>0</td>\n",
       "      <td>0</td>\n",
       "      <td>1</td>\n",
       "      <td>0</td>\n",
       "      <td>0</td>\n",
       "      <td>1</td>\n",
       "      <td>1</td>\n",
       "      <td>0</td>\n",
       "      <td>0</td>\n",
       "      <td>1</td>\n",
       "      <td>0</td>\n",
       "      <td>0</td>\n",
       "      <td>1</td>\n",
       "      <td>0</td>\n",
       "      <td>0</td>\n",
       "      <td>1</td>\n",
       "      <td>0</td>\n",
       "      <td>0</td>\n",
       "      <td>0</td>\n",
       "      <td>0</td>\n",
       "      <td>0</td>\n",
       "      <td>0</td>\n",
       "      <td>0</td>\n",
       "      <td>0</td>\n",
       "      <td>1</td>\n",
       "      <td>0</td>\n",
       "      <td>0</td>\n",
       "      <td>0</td>\n",
       "      <td>0</td>\n",
       "      <td>0</td>\n",
       "      <td>0</td>\n",
       "      <td>0</td>\n",
       "      <td>0</td>\n",
       "      <td>0</td>\n",
       "      <td>0</td>\n",
       "      <td>0</td>\n",
       "      <td>0</td>\n",
       "      <td>0</td>\n",
       "      <td>0</td>\n",
       "      <td>0</td>\n",
       "      <td>0</td>\n",
       "      <td>0</td>\n",
       "      <td>0</td>\n",
       "      <td>0</td>\n",
       "      <td>0</td>\n",
       "      <td>0</td>\n",
       "      <td>0</td>\n",
       "      <td>1</td>\n",
       "      <td>0</td>\n",
       "      <td>0</td>\n",
       "      <td>1</td>\n",
       "      <td>0</td>\n",
       "      <td>0</td>\n",
       "      <td>0</td>\n",
       "      <td>0</td>\n",
       "      <td>0</td>\n",
       "      <td>0</td>\n",
       "      <td>0</td>\n",
       "      <td>0</td>\n",
       "      <td>1</td>\n",
       "      <td>0</td>\n",
       "      <td>0</td>\n",
       "      <td>0</td>\n",
       "      <td>0</td>\n",
       "      <td>0</td>\n",
       "      <td>0</td>\n",
       "      <td>0</td>\n",
       "      <td>0</td>\n",
       "      <td>0</td>\n",
       "      <td>0</td>\n",
       "      <td>0</td>\n",
       "      <td>0</td>\n",
       "      <td>0</td>\n",
       "      <td>0</td>\n",
       "      <td>0</td>\n",
       "      <td>1</td>\n",
       "      <td>0</td>\n",
       "      <td>0</td>\n",
       "      <td>1</td>\n",
       "      <td>0</td>\n",
       "      <td>0</td>\n",
       "      <td>0</td>\n",
       "      <td>0</td>\n",
       "      <td>0</td>\n",
       "      <td>0</td>\n",
       "      <td>0</td>\n",
       "      <td>0</td>\n",
       "      <td>1</td>\n",
       "      <td>0</td>\n",
       "    </tr>\n",
       "    <tr>\n",
       "      <th>1</th>\n",
       "      <td>0</td>\n",
       "      <td>0</td>\n",
       "      <td>0</td>\n",
       "      <td>0</td>\n",
       "      <td>0</td>\n",
       "      <td>0</td>\n",
       "      <td>0</td>\n",
       "      <td>0</td>\n",
       "      <td>0</td>\n",
       "      <td>0</td>\n",
       "      <td>0</td>\n",
       "      <td>0</td>\n",
       "      <td>0</td>\n",
       "      <td>0</td>\n",
       "      <td>0</td>\n",
       "      <td>0</td>\n",
       "      <td>0</td>\n",
       "      <td>0</td>\n",
       "      <td>0</td>\n",
       "      <td>0</td>\n",
       "      <td>1</td>\n",
       "      <td>0</td>\n",
       "      <td>0</td>\n",
       "      <td>0</td>\n",
       "      <td>0</td>\n",
       "      <td>0</td>\n",
       "      <td>0</td>\n",
       "      <td>0</td>\n",
       "      <td>0</td>\n",
       "      <td>0</td>\n",
       "      <td>0</td>\n",
       "      <td>0</td>\n",
       "      <td>0</td>\n",
       "      <td>0</td>\n",
       "      <td>0</td>\n",
       "      <td>0</td>\n",
       "      <td>0</td>\n",
       "      <td>0</td>\n",
       "      <td>0</td>\n",
       "      <td>0</td>\n",
       "      <td>1</td>\n",
       "      <td>0</td>\n",
       "      <td>1</td>\n",
       "      <td>0</td>\n",
       "      <td>0</td>\n",
       "      <td>0</td>\n",
       "      <td>0</td>\n",
       "      <td>0</td>\n",
       "      <td>1</td>\n",
       "      <td>0</td>\n",
       "      <td>0</td>\n",
       "      <td>0</td>\n",
       "      <td>0</td>\n",
       "      <td>1</td>\n",
       "      <td>1</td>\n",
       "      <td>0</td>\n",
       "      <td>0</td>\n",
       "      <td>0</td>\n",
       "      <td>0</td>\n",
       "      <td>0</td>\n",
       "      <td>0</td>\n",
       "      <td>0</td>\n",
       "      <td>0</td>\n",
       "      <td>1</td>\n",
       "      <td>0</td>\n",
       "      <td>0</td>\n",
       "      <td>0</td>\n",
       "      <td>0</td>\n",
       "      <td>0</td>\n",
       "      <td>0</td>\n",
       "      <td>0</td>\n",
       "      <td>1</td>\n",
       "      <td>0</td>\n",
       "      <td>0</td>\n",
       "      <td>1</td>\n",
       "      <td>0</td>\n",
       "      <td>0</td>\n",
       "      <td>0</td>\n",
       "      <td>0</td>\n",
       "      <td>1</td>\n",
       "      <td>0</td>\n",
       "      <td>0</td>\n",
       "      <td>0</td>\n",
       "      <td>0</td>\n",
       "      <td>1</td>\n",
       "      <td>0</td>\n",
       "      <td>1</td>\n",
       "      <td>0</td>\n",
       "      <td>1</td>\n",
       "      <td>0</td>\n",
       "      <td>1</td>\n",
       "      <td>0</td>\n",
       "      <td>0</td>\n",
       "      <td>0</td>\n",
       "      <td>1</td>\n",
       "      <td>0</td>\n",
       "      <td>0</td>\n",
       "      <td>1</td>\n",
       "      <td>1</td>\n",
       "      <td>0</td>\n",
       "      <td>0</td>\n",
       "      <td>0</td>\n",
       "      <td>0</td>\n",
       "      <td>0</td>\n",
       "      <td>0</td>\n",
       "      <td>0</td>\n",
       "      <td>0</td>\n",
       "      <td>0</td>\n",
       "      <td>0</td>\n",
       "      <td>0</td>\n",
       "      <td>0</td>\n",
       "      <td>0</td>\n",
       "      <td>0</td>\n",
       "      <td>0</td>\n",
       "      <td>0</td>\n",
       "      <td>0</td>\n",
       "      <td>1</td>\n",
       "      <td>1</td>\n",
       "      <td>0</td>\n",
       "      <td>0</td>\n",
       "      <td>0</td>\n",
       "      <td>0</td>\n",
       "      <td>1</td>\n",
       "      <td>0</td>\n",
       "      <td>0</td>\n",
       "      <td>0</td>\n",
       "      <td>0</td>\n",
       "      <td>0</td>\n",
       "      <td>0</td>\n",
       "      <td>1</td>\n",
       "      <td>0</td>\n",
       "      <td>1</td>\n",
       "      <td>1</td>\n",
       "      <td>0</td>\n",
       "      <td>0</td>\n",
       "      <td>0</td>\n",
       "      <td>0</td>\n",
       "      <td>0</td>\n",
       "      <td>0</td>\n",
       "      <td>0</td>\n",
       "      <td>0</td>\n",
       "      <td>1</td>\n",
       "      <td>0</td>\n",
       "      <td>0</td>\n",
       "      <td>0</td>\n",
       "      <td>0</td>\n",
       "      <td>0</td>\n",
       "      <td>0</td>\n",
       "      <td>0</td>\n",
       "      <td>0</td>\n",
       "      <td>0</td>\n",
       "      <td>0</td>\n",
       "      <td>0</td>\n",
       "      <td>0</td>\n",
       "      <td>0</td>\n",
       "      <td>0</td>\n",
       "      <td>0</td>\n",
       "      <td>1</td>\n",
       "      <td>0</td>\n",
       "      <td>0</td>\n",
       "      <td>1</td>\n",
       "      <td>0</td>\n",
       "      <td>0</td>\n",
       "      <td>0</td>\n",
       "      <td>0</td>\n",
       "      <td>0</td>\n",
       "      <td>0</td>\n",
       "      <td>0</td>\n",
       "      <td>0</td>\n",
       "      <td>1</td>\n",
       "      <td>0</td>\n",
       "    </tr>\n",
       "  </tbody>\n",
       "</table>\n",
       "</div>"
      ],
      "text/plain": [
       "   24-hour check-in  accessible-height bed  accessible-height toilet  \\\n",
       "0                 1                      0                         0   \n",
       "1                 0                      0                         0   \n",
       "\n",
       "   air conditioning  alfresco bathtub  amazon echo  baby bath  baby monitor  \\\n",
       "0                 0                 0            0          0             0   \n",
       "1                 0                 0            0          0             0   \n",
       "\n",
       "   babysitter recommendations  balcony  bath towel  bathroom essentials  \\\n",
       "0                           0        0           0                    0   \n",
       "1                           0        0           0                    0   \n",
       "\n",
       "   bathtub  bathtub with bath chair  bbq grill  beach essentials  beachfront  \\\n",
       "0        0                        0          0                 0           0   \n",
       "1        0                        0          0                 0           0   \n",
       "\n",
       "   bed linens  bedroom comforts  body soap  breakfast  breakfast table  \\\n",
       "0           0                 0          0          0                0   \n",
       "1           0                 0          0          1                0   \n",
       "\n",
       "   building staff  buzzer/wireless intercom  cable tv  \\\n",
       "0               0                         0         0   \n",
       "1               0                         0         0   \n",
       "\n",
       "   carbon monoxide detector  cat(s)  ceiling fan  changing table  \\\n",
       "0                         1       0            0               0   \n",
       "1                         0       0            0               0   \n",
       "\n",
       "   children’s books and toys  children’s dinnerware  cleaning before checkout  \\\n",
       "0                          0                      0                         0   \n",
       "1                          0                      0                         0   \n",
       "\n",
       "   coffee maker  convection oven  cooking basics  crib  day bed  \\\n",
       "0             0                0               0     0        0   \n",
       "1             0                0               0     0        0   \n",
       "\n",
       "   disabled parking spot  dishes and silverware  dishwasher  dog(s)  doorman  \\\n",
       "0                      0                      0           0       0        0   \n",
       "1                      0                      0           0       1        0   \n",
       "\n",
       "   dryer  dvd player  electric profiling bed  elevator  en suite bathroom  \\\n",
       "0      1           0                       0         0                  0   \n",
       "1      1           0                       0         0                  0   \n",
       "\n",
       "   espresso machine  essentials  ethernet connection  ev charger  \\\n",
       "0                 0           1                    0           0   \n",
       "1                 0           1                    0           0   \n",
       "\n",
       "   exercise equipment  extra pillows and blankets  family/kid friendly  \\\n",
       "0                   0                           0                    1   \n",
       "1                   0                           0                    1   \n",
       "\n",
       "   fire extinguisher  fire pit  fireplace guards  firm mattress  \\\n",
       "0                  1         0                 0              0   \n",
       "1                  1         0                 0              0   \n",
       "\n",
       "   first aid kit  fixed grab bars for shower  fixed grab bars for toilet  \\\n",
       "0              1                           0                           0   \n",
       "1              0                           0                           0   \n",
       "\n",
       "   flat path to front door  formal dining area  free parking on premises  \\\n",
       "0                        0                   0                         0   \n",
       "1                        0                   0                         1   \n",
       "\n",
       "   free street parking  full kitchen  game console  garden or backyard  \\\n",
       "0                    1             0             0                   0   \n",
       "1                    0             0             0                   0   \n",
       "\n",
       "   gas oven  ground floor access  gym  hair dryer  hammock  \\\n",
       "0         0                    0    0           1        0   \n",
       "1         0                    0    0           1        0   \n",
       "\n",
       "   handheld shower head  hangers  hbo go  heat lamps  heated floors  \\\n",
       "0                     0        1       0           0              0   \n",
       "1                     0        1       0           0              0   \n",
       "\n",
       "   heated towel rack  heating  high chair  high-resolution computer monitor  \\\n",
       "0                  0        1           0                                 0   \n",
       "1                  0        1           0                                 0   \n",
       "\n",
       "   host greets you  hot tub  hot water  hot water kettle  indoor fireplace  \\\n",
       "0                0        0          1                 0                 0   \n",
       "1                0        0          1                 0                 1   \n",
       "\n",
       "   internet  iron  jetted tub  keypad  kitchen  kitchenette  lake access  \\\n",
       "0         1     1           0       0        1            0            0   \n",
       "1         0     1           0       1        0            0            0   \n",
       "\n",
       "   laptop friendly workspace  lock on bedroom door  lockbox  \\\n",
       "0                          1                     0        0   \n",
       "1                          1                     0        0   \n",
       "\n",
       "   long term stays allowed  luggage dropoff allowed  memory foam mattress  \\\n",
       "0                        1                        0                     0   \n",
       "1                        1                        1                     0   \n",
       "\n",
       "   microwave  mini fridge  mountain view  mudroom  murphy bed  netflix  other  \\\n",
       "0          0            0              0        0           0        0      1   \n",
       "1          0            0              0        0           0        0      0   \n",
       "\n",
       "   other pet(s)  outdoor parking  outdoor seating  outlet covers  oven  \\\n",
       "0             0                0                0              0     0   \n",
       "1             0                0                0              0     0   \n",
       "\n",
       "   pack ’n play/travel crib  paid parking off premises  \\\n",
       "0                         0                          0   \n",
       "1                         0                          0   \n",
       "\n",
       "   paid parking on premises  patio or balcony  pets allowed  \\\n",
       "0                         0                 0             0   \n",
       "1                         0                 0             1   \n",
       "\n",
       "   pets live on this property  pillow-top mattress  pocket wifi  pool  \\\n",
       "0                           0                    0            0     0   \n",
       "1                           1                    0            0     0   \n",
       "\n",
       "   private bathroom  private entrance  private gym  private living room  \\\n",
       "0                 0                 0            0                    0   \n",
       "1                 0                 1            0                    0   \n",
       "\n",
       "   rain shower  refrigerator  roll-in shower  room-darkening shades  \\\n",
       "0            0             0               0                      0   \n",
       "1            0             0               0                      0   \n",
       "\n",
       "   safety card  sauna  self check-in  shampoo  shared gym  shared hot tub  \\\n",
       "0            1      0              0        1           0               0   \n",
       "1            1      0              1        1           0               0   \n",
       "\n",
       "   shared pool  shower chair  single level home  ski-in/ski-out  smart lock  \\\n",
       "0            0             0                  0               0           0   \n",
       "1            0             0                  0               0           0   \n",
       "\n",
       "   smart tv  smoke detector  smoking allowed  soaking tub  sound system  \\\n",
       "0         0               1                0            0             0   \n",
       "1         0               1                0            0             0   \n",
       "\n",
       "   stair gates  step-free access  stove  suitable for events  sun loungers  \\\n",
       "0            0                 0      0                    0             0   \n",
       "1            0                 0      0                    0             0   \n",
       "\n",
       "   table corner guards  tennis court  terrace  toilet  toilet paper  \\\n",
       "0                    0             0        0       0             0   \n",
       "1                    0             0        0       0             0   \n",
       "\n",
       "   translation missing: en.hosting_amenity_49  \\\n",
       "0                                           0   \n",
       "1                                           0   \n",
       "\n",
       "   translation missing: en.hosting_amenity_50  tv  walk-in shower  \\\n",
       "0                                           0   1               0   \n",
       "1                                           0   1               0   \n",
       "\n",
       "   warming drawer  washer  waterfront  well-lit path to entrance  \\\n",
       "0               0       1           0                          0   \n",
       "1               0       1           0                          0   \n",
       "\n",
       "   wheelchair accessible  wide clearance to bed  wide clearance to shower  \\\n",
       "0                      0                      0                         0   \n",
       "1                      0                      0                         0   \n",
       "\n",
       "   wide doorway  wide entryway  wide hallway clearance  wifi  window guards  \n",
       "0             0              0                       0     1              0  \n",
       "1             0              0                       0     1              0  "
      ]
     },
     "execution_count": 896,
     "metadata": {},
     "output_type": "execute_result"
    }
   ],
   "source": [
    "# check the output after using the transformer\n",
    "amenities_df.head(2)"
   ]
  },
  {
   "cell_type": "code",
   "execution_count": 897,
   "metadata": {},
   "outputs": [],
   "source": [
    "# Drop the  amenities feature from df_train\n",
    "df_test1.drop(['amenities'], axis=1,inplace=True)\n",
    "\n",
    "# Concatenate amenities_df  to the original df_train DataFrame\n",
    "df_test1 = pd.concat([df_test1, amenities_df], axis=1)\n"
   ]
  },
  {
   "cell_type": "code",
   "execution_count": 898,
   "metadata": {},
   "outputs": [
    {
     "data": {
      "text/plain": [
       "(1734, 240)"
      ]
     },
     "execution_count": 898,
     "metadata": {},
     "output_type": "execute_result"
    }
   ],
   "source": [
    "df_test1.shape"
   ]
  },
  {
   "cell_type": "code",
   "execution_count": 899,
   "metadata": {},
   "outputs": [],
   "source": [
    "# label binarizer has created unnecessary no of columns\n",
    "# so we will follow the method 1"
   ]
  },
  {
   "cell_type": "markdown",
   "metadata": {},
   "source": [
    "# Analysis of target feature"
   ]
  },
  {
   "cell_type": "code",
   "execution_count": 900,
   "metadata": {},
   "outputs": [
    {
     "data": {
      "text/plain": [
       "count    3466.000000\n",
       "mean      148.706001\n",
       "std       128.111704\n",
       "min         0.000000\n",
       "25%        79.000000\n",
       "50%       112.000000\n",
       "75%       175.000000\n",
       "max       999.000000\n",
       "Name: price, dtype: float64"
      ]
     },
     "execution_count": 900,
     "metadata": {},
     "output_type": "execute_result"
    }
   ],
   "source": [
    "df_train['price'].describe()"
   ]
  },
  {
   "cell_type": "code",
   "execution_count": 901,
   "metadata": {},
   "outputs": [
    {
     "data": {
      "text/plain": [
       "3.4409284865092866"
      ]
     },
     "execution_count": 901,
     "metadata": {},
     "output_type": "execute_result"
    }
   ],
   "source": [
    "df_train['price'].skew()"
   ]
  },
  {
   "cell_type": "code",
   "execution_count": 902,
   "metadata": {},
   "outputs": [
    {
     "data": {
      "text/plain": [
       "<matplotlib.axes._subplots.AxesSubplot at 0x1ec4cd71400>"
      ]
     },
     "execution_count": 902,
     "metadata": {},
     "output_type": "execute_result"
    },
    {
     "data": {
      "image/png": "[encoded data removed]",
      "text/plain": [
       "<Figure size 432x288 with 1 Axes>"
      ]
     },
     "metadata": {
      "needs_background": "light"
     },
     "output_type": "display_data"
    }
   ],
   "source": [
    "sns.distplot(df_train['price'])"
   ]
  },
  {
   "cell_type": "code",
   "execution_count": 903,
   "metadata": {},
   "outputs": [],
   "source": [
    "# use log transformation\n",
    "\n",
    "df_train['price']=np.log(df_train['price']+1)"
   ]
  },
  {
   "cell_type": "code",
   "execution_count": 904,
   "metadata": {},
   "outputs": [
    {
     "data": {
      "text/plain": [
       "<matplotlib.axes._subplots.AxesSubplot at 0x1ec4ccd5190>"
      ]
     },
     "execution_count": 904,
     "metadata": {},
     "output_type": "execute_result"
    },
    {
     "data": {
      "image/png": "[encoded data removed]",
      "text/plain": [
       "<Figure size 432x288 with 1 Axes>"
      ]
     },
     "metadata": {
      "needs_background": "light"
     },
     "output_type": "display_data"
    }
   ],
   "source": [
    "sns.distplot(df_train['price'])"
   ]
  },
  {
   "cell_type": "code",
   "execution_count": 905,
   "metadata": {},
   "outputs": [
    {
     "data": {
      "text/plain": [
       "0.193868997322154"
      ]
     },
     "execution_count": 905,
     "metadata": {},
     "output_type": "execute_result"
    }
   ],
   "source": [
    "df_train['price'].skew()"
   ]
  },
  {
   "cell_type": "code",
   "execution_count": 906,
   "metadata": {},
   "outputs": [],
   "source": [
    "# thus skewness has been treated"
   ]
  },
  {
   "cell_type": "markdown",
   "metadata": {},
   "source": [
    "# Modelling"
   ]
  },
  {
   "cell_type": "code",
   "execution_count": 912,
   "metadata": {},
   "outputs": [
    {
     "data": {
      "text/plain": [
       "62.34794136335287"
      ]
     },
     "execution_count": 912,
     "metadata": {},
     "output_type": "execute_result"
    }
   ],
   "source": [
    "# with amenities column\n",
    "\n",
    "x=df_train.drop(['price'],axis=1)\n",
    "y=df_train['price']\n",
    "\n",
    "from sklearn.model_selection import train_test_split\n",
    "x_train,x_test,y_train,y_test=train_test_split(x,y,train_size=0.7,random_state=0)\n",
    "\n",
    "from sklearn.linear_model import LinearRegression\n",
    "regressor=LinearRegression()\n",
    "model=regressor.fit(x_train,y_train)\n",
    "model\n",
    "\n",
    "model.score(x_train, y_train)*100"
   ]
  },
  {
   "cell_type": "code",
   "execution_count": 913,
   "metadata": {},
   "outputs": [
    {
     "name": "stdout",
     "output_type": "stream",
     "text": [
      "                            OLS Regression Results                            \n",
      "==============================================================================\n",
      "Dep. Variable:                  price   R-squared:                       0.623\n",
      "Model:                            OLS   Adj. R-squared:                  0.613\n",
      "Method:                 Least Squares   F-statistic:                     59.19\n",
      "Date:                Fri, 26 Mar 2021   Prob (F-statistic):               0.00\n",
      "Time:                        21:46:54   Log-Likelihood:                -1268.3\n",
      "No. Observations:                2426   AIC:                             2671.\n",
      "Df Residuals:                    2359   BIC:                             3059.\n",
      "Df Model:                          66                                         \n",
      "Covariance Type:            nonrobust                                         \n",
      "====================================================================================================================\n",
      "                                                       coef    std err          t      P>|t|      [0.025      0.975]\n",
      "--------------------------------------------------------------------------------------------------------------------\n",
      "const                                                2.0996      0.050     41.607      0.000       2.001       2.199\n",
      "host_is_superhost                                    0.0141      0.010      1.399      0.162      -0.006       0.034\n",
      "host_response_rate                                   0.0073      0.019      0.375      0.708      -0.031       0.045\n",
      "host_listings_count                                  0.0503      0.011      4.425      0.000       0.028       0.073\n",
      "host_identity_verified                              -0.0108      0.010     -1.122      0.262      -0.030       0.008\n",
      "accommodates                                         0.0932      0.022      4.189      0.000       0.050       0.137\n",
      "guests_included                                     -0.0203      0.012     -1.688      0.092      -0.044       0.003\n",
      "bathrooms                                            0.0784      0.013      6.234      0.000       0.054       0.103\n",
      "bedrooms                                             0.1202      0.017      6.944      0.000       0.086       0.154\n",
      "beds                                                 0.0108      0.017      0.639      0.523      -0.022       0.044\n",
      "cleaning_fee                                         0.0812      0.014      5.692      0.000       0.053       0.109\n",
      "minimum_nights                                      -0.0256      0.009     -2.866      0.004      -0.043      -0.008\n",
      "maximum_nights                                       0.0192      0.009      2.088      0.037       0.001       0.037\n",
      "instant_bookable                                    -0.0031      0.010     -0.327      0.744      -0.022       0.016\n",
      "host_response_time_a few days or more                0.5547      0.159      3.486      0.000       0.243       0.867\n",
      "host_response_time_within a day                      0.5320      0.048     11.006      0.000       0.437       0.627\n",
      "host_response_time_within a few hours                0.5482      0.055      9.961      0.000       0.440       0.656\n",
      "host_response_time_within an hour                    0.4647      0.054      8.652      0.000       0.359       0.570\n",
      "neighbourhood_group_cleansed_Ballard                 0.1228      0.038      3.270      0.001       0.049       0.196\n",
      "neighbourhood_group_cleansed_Beacon Hill             0.0187      0.045      0.414      0.679      -0.070       0.108\n",
      "neighbourhood_group_cleansed_Capitol Hill            0.2530      0.030      8.543      0.000       0.195       0.311\n",
      "neighbourhood_group_cleansed_Cascade                 0.3125      0.049      6.370      0.000       0.216       0.409\n",
      "neighbourhood_group_cleansed_Central Area            0.1802      0.032      5.628      0.000       0.117       0.243\n",
      "neighbourhood_group_cleansed_Delridge               -0.1800      0.056     -3.239      0.001      -0.289      -0.071\n",
      "neighbourhood_group_cleansed_Downtown                0.4674      0.032     14.775      0.000       0.405       0.529\n",
      "neighbourhood_group_cleansed_Interbay                0.0204      0.166      0.123      0.902      -0.305       0.345\n",
      "neighbourhood_group_cleansed_Lake City              -0.0766      0.066     -1.161      0.246      -0.206       0.053\n",
      "neighbourhood_group_cleansed_Magnolia                0.2480      0.058      4.265      0.000       0.134       0.362\n",
      "neighbourhood_group_cleansed_Northgate              -0.0088      0.054     -0.162      0.872      -0.115       0.098\n",
      "neighbourhood_group_cleansed_Other neighborhoods     0.0459      0.024      1.876      0.061      -0.002       0.094\n",
      "neighbourhood_group_cleansed_Queen Anne              0.2904      0.035      8.316      0.000       0.222       0.359\n",
      "neighbourhood_group_cleansed_Rainier Valley         -0.0149      0.040     -0.374      0.709      -0.093       0.063\n",
      "neighbourhood_group_cleansed_Seward Park             0.1752      0.083      2.123      0.034       0.013       0.337\n",
      "neighbourhood_group_cleansed_University District     0.1765      0.051      3.480      0.001       0.077       0.276\n",
      "neighbourhood_group_cleansed_West Seattle            0.0688      0.040      1.740      0.082      -0.009       0.146\n",
      "property_type_Aparthotel                            -0.0612      0.102     -0.598      0.550      -0.262       0.139\n",
      "property_type_Apartment                              0.0436      0.047      0.926      0.355      -0.049       0.136\n",
      "property_type_Bed and breakfast                      0.2448      0.169      1.445      0.149      -0.087       0.577\n",
      "property_type_Boat                                   0.2060      0.173      1.189      0.234      -0.134       0.546\n",
      "property_type_Boutique hotel                         1.5518      0.401      3.870      0.000       0.766       2.338\n",
      "property_type_Bungalow                               0.0570      0.091      0.629      0.529      -0.121       0.235\n",
      "property_type_Cabin                                  0.0826      0.134      0.615      0.538      -0.181       0.346\n",
      "property_type_Camper/RV                             -0.0056      0.186     -0.030      0.976      -0.370       0.359\n",
      "property_type_Condominium                           -0.0396      0.057     -0.694      0.488      -0.152       0.072\n",
      "property_type_Cottage                                0.2664      0.134      1.981      0.048       0.003       0.530\n",
      "property_type_Farm stay                             -0.3812      0.401     -0.952      0.341      -1.167       0.404\n",
      "property_type_Guest suite                           -0.0584      0.052     -1.114      0.265      -0.161       0.044\n",
      "property_type_Guesthouse                             0.0462      0.066      0.696      0.487      -0.084       0.177\n",
      "property_type_Hostel                                -0.6238      0.300     -2.077      0.038      -1.213      -0.035\n",
      "property_type_House                                  0.0579      0.048      1.214      0.225      -0.036       0.151\n",
      "property_type_Houseboat                              0.2310      0.190      1.216      0.224      -0.142       0.604\n",
      "property_type_In-law                              4.068e-16   2.15e-16      1.890      0.059   -1.53e-17    8.29e-16\n",
      "property_type_Loft                                   0.1139      0.084      1.351      0.177      -0.051       0.279\n",
      "property_type_Other                                  0.0975      0.158      0.618      0.536      -0.212       0.407\n",
      "property_type_Resort                                 0.2077      0.401      0.518      0.605      -0.579       0.994\n",
      "property_type_Serviced apartment                    -0.0374      0.073     -0.510      0.610      -0.181       0.106\n",
      "property_type_Tent                                  -0.2118      0.288     -0.735      0.462      -0.776       0.353\n",
      "property_type_Tiny house                             0.1030      0.129      0.798      0.425      -0.150       0.356\n",
      "property_type_Townhouse                              0.1163      0.053      2.180      0.029       0.012       0.221\n",
      "property_type_Villa                                1.43e-16   1.27e-16      1.127      0.260   -1.06e-16    3.92e-16\n",
      "property_type_Yurt                                   0.0930      0.402      0.231      0.817      -0.696       0.882\n",
      "room_type_Entire home/apt                            1.2415      0.031     39.950      0.000       1.181       1.302\n",
      "room_type_Private room                               0.7625      0.030     25.771      0.000       0.704       0.820\n",
      "room_type_Shared room                                0.0956      0.048      1.994      0.046       0.002       0.190\n",
      "bed_type_Airbed                                      0.5837      0.202      2.883      0.004       0.187       0.981\n",
      "bed_type_Futon                                       0.4810      0.102      4.732      0.000       0.282       0.680\n",
      "bed_type_Pull-out Sofa                               0.5031      0.111      4.523      0.000       0.285       0.721\n",
      "bed_type_Real Bed                                    0.5317      0.068      7.786      0.000       0.398       0.666\n",
      "cancellation_policy_flexible                         0.2314      0.040      5.834      0.000       0.154       0.309\n",
      "cancellation_policy_moderate                         0.2598      0.038      6.917      0.000       0.186       0.333\n",
      "cancellation_policy_strict                           0.3523      0.052      6.768      0.000       0.250       0.454\n",
      "cancellation_policy_strict_14_with_grace_period      0.2387      0.035      6.757      0.000       0.169       0.308\n",
      "cancellation_policy_super_strict_30                  0.1252      0.066      1.895      0.058      -0.004       0.255\n",
      "cancellation_policy_super_strict_60                  0.8921      0.162      5.505      0.000       0.574       1.210\n",
      "no_of_amenities                                      0.0024      0.001      2.611      0.009       0.001       0.004\n",
      "==============================================================================\n",
      "Omnibus:                      589.265   Durbin-Watson:                   2.002\n",
      "Prob(Omnibus):                  0.000   Jarque-Bera (JB):            11350.006\n",
      "Skew:                          -0.647   Prob(JB):                         0.00\n",
      "Kurtosis:                      13.517   Cond. No.                     2.21e+16\n",
      "==============================================================================\n",
      "\n",
      "Warnings:\n",
      "[1] Standard Errors assume that the covariance matrix of the errors is correctly specified.\n",
      "[2] The smallest eigenvalue is 4.73e-27. This might indicate that there are\n",
      "strong multicollinearity problems or that the design matrix is singular.\n"
     ]
    }
   ],
   "source": [
    "# the score has improved to some extent\n",
    "# will also check the OLS study\n",
    "\n",
    "import statsmodels.api as sm\n",
    "x_train_sm = x_train\n",
    "x_train_sm = sm.add_constant(x_train_sm)\n",
    "model_0 = sm.OLS(y_train,x_train_sm).fit()\n",
    "\n",
    "\n",
    "print(model_0.summary())"
   ]
  },
  {
   "cell_type": "code",
   "execution_count": 914,
   "metadata": {},
   "outputs": [
    {
     "name": "stdout",
     "output_type": "stream",
     "text": [
      "MAE: 0.29024248167465605\n",
      "MSE: 0.1665810105360077\n",
      "RMSE: 0.4081433700747909\n"
     ]
    }
   ],
   "source": [
    "from sklearn import metrics\n",
    "\n",
    "y_pred = model.predict(x_train)\n",
    "\n",
    "print('MAE:', metrics.mean_absolute_error(y_train, y_pred))\n",
    "print('MSE:', metrics.mean_squared_error(y_train, y_pred))\n",
    "print('RMSE:', np.sqrt(metrics.mean_squared_error(y_train, y_pred)))"
   ]
  },
  {
   "cell_type": "markdown",
   "metadata": {},
   "source": [
    "## Random Forest"
   ]
  },
  {
   "cell_type": "code",
   "execution_count": 922,
   "metadata": {},
   "outputs": [
    {
     "data": {
      "text/plain": [
       "RandomForestRegressor(max_depth=11, n_estimators=1000)"
      ]
     },
     "execution_count": 922,
     "metadata": {},
     "output_type": "execute_result"
    }
   ],
   "source": [
    "#Declearing the Random Forest Model\n",
    "RFModel = RandomForestRegressor(n_estimators=1000,max_depth=11, max_features='auto')\n",
    "\n",
    "#Fitting values in RFModel\n",
    "RFModel.fit(x_train, y_train)"
   ]
  },
  {
   "cell_type": "code",
   "execution_count": 927,
   "metadata": {},
   "outputs": [
    {
     "name": "stdout",
     "output_type": "stream",
     "text": [
      "Accuracy: 87.71743513776357\n",
      "RMSE: 0.23311107981581225\n"
     ]
    }
   ],
   "source": [
    "## Accuracy with Random Forest\n",
    "\n",
    "# Prediction with training dataset:\n",
    "y_pred = RFModel.predict(x_train)\n",
    "\n",
    "\n",
    "# Find training accuracy for this model:\n",
    "accuracy_RF = r2_score(y_train, y_pred)\n",
    "print('Accuracy:',accuracy_RF*100)\n",
    "\n",
    "# Find RMSE for training data:\n",
    "RMSE= sqrt(mean_squared_error(y_train, y_pred))\n",
    "print('RMSE:',RMSE)"
   ]
  },
  {
   "cell_type": "code",
   "execution_count": null,
   "metadata": {},
   "outputs": [],
   "source": [
    "# With random forest the accuracy has improved a lot"
   ]
  },
  {
   "cell_type": "markdown",
   "metadata": {},
   "source": [
    "# Feature Selection"
   ]
  },
  {
   "cell_type": "code",
   "execution_count": 928,
   "metadata": {},
   "outputs": [
    {
     "name": "stdout",
     "output_type": "stream",
     "text": [
      "There are 5 columns to remove out of 74.\n"
     ]
    }
   ],
   "source": [
    "\n",
    "threshold = 0.8\n",
    "\n",
    "# Calculating an absolute value correlation matrix\n",
    "corr_mat = x_train.corr().abs()\n",
    "\n",
    "# Getting upper triangle of this matrix only\n",
    "upper = pd.DataFrame(np.triu(corr_mat, k=1), columns=x_train.columns)\n",
    "\n",
    "# Select columns with correlations above threshold\n",
    "corr_col_drop = [col for col in upper.columns if any(upper[col] > threshold)]\n",
    "\n",
    "print(f'There are {len(corr_col_drop)} columns to remove out of {len(x_train.columns)}.')"
   ]
  },
  {
   "cell_type": "code",
   "execution_count": 929,
   "metadata": {},
   "outputs": [],
   "source": [
    "x_train_new = x_train.drop(corr_col_drop, axis=1)\n",
    "x_test_new = x_test.drop(corr_col_drop, axis=1)"
   ]
  },
  {
   "cell_type": "code",
   "execution_count": 930,
   "metadata": {},
   "outputs": [
    {
     "data": {
      "text/plain": [
       "RandomForestRegressor(max_depth=11, n_estimators=1000)"
      ]
     },
     "execution_count": 930,
     "metadata": {},
     "output_type": "execute_result"
    }
   ],
   "source": [
    "RFModel2 = RandomForestRegressor(n_estimators=1000,max_depth=11, max_features='auto')\n",
    "\n",
    "#Fitting values in RFModel\n",
    "RFModel2.fit(x_train, y_train)"
   ]
  },
  {
   "cell_type": "code",
   "execution_count": 931,
   "metadata": {},
   "outputs": [
    {
     "name": "stdout",
     "output_type": "stream",
     "text": [
      "Accuracy: 87.72737800281367\n",
      "RMSE: 0.233016707781409\n"
     ]
    }
   ],
   "source": [
    "## Accuracy with Random Forest model 2\n",
    "\n",
    "# Prediction with training dataset:\n",
    "y_pred = RFModel2.predict(x_train)\n",
    "\n",
    "\n",
    "# Find training accuracy for this model:\n",
    "accuracy_RF = r2_score(y_train, y_pred)\n",
    "print('Accuracy:',accuracy_RF*100)\n",
    "\n",
    "# Find RMSE for training data:\n",
    "RMSE= sqrt(mean_squared_error(y_train, y_pred))\n",
    "print('RMSE:',RMSE)"
   ]
  },
  {
   "cell_type": "markdown",
   "metadata": {},
   "source": [
    "## RandomForest showed better result"
   ]
  },
  {
   "cell_type": "code",
   "execution_count": null,
   "metadata": {},
   "outputs": [],
   "source": []
  }
 ],
 "metadata": {
  "kernelspec": {
   "display_name": "Python 3",
   "language": "python",
   "name": "python3"
  },
  "language_info": {
   "codemirror_mode": {
    "name": "ipython",
    "version": 3
   },
   "file_extension": ".py",
   "mimetype": "text/x-python",
   "name": "python",
   "nbconvert_exporter": "python",
   "pygments_lexer": "ipython3",
   "version": "3.8.3"
  }
 },
 "nbformat": 4,
 "nbformat_minor": 4
}
